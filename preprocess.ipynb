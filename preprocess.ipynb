{
 "cells": [
  {
   "cell_type": "markdown",
   "id": "240046b6",
   "metadata": {},
   "source": [
    "### Preprocess Raw-data\n",
    "start env preprocess\n"
   ]
  },
  {
   "cell_type": "code",
   "execution_count": 1,
   "id": "4f723f39",
   "metadata": {},
   "outputs": [
    {
     "name": "stdout",
     "output_type": "stream",
     "text": [
      "Looking for sentinel products in:\n",
      " /home/exjobbare/projects/datadrive0/deepSat/../dsen2_results/timeperiod1/ \n",
      "\n",
      "---- Found sentinel products: ----\n",
      "Found: T33UUB 2018-07-26 10:20:19 S2B_MSIL2A_20180726T102019_N9999_R065_T33UUB_20220422T084315_PERC.tif\n",
      "Found: T33VUC 2018-07-04 10:30:21 S2A_MSIL2A_20180704T103021_N9999_R108_T33VUC_20220421T224702_PERC.tif\n",
      "Found: T33VUD 2018-06-29 10:30:19 S2B_MSIL2A_20180629T103019_N9999_R108_T33VUD_20220422T073547_PERC.tif\n",
      "Found: T33VUE 2018-07-04 10:30:21 S2A_MSIL2A_20180704T103021_N9999_R108_T33VUE_20220421T230429_PERC.tif\n",
      "Found: T33VVD 2018-07-26 10:20:19 S2B_MSIL2A_20180726T102019_N9999_R065_T33VVD_20220422T090148_PERC.tif\n",
      "Found: T33VVE 2018-06-01 10:20:21 S2A_MSIL2A_20180601T102021_N9999_R065_T33VVE_20220421T205914_PERC.tif\n",
      "Found: T33VVF 2018-07-04 10:30:21 S2A_MSIL2A_20180704T103021_N9999_R108_T33VVF_20220422T064154_PERC.tif\n",
      "Found: T33VWE 2018-06-01 10:20:21 S2A_MSIL2A_20180601T102021_N9999_R065_T33VWE_20220421T211715_PERC.tif\n",
      "Found: T33VWF 2018-06-01 10:20:21 S2A_MSIL2A_20180601T102021_N9999_R065_T33VWF_20220421T213620_PERC.tif\n",
      "Found: T33VWG 2018-06-01 10:20:21 S2A_MSIL2A_20180601T102021_N9999_R065_T33VWG_20220421T215421_PERC.tif\n",
      "Found: T33VXF 2018-06-28 10:10:31 S2A_MSIL2A_20180628T101031_N9999_R022_T33VXF_20220421T221214_PERC.tif\n",
      "Found: T33VXG 2018-06-03 10:10:19 S2B_MSIL2A_20180603T101019_N9999_R022_T33VXG_20220422T065934_PERC.tif\n",
      "Found: T34VCL 2018-06-28 10:10:31 S2A_MSIL2A_20180628T101031_N9999_R022_T34VCL_20220421T223005_PERC.tif\n",
      "Found: T34VCM 2018-06-03 10:10:19 S2B_MSIL2A_20180603T101019_N9999_R022_T34VCM_20220422T071743_PERC.tif\n",
      "Found: T34VDR 2018-07-16 10:20:19 S2B_MSIL2A_20180716T102019_N9999_R065_T34VDR_20220422T075921_PERC.tif\n",
      "Found: T34WDS 2018-07-16 10:20:19 S2B_MSIL2A_20180716T102019_N9999_R065_T34WDS_20220422T081954_PERC.tif\n",
      "\n",
      "---- Found LULC data: ----\n",
      "Found: SE001L1_STOCKHOLM_UA2018_v013.gpkg\n",
      "Found: SE004L1_JONKOPING_UA2018_v013.gpkg\n",
      "Found: SE007L1_LINKOPING_UA2018_v013.gpkg\n",
      "Found: SE003L1_MALMO_UA2018_v013.gpkg\n",
      "Found: SE002L1_GOTEBORG_UA2018_v013.gpkg\n",
      "Found: SE005L1_UMEA_UA2018_v013.gpkg\n",
      "Found: SE006L1_UPPSALA_UA2018_v013.gpkg\n",
      "Found: SE008L1_OREBRO_UA2018_v013.gpkg\n",
      "Found: SE505L1_BORAS_UA2018_v013.gpkg\n",
      "Found: SE503L1_HELSINGBORG_UA2018_v013.gpkg\n",
      "Found: SE501L1_VASTERAS_UA2018_v013.gpkg\n",
      "Found: SE502L1_NORRKOPING_UA2018_v013.gpkg\n",
      "\n",
      " Save processed data to: \n",
      " /home/exjobbare/projects/datadrive0/deepSat/processed-data/raw_256_PERC/timeperiod1\n"
     ]
    }
   ],
   "source": [
    "long_name=('B4 (665 nm)',\n",
    " 'B3 (560 nm)',\n",
    " 'B2 (490 nm)',\n",
    " 'B8 (842 nm)',\n",
    " 'SRB5 (705 nm)',\n",
    " 'SRB6 (740 nm)',\n",
    " 'SRB7 (783 nm)',\n",
    " 'SRB8A (865 nm)',\n",
    " 'SRB11 (1610 nm)',\n",
    " 'SRB12 (2190 nm)') \n",
    "import os\n",
    "# path to 'deepSat' containing: \n",
    "# \"raw-data/AOI/tile_selection.gpkg\", \n",
    "# 'raw-data/AOI/patch_size_features.gpkg', \n",
    "# 'raw-data/LULC-Sweden/*/Data/*.gpkg'\n",
    "# 'raw-data/sentinel-2/Tidsperiod-x/'\n",
    "\n",
    "root_path = '/home/exjobbare/projects/datadrive0/deepSat/'\n",
    "timeperiod = 1 # timeperiod (tp) 1 eller 2\n",
    "\n",
    "patch_size = 256  #choose between ['64','128','256']\n",
    "source = 'dsen2' # for savedir... e.g. TCI => TCI_256 if patch_size=256\n",
    "data_source = source + '_{}_PERC'.format(patch_size)\n",
    "tp = 'timeperiod{}'.format(timeperiod)\n",
    "sdir = os.path.join(root_path,'processed-data/{source}/{tp}'.format(source=data_source,tp=tp))\n",
    "\n",
    "import glob\n",
    "import h5netcdf\n",
    "import xarray as xr\n",
    "import numpy as np\n",
    "import pandas as pd\n",
    "import rioxarray as rio\n",
    "from geopandas import read_file\n",
    "from tqdm.notebook import tqdm\n",
    "from preprocess.uaUtils import open_fua\n",
    "from preprocess.s2Utils import search_product,open_tile,clip_tile, get_tile_info, get_prod_info\n",
    "from preprocess.utils import rasterize,get_obj_within,str_to_oao, save_cube,class_dict,org_files\n",
    "\n",
    "xr.set_options(keep_attrs=True)\n",
    "\n",
    "\n",
    "# path to Urban Atlas (UA) data\n",
    "ua_paths = glob.glob(os.path.join(root_path,'raw-data/LULC-Sweden/*/Data/*.gpkg'))\n",
    "\n",
    "# path to s2 products\n",
    "#'../dsen2_results/{}/'\n",
    "s2_path = os.path.join(root_path,'../dsen2_results/{}/'.format(tp))\n",
    "#s2_path = os.path.join(root_path,'raw-data/sentinel-2/{}/'.format(tp))\n",
    "print('Looking for sentinel products in:\\n',s2_path,'\\n')\n",
    "\n",
    "# get crs\n",
    "ua_crs = read_file(ua_paths[0]).crs\n",
    "\n",
    "# path to s2 tiles to use \n",
    "s2tiles = read_file(os.path.join(root_path,'raw-data/AOI/tile_selection.gpkg')).to_crs(ua_crs)\n",
    "\n",
    "# path to scb patches of size*size\n",
    "scb_grid = read_file(os.path.join(root_path,'raw-data/AOI/patch_size_features.gpkg'),layer = \"patch_{}\".format(patch_size)).to_crs(ua_crs)\n",
    "\n",
    "\n",
    "# check that desired s2tiles existst in s2_path\n",
    "print('---- Found sentinel products: ----')\n",
    "for tile in s2tiles.itertuples():\n",
    "    prod,date= search_product(s2_path,tile.Name,source='PERC')\n",
    "    if prod:\n",
    "        for i, prod in enumerate(prod):\n",
    "            fn=os.path.basename(prod)\n",
    "            print('Found:',get_prod_info(fn)['Tile'],pd.to_datetime(date[i]),fn)\n",
    "    else:\n",
    "        print('No found sentinel products for tile:',tile.Name)\n",
    "          \n",
    "# list found FUAS\n",
    "print('\\n---- Found LULC data: ----')\n",
    "if ua_paths:\n",
    "    for ua_path in ua_paths:\n",
    "        print('Found:',os.path.basename(ua_path))\n",
    "else:\n",
    "    print('No LULC data found')\n",
    "    \n",
    "\n",
    "print('\\n Save processed data to: \\n',  sdir)"
   ]
  },
  {
   "cell_type": "code",
   "execution_count": 6,
   "id": "3a891104",
   "metadata": {},
   "outputs": [
    {
     "data": {
      "application/vnd.jupyter.widget-view+json": {
       "model_id": "89848c2ed8274afa906b45ec5f8e35cb",
       "version_major": 2,
       "version_minor": 0
      },
      "text/plain": [
       "Total progress:   0%|          | 0/12 [00:00<?, ?it/s]"
      ]
     },
     "metadata": {},
     "output_type": "display_data"
    },
    {
     "data": {
      "application/vnd.jupyter.widget-view+json": {
       "model_id": "a4cc33a9546a40a5966bc030c7fafb2e",
       "version_major": 2,
       "version_minor": 0
      },
      "text/plain": [
       "Intersecting tiles:   0%|          | 0/4 [00:00<?, ?it/s]"
      ]
     },
     "metadata": {},
     "output_type": "display_data"
    },
    {
     "data": {
      "application/vnd.jupyter.widget-view+json": {
       "model_id": "cd9c304450894840bd595d5161bd5403",
       "version_major": 2,
       "version_minor": 0
      },
      "text/plain": [
       "FUA: STOCKHOLM, Tile: 33VXF:   0%|          | 0/324 [00:00<?, ?it/s]"
      ]
     },
     "metadata": {},
     "output_type": "display_data"
    },
    {
     "data": {
      "application/vnd.jupyter.widget-view+json": {
       "model_id": "c5af6488eb054f228880d6fce81380c4",
       "version_major": 2,
       "version_minor": 0
      },
      "text/plain": [
       "FUA: STOCKHOLM, Tile: 33VXG:   0%|          | 0/233 [00:00<?, ?it/s]"
      ]
     },
     "metadata": {},
     "output_type": "display_data"
    },
    {
     "data": {
      "application/vnd.jupyter.widget-view+json": {
       "model_id": "6a3e330d30984f9cbe746f0a6c272b32",
       "version_major": 2,
       "version_minor": 0
      },
      "text/plain": [
       "FUA: STOCKHOLM, Tile: 34VCL:   0%|          | 0/284 [00:00<?, ?it/s]"
      ]
     },
     "metadata": {},
     "output_type": "display_data"
    },
    {
     "data": {
      "application/vnd.jupyter.widget-view+json": {
       "model_id": "40870ebe2558481b9682cf37fe71b474",
       "version_major": 2,
       "version_minor": 0
      },
      "text/plain": [
       "FUA: STOCKHOLM, Tile: 34VCM:   0%|          | 0/275 [00:00<?, ?it/s]"
      ]
     },
     "metadata": {},
     "output_type": "display_data"
    },
    {
     "data": {
      "application/vnd.jupyter.widget-view+json": {
       "model_id": "c6a1f73e477b46a198bc70dcda0e0094",
       "version_major": 2,
       "version_minor": 0
      },
      "text/plain": [
       "Intersecting tiles:   0%|          | 0/2 [00:00<?, ?it/s]"
      ]
     },
     "metadata": {},
     "output_type": "display_data"
    },
    {
     "data": {
      "application/vnd.jupyter.widget-view+json": {
       "model_id": "af23b1a1fee44cfa8c3d6029491ce3e6",
       "version_major": 2,
       "version_minor": 0
      },
      "text/plain": [
       "FUA: JONKOPING, Tile: 33VVD:   0%|          | 0/46 [00:00<?, ?it/s]"
      ]
     },
     "metadata": {},
     "output_type": "display_data"
    },
    {
     "data": {
      "application/vnd.jupyter.widget-view+json": {
       "model_id": "923282a4da03436484a58d2f69a8dff1",
       "version_major": 2,
       "version_minor": 0
      },
      "text/plain": [
       "FUA: JONKOPING, Tile: 33VVE:   0%|          | 0/105 [00:00<?, ?it/s]"
      ]
     },
     "metadata": {},
     "output_type": "display_data"
    },
    {
     "data": {
      "application/vnd.jupyter.widget-view+json": {
       "model_id": "99045707144f430f9293b71583a8fe1e",
       "version_major": 2,
       "version_minor": 0
      },
      "text/plain": [
       "Intersecting tiles:   0%|          | 0/3 [00:00<?, ?it/s]"
      ]
     },
     "metadata": {},
     "output_type": "display_data"
    },
    {
     "data": {
      "application/vnd.jupyter.widget-view+json": {
       "model_id": "dff989cf386c4d2c96400bb110e9caba",
       "version_major": 2,
       "version_minor": 0
      },
      "text/plain": [
       "FUA: LINKOPING, Tile: 33VVE:   0%|          | 0/12 [00:00<?, ?it/s]"
      ]
     },
     "metadata": {},
     "output_type": "display_data"
    },
    {
     "data": {
      "application/vnd.jupyter.widget-view+json": {
       "model_id": "8141af1c69ca4c7bacec0bf7b8ee7a07",
       "version_major": 2,
       "version_minor": 0
      },
      "text/plain": [
       "FUA: LINKOPING, Tile: 33VWE:   0%|          | 0/140 [00:00<?, ?it/s]"
      ]
     },
     "metadata": {},
     "output_type": "display_data"
    },
    {
     "data": {
      "application/vnd.jupyter.widget-view+json": {
       "model_id": "c670bb799b6148b9b625af98e9e911c6",
       "version_major": 2,
       "version_minor": 0
      },
      "text/plain": [
       "FUA: LINKOPING, Tile: 33VWF: 0it [00:00, ?it/s]"
      ]
     },
     "metadata": {},
     "output_type": "display_data"
    },
    {
     "data": {
      "application/vnd.jupyter.widget-view+json": {
       "model_id": "e527a7793ac24386ab933d77de870fea",
       "version_major": 2,
       "version_minor": 0
      },
      "text/plain": [
       "Intersecting tiles:   0%|          | 0/2 [00:00<?, ?it/s]"
      ]
     },
     "metadata": {},
     "output_type": "display_data"
    },
    {
     "data": {
      "application/vnd.jupyter.widget-view+json": {
       "model_id": "2df6e899b54b4afdbf43cdea9016c4c9",
       "version_major": 2,
       "version_minor": 0
      },
      "text/plain": [
       "FUA: MALMO, Tile: 33UUB:   0%|          | 0/188 [00:00<?, ?it/s]"
      ]
     },
     "metadata": {},
     "output_type": "display_data"
    },
    {
     "data": {
      "application/vnd.jupyter.widget-view+json": {
       "model_id": "ad2efdda79d04b7fb97746f06ea1714d",
       "version_major": 2,
       "version_minor": 0
      },
      "text/plain": [
       "FUA: MALMO, Tile: 33VUC: 0it [00:00, ?it/s]"
      ]
     },
     "metadata": {},
     "output_type": "display_data"
    },
    {
     "data": {
      "application/vnd.jupyter.widget-view+json": {
       "model_id": "69a59d8a251b49cebd895b07b221fb18",
       "version_major": 2,
       "version_minor": 0
      },
      "text/plain": [
       "Intersecting tiles:   0%|          | 0/2 [00:00<?, ?it/s]"
      ]
     },
     "metadata": {},
     "output_type": "display_data"
    },
    {
     "data": {
      "application/vnd.jupyter.widget-view+json": {
       "model_id": "1a3ed8156f9c40a4b1811389067714cc",
       "version_major": 2,
       "version_minor": 0
      },
      "text/plain": [
       "FUA: GOTEBORG, Tile: 33VUD:   0%|          | 0/120 [00:00<?, ?it/s]"
      ]
     },
     "metadata": {},
     "output_type": "display_data"
    },
    {
     "data": {
      "application/vnd.jupyter.widget-view+json": {
       "model_id": "ccfd199fc42c4bac984766046bac18b4",
       "version_major": 2,
       "version_minor": 0
      },
      "text/plain": [
       "FUA: GOTEBORG, Tile: 33VUE:   0%|          | 0/296 [00:00<?, ?it/s]"
      ]
     },
     "metadata": {},
     "output_type": "display_data"
    },
    {
     "data": {
      "application/vnd.jupyter.widget-view+json": {
       "model_id": "c7ab64594095462180a5cd878f984e83",
       "version_major": 2,
       "version_minor": 0
      },
      "text/plain": [
       "Intersecting tiles:   0%|          | 0/2 [00:00<?, ?it/s]"
      ]
     },
     "metadata": {},
     "output_type": "display_data"
    },
    {
     "data": {
      "application/vnd.jupyter.widget-view+json": {
       "model_id": "7a3bfcb66c1049c3990fe9eaa341821e",
       "version_major": 2,
       "version_minor": 0
      },
      "text/plain": [
       "FUA: UMEA, Tile: 34VDR:   0%|          | 0/131 [00:00<?, ?it/s]"
      ]
     },
     "metadata": {},
     "output_type": "display_data"
    },
    {
     "data": {
      "application/vnd.jupyter.widget-view+json": {
       "model_id": "ce9ea4c4d07b4e55a94a9a23b937d97f",
       "version_major": 2,
       "version_minor": 0
      },
      "text/plain": [
       "FUA: UMEA, Tile: 34WDS:   0%|          | 0/56 [00:00<?, ?it/s]"
      ]
     },
     "metadata": {},
     "output_type": "display_data"
    },
    {
     "data": {
      "application/vnd.jupyter.widget-view+json": {
       "model_id": "612148f5a47b41419505c0f6ed4dc3f9",
       "version_major": 2,
       "version_minor": 0
      },
      "text/plain": [
       "Intersecting tiles:   0%|          | 0/3 [00:00<?, ?it/s]"
      ]
     },
     "metadata": {},
     "output_type": "display_data"
    },
    {
     "data": {
      "application/vnd.jupyter.widget-view+json": {
       "model_id": "fc52698581404ed5993622098896cbd3",
       "version_major": 2,
       "version_minor": 0
      },
      "text/plain": [
       "FUA: UPPSALA, Tile: 33VWG:   0%|          | 0/9 [00:00<?, ?it/s]"
      ]
     },
     "metadata": {},
     "output_type": "display_data"
    },
    {
     "data": {
      "application/vnd.jupyter.widget-view+json": {
       "model_id": "ea70bf8139ad4708a3d38111fbc5a95c",
       "version_major": 2,
       "version_minor": 0
      },
      "text/plain": [
       "FUA: UPPSALA, Tile: 33VXG:   0%|          | 0/248 [00:00<?, ?it/s]"
      ]
     },
     "metadata": {},
     "output_type": "display_data"
    },
    {
     "data": {
      "application/vnd.jupyter.widget-view+json": {
       "model_id": "6898efa624bc489e98d90cb03a76057f",
       "version_major": 2,
       "version_minor": 0
      },
      "text/plain": [
       "FUA: UPPSALA, Tile: 34VCM:   0%|          | 0/192 [00:00<?, ?it/s]"
      ]
     },
     "metadata": {},
     "output_type": "display_data"
    },
    {
     "data": {
      "application/vnd.jupyter.widget-view+json": {
       "model_id": "244ce44d61474c09b118510483e1e8a7",
       "version_major": 2,
       "version_minor": 0
      },
      "text/plain": [
       "Intersecting tiles:   0%|          | 0/3 [00:00<?, ?it/s]"
      ]
     },
     "metadata": {},
     "output_type": "display_data"
    },
    {
     "data": {
      "application/vnd.jupyter.widget-view+json": {
       "model_id": "0d854165ddc94f2bad0ff25de225efd5",
       "version_major": 2,
       "version_minor": 0
      },
      "text/plain": [
       "FUA: ÖREBRO, Tile: 33VVF:   0%|          | 0/76 [00:00<?, ?it/s]"
      ]
     },
     "metadata": {},
     "output_type": "display_data"
    },
    {
     "data": {
      "application/vnd.jupyter.widget-view+json": {
       "model_id": "1657bf4600d04c53a62e36ecc695f57f",
       "version_major": 2,
       "version_minor": 0
      },
      "text/plain": [
       "FUA: ÖREBRO, Tile: 33VWF:   0%|          | 0/133 [00:00<?, ?it/s]"
      ]
     },
     "metadata": {},
     "output_type": "display_data"
    },
    {
     "data": {
      "application/vnd.jupyter.widget-view+json": {
       "model_id": "ded78fdf24f84e71a9762c0efacd64be",
       "version_major": 2,
       "version_minor": 0
      },
      "text/plain": [
       "FUA: ÖREBRO, Tile: 33VWG:   0%|          | 0/4 [00:00<?, ?it/s]"
      ]
     },
     "metadata": {},
     "output_type": "display_data"
    },
    {
     "data": {
      "application/vnd.jupyter.widget-view+json": {
       "model_id": "8d54fc842bf848838c3c957d367eb702",
       "version_major": 2,
       "version_minor": 0
      },
      "text/plain": [
       "Intersecting tiles:   0%|          | 0/2 [00:00<?, ?it/s]"
      ]
     },
     "metadata": {},
     "output_type": "display_data"
    },
    {
     "data": {
      "application/vnd.jupyter.widget-view+json": {
       "model_id": "3a178e9bc73640c183873e5ea5b83e6f",
       "version_major": 2,
       "version_minor": 0
      },
      "text/plain": [
       "FUA: BORAS, Tile: 33VUD:   0%|          | 0/29 [00:00<?, ?it/s]"
      ]
     },
     "metadata": {},
     "output_type": "display_data"
    },
    {
     "data": {
      "application/vnd.jupyter.widget-view+json": {
       "model_id": "ce0581fe3c0a4c73b633010bf380a618",
       "version_major": 2,
       "version_minor": 0
      },
      "text/plain": [
       "FUA: BORAS, Tile: 33VUE:   0%|          | 0/66 [00:00<?, ?it/s]"
      ]
     },
     "metadata": {},
     "output_type": "display_data"
    },
    {
     "data": {
      "application/vnd.jupyter.widget-view+json": {
       "model_id": "df0896840f544fc7b7549fd2672782b2",
       "version_major": 2,
       "version_minor": 0
      },
      "text/plain": [
       "Intersecting tiles:   0%|          | 0/2 [00:00<?, ?it/s]"
      ]
     },
     "metadata": {},
     "output_type": "display_data"
    },
    {
     "data": {
      "application/vnd.jupyter.widget-view+json": {
       "model_id": "738e22ba172440edb8a582a5b7d1cac7",
       "version_major": 2,
       "version_minor": 0
      },
      "text/plain": [
       "FUA: HELSINGBORG, Tile: 33UUB: 0it [00:00, ?it/s]"
      ]
     },
     "metadata": {},
     "output_type": "display_data"
    },
    {
     "data": {
      "application/vnd.jupyter.widget-view+json": {
       "model_id": "da924648a1694e5680d9a1beed91b490",
       "version_major": 2,
       "version_minor": 0
      },
      "text/plain": [
       "FUA: HELSINGBORG, Tile: 33VUC:   0%|          | 0/98 [00:00<?, ?it/s]"
      ]
     },
     "metadata": {},
     "output_type": "display_data"
    },
    {
     "data": {
      "application/vnd.jupyter.widget-view+json": {
       "model_id": "0247720b32c14402bf0757cd44fdfd2b",
       "version_major": 2,
       "version_minor": 0
      },
      "text/plain": [
       "Intersecting tiles:   0%|          | 0/4 [00:00<?, ?it/s]"
      ]
     },
     "metadata": {},
     "output_type": "display_data"
    },
    {
     "data": {
      "application/vnd.jupyter.widget-view+json": {
       "model_id": "b3c1261aea2a423884d56ef8e0897170",
       "version_major": 2,
       "version_minor": 0
      },
      "text/plain": [
       "FUA: VASTERAS, Tile: 33VWF:   0%|          | 0/4 [00:00<?, ?it/s]"
      ]
     },
     "metadata": {},
     "output_type": "display_data"
    },
    {
     "data": {
      "application/vnd.jupyter.widget-view+json": {
       "model_id": "7006a6a2b9d34d4a9fcc5414a018de27",
       "version_major": 2,
       "version_minor": 0
      },
      "text/plain": [
       "FUA: VASTERAS, Tile: 33VWG:   0%|          | 0/113 [00:00<?, ?it/s]"
      ]
     },
     "metadata": {},
     "output_type": "display_data"
    },
    {
     "data": {
      "application/vnd.jupyter.widget-view+json": {
       "model_id": "2fe334f53ef64b3ea0098767dfb2198d",
       "version_major": 2,
       "version_minor": 0
      },
      "text/plain": [
       "FUA: VASTERAS, Tile: 33VXF: 0it [00:00, ?it/s]"
      ]
     },
     "metadata": {},
     "output_type": "display_data"
    },
    {
     "data": {
      "application/vnd.jupyter.widget-view+json": {
       "model_id": "90db57f9d0ef4e1489b667406d34d613",
       "version_major": 2,
       "version_minor": 0
      },
      "text/plain": [
       "FUA: VASTERAS, Tile: 33VXG:   0%|          | 0/3 [00:00<?, ?it/s]"
      ]
     },
     "metadata": {},
     "output_type": "display_data"
    },
    {
     "data": {
      "application/vnd.jupyter.widget-view+json": {
       "model_id": "38546d68ebd9408288729103deaf87bc",
       "version_major": 2,
       "version_minor": 0
      },
      "text/plain": [
       "Intersecting tiles:   0%|          | 0/3 [00:00<?, ?it/s]"
      ]
     },
     "metadata": {},
     "output_type": "display_data"
    },
    {
     "data": {
      "application/vnd.jupyter.widget-view+json": {
       "model_id": "51537f9ecc044b9b9559ce887195c602",
       "version_major": 2,
       "version_minor": 0
      },
      "text/plain": [
       "FUA: NORRKOPING, Tile: 33VWE:   0%|          | 0/81 [00:00<?, ?it/s]"
      ]
     },
     "metadata": {},
     "output_type": "display_data"
    },
    {
     "data": {
      "application/vnd.jupyter.widget-view+json": {
       "model_id": "05b83d6661ce4478a30c9f8650a2721a",
       "version_major": 2,
       "version_minor": 0
      },
      "text/plain": [
       "FUA: NORRKOPING, Tile: 33VWF:   0%|          | 0/47 [00:00<?, ?it/s]"
      ]
     },
     "metadata": {},
     "output_type": "display_data"
    },
    {
     "data": {
      "application/vnd.jupyter.widget-view+json": {
       "model_id": "fc5d3f4058d847c19ea8447b17b46457",
       "version_major": 2,
       "version_minor": 0
      },
      "text/plain": [
       "FUA: NORRKOPING, Tile: 33VXF: 0it [00:00, ?it/s]"
      ]
     },
     "metadata": {},
     "output_type": "display_data"
    }
   ],
   "source": [
    "# sequential all fuas (original)\n",
    "bad_patch=[]\n",
    "for path in tqdm(ua_paths, desc='Total progress'):\n",
    "    \n",
    "    fua_labls,fua_bound = open_fua(path)             # open fua layers\n",
    "    tiles_inters = s2tiles.sjoin(fua_bound, predicate='intersects')  #get intersecting tiles for fua\n",
    "    fua_name = str_to_oao(fua_bound.fua_name[0])\n",
    "    \n",
    "    for tile in tqdm(tiles_inters.itertuples(),desc='Intersecting tiles',total=len(tiles_inters)): # for every intersecting tile\n",
    "        \n",
    "        # select patches within curr tile\n",
    "        curr_tile = s2tiles[s2tiles.Name.isin([tile.Name])]                                               \n",
    "        patches_within = get_obj_within(get_obj_within(scb_grid,curr_tile),fua_bound) #select patches(grid) within curr_tile and within fua\n",
    "        #savedir\n",
    "        savedir = os.path.join(sdir,'{}/{}/'.format(fua_name,tile.Name))\n",
    "        #print(savedir)\n",
    "        #open curr tile \n",
    "        s2_tile = open_tile(tile.Name,s2_path,source='PERC')\n",
    "    \n",
    "        for patch in tqdm(patches_within.itertuples(),total=len(patches_within), desc='FUA: {}, Tile: {}'.format(fua_name,tile.Name)):\n",
    "            \n",
    "            # get current patch and clip labels to patch extent\n",
    "            curr_patch = scb_grid[(scb_grid.id.isin([patch.id]))]\n",
    "            # clip tile and labels to patch extent\n",
    "            s2_patch = clip_tile(s2_tile,curr_patch)\n",
    "            s2_patch = s2_patch.astype(np.float32)\n",
    "            patch_labls = fua_labls.clip(curr_patch)\n",
    "            #rasterize patch labels \n",
    "            try:\n",
    "                cube = rasterize(patch_labls)\n",
    "            except:\n",
    "                bad_patch.append(patch.id)\n",
    "            else:    \n",
    "                #merge s2_patch and patch labels\n",
    "                cube = cube.merge(s2_patch.rio.reproject_match(cube)) #append to cube\n",
    "                # reduce coordinate dimensions by one\n",
    "                if cube.dims['x'] > patch_size:\n",
    "                   cube=cube.isel(x=slice(None, -1), y=slice(None, -1))           \n",
    "            \n",
    "                #set attributes to cube before saving\n",
    "                cube.attrs[\"patch_id\"] = patch.id\n",
    "                cube.attrs['FUA'] = fua_name\n",
    "                cube.attrs['long_name']=long_name\n",
    "                for key,value in get_tile_info(tile.Name,s2_path).items():\n",
    "                    cube.attrs[key] = value\n",
    "                #cube.train_id.attrs['_fillValue']=255\n",
    "                #cube.class_code.attrs['_fillValue']=255\n",
    "                save_cube(cube,savedir)"
   ]
  },
  {
   "cell_type": "code",
   "execution_count": 13,
   "id": "c2d50b6d-447a-4e18-b1fa-be378919f240",
   "metadata": {},
   "outputs": [
    {
     "ename": "ModuleNotFoundError",
     "evalue": "No module named 'torch'",
     "output_type": "error",
     "traceback": [
      "\u001b[0;31m---------------------------------------------------------------------------\u001b[0m",
      "\u001b[0;31mModuleNotFoundError\u001b[0m                       Traceback (most recent call last)",
      "Input \u001b[0;32mIn [13]\u001b[0m, in \u001b[0;36m<cell line: 4>\u001b[0;34m()\u001b[0m\n\u001b[1;32m      1\u001b[0m \u001b[38;5;66;03m# calculate min max to check for bad data\u001b[39;00m\n\u001b[1;32m      3\u001b[0m \u001b[38;5;28;01mfrom\u001b[39;00m \u001b[38;5;21;01mtqdm\u001b[39;00m\u001b[38;5;21;01m.\u001b[39;00m\u001b[38;5;21;01mnotebook\u001b[39;00m \u001b[38;5;28;01mimport\u001b[39;00m tqdm\n\u001b[0;32m----> 4\u001b[0m \u001b[38;5;28;01mfrom\u001b[39;00m \u001b[38;5;21;01mdataset\u001b[39;00m\u001b[38;5;21;01m.\u001b[39;00m\u001b[38;5;21;01mdatasets\u001b[39;00m \u001b[38;5;28;01mimport\u001b[39;00m s2stats, sentinel\n\u001b[1;32m      5\u001b[0m \u001b[38;5;66;03m#import torch\u001b[39;00m\n\u001b[1;32m      6\u001b[0m \u001b[38;5;28;01mimport\u001b[39;00m \u001b[38;5;21;01mnumpy\u001b[39;00m \u001b[38;5;28;01mas\u001b[39;00m \u001b[38;5;21;01mnp\u001b[39;00m\n",
      "File \u001b[0;32m~/projects/datadrive0/deepSat/dataset/datasets.py:6\u001b[0m, in \u001b[0;36m<module>\u001b[0;34m\u001b[0m\n\u001b[1;32m      4\u001b[0m \u001b[38;5;28;01mfrom\u001b[39;00m \u001b[38;5;21;01mmatplotlib\u001b[39;00m\u001b[38;5;21;01m.\u001b[39;00m\u001b[38;5;21;01mfont_manager\u001b[39;00m \u001b[38;5;28;01mimport\u001b[39;00m ttfFontProperty\n\u001b[1;32m      5\u001b[0m \u001b[38;5;28;01mimport\u001b[39;00m \u001b[38;5;21;01mnumpy\u001b[39;00m \u001b[38;5;28;01mas\u001b[39;00m \u001b[38;5;21;01mnp\u001b[39;00m\n\u001b[0;32m----> 6\u001b[0m \u001b[38;5;28;01mimport\u001b[39;00m \u001b[38;5;21;01mtorch\u001b[39;00m\n\u001b[1;32m      7\u001b[0m \u001b[38;5;28;01mimport\u001b[39;00m \u001b[38;5;21;01mtorch\u001b[39;00m\u001b[38;5;21;01m.\u001b[39;00m\u001b[38;5;21;01mnn\u001b[39;00m \u001b[38;5;28;01mas\u001b[39;00m \u001b[38;5;21;01mnn\u001b[39;00m\n\u001b[1;32m      8\u001b[0m \u001b[38;5;28;01mfrom\u001b[39;00m \u001b[38;5;21;01mtorchvision\u001b[39;00m\u001b[38;5;21;01m.\u001b[39;00m\u001b[38;5;21;01mtransforms\u001b[39;00m \u001b[38;5;28;01mimport\u001b[39;00m functional \u001b[38;5;28;01mas\u001b[39;00m tvF\n",
      "\u001b[0;31mModuleNotFoundError\u001b[0m: No module named 'torch'"
     ]
    }
   ],
   "source": [
    "# calculate min max to check for bad data\n",
    "\n",
    "from tqdm.notebook import tqdm\n",
    "from dataset.datasets import s2stats, sentinel\n",
    "#import torch\n",
    "import numpy as np\n",
    "import os\n",
    "\n",
    "dset= s2stats(root_dir='processed-data/dsen_2_256_new/*/*/')\n",
    "max_vals=np.zeros((len(dset),10))\n",
    "min_vals=np.zeros((len(dset),10))\n",
    "\n",
    "count = 0\n",
    "paths = []\n",
    "\n",
    "for idx, (img,_,path) in enumerate(dset):\n",
    "   \n",
    "    maxs = img.numpy().max(axis=(1,2))\n",
    "    mins = img.numpy().min(axis=(1,2))\n",
    "    \n",
    "    if any(maxs >3.4e+38):\n",
    "        count +=1\n",
    "        paths.append(path)\n",
    "    \n",
    "    max_vals[idx,:]=img.numpy().max(axis=(1,2))\n",
    "    min_vals[idx,:]=img.numpy().min(axis=(1,2))\n",
    "    \n",
    "    \n",
    "maxs= max_vals.max(axis=0)\n",
    "mins= min_vals.min(axis=0)\n",
    "\n",
    "print(maxs)\n",
    "print(mins)\n",
    "print(count)\n",
    "\n",
    "\n",
    "#for path in paths: \n",
    "#    os.remove(path)"
   ]
  },
  {
   "cell_type": "code",
   "execution_count": 19,
   "id": "877ec2fa-8bcf-4ee6-a41f-d9016c75086a",
   "metadata": {},
   "outputs": [
    {
     "data": {
      "text/plain": [
       "'/home/exjobbare/projects/datadrive0/deepSat/processed-data/raw_256_PERC/timeperiod1'"
      ]
     },
     "execution_count": 19,
     "metadata": {},
     "output_type": "execute_result"
    }
   ],
   "source": [
    "sdir"
   ]
  },
  {
   "cell_type": "markdown",
   "id": "e29143a4",
   "metadata": {},
   "source": [
    "### split train/test/val\n",
    "\n",
    "1. split dataset (if satisfied, execute step 2)\n",
    "2. reorganize files after split"
   ]
  },
  {
   "cell_type": "code",
   "execution_count": 21,
   "id": "4009c299",
   "metadata": {},
   "outputs": [
    {
     "name": "stdout",
     "output_type": "stream",
     "text": [
      "total: 3168 train: 2524 80.0 test: 315 10.0 val: 329 10.0\n"
     ]
    }
   ],
   "source": [
    "#1 split dataset\n",
    "train = 0.8\n",
    "test = 0.5 #of remaining -train\n",
    "sdir='/home/exjobbare/projects/datadrive0/deepSat/processed-data/dsen_2_256_new/timeperiod1/'\n",
    "df = np.asarray(glob.glob(os.path.join(sdir,'*/*/*.nc')))\n",
    "total = len(df)\n",
    "msk = np.random.rand(len(df)) <train\n",
    "len(msk[msk==True])/len(msk)\n",
    "\n",
    "train = df[msk]\n",
    "testval = df[~msk]\n",
    "msk = np.random.rand(len(testval))<test\n",
    "test=testval[msk]\n",
    "val = testval[~msk]\n",
    "\n",
    "print('total:',total,'train:', len(train) ,round(len(train)/len(df)*100,0),'test:',len(test),round(len(test)/len(df)*100,0),'val:',len(val),round(len(val)/len(df)*100,0))"
   ]
  },
  {
   "cell_type": "code",
   "execution_count": 22,
   "id": "63d28b42",
   "metadata": {},
   "outputs": [
    {
     "name": "stdout",
     "output_type": "stream",
     "text": [
      "/home/exjobbare/projects/datadrive0/deepSat/processed-data/dsen_2_256_new_split/timeperiod1/train\n",
      "/home/exjobbare/projects/datadrive0/deepSat/processed-data/dsen_2_256_new_split/timeperiod1/test\n",
      "/home/exjobbare/projects/datadrive0/deepSat/processed-data/dsen_2_256_new_split/timeperiod1/val\n"
     ]
    }
   ],
   "source": [
    "# step 2 copy files to 'source_split' '/train' '/test' or '/val'\n",
    "if train.size>0: \n",
    "    org_files(train,mode='train')\n",
    "if test.size>0:\n",
    "    org_files(test,mode='test')\n",
    "if val.size>0:\n",
    "    org_files(val,mode='val')\n"
   ]
  },
  {
   "cell_type": "code",
   "execution_count": 14,
   "id": "917af982-2a9e-4307-8b99-1feba6f76e73",
   "metadata": {},
   "outputs": [
    {
     "data": {
      "text/plain": [
       "'/home/exjobbare/projects/datadrive0/deepSat/processed-data/raw_256_PERC/timeperiod1'"
      ]
     },
     "execution_count": 14,
     "metadata": {},
     "output_type": "execute_result"
    }
   ],
   "source": [
    "sdir\n",
    "       \n",
    "    "
   ]
  },
  {
   "cell_type": "code",
   "execution_count": 24,
   "id": "ec4d27f1-c4ed-43f7-97e4-da9add4c2df8",
   "metadata": {},
   "outputs": [],
   "source": [
    "# preprocess fua one by one \n",
    "# run in terminal: ipcluster start -n N  where -n is number of clusters, \n",
    "# the parallel computing does not work properly (it runs sequentialy on each cluster so this needs further investigation)\n",
    "# uncomment the one to process (rc[i] where i defines wich cluster to use, make sure i<N)\n",
    "\n",
    "from ipyparallel import Client\n",
    "\n",
    "\n",
    "def process_fua(path):\n",
    "\n",
    "\n",
    "    bad_patch=[]\n",
    "    fua_labls,fua_bound = open_fua(path)             # open fua layers\n",
    "    tiles_inters = s2tiles.sjoin(fua_bound, predicate='intersects')  #get intersecting tiles for fua\n",
    "    fua_name = str_to_oao(fua_bound.fua_name[0])\n",
    "    \n",
    "    for tile in tqdm(tiles_inters.itertuples(),desc='Intersecting tiles',total=len(tiles_inters)): # for every intersecting tile\n",
    "        \n",
    "        # select patches within curr tile\n",
    "        curr_tile = s2tiles[s2tiles.Name.isin([tile.Name])]                                               \n",
    "        patches_within = get_obj_within(get_obj_within(scb_grid,curr_tile),fua_bound) #select patches(grid) within curr_tile and within fua\n",
    "        #savedir\n",
    "        savedir = os.path.join(sdir,'{}/{}/'.format(fua_name,tile.Name))\n",
    "        #print(savedir)\n",
    "        #open curr tile \n",
    "        s2_tile = open_tile(tile.Name,s2_path)\n",
    "        \n",
    "        for patch in tqdm(patches_within.itertuples(),total=len(patches_within), desc='FUA: {}, Tile: {}'.format(fua_name,tile.Name)):\n",
    "            \n",
    "            # get current patch and clip labels to patch extent\n",
    "            curr_patch = scb_grid[(scb_grid.id.isin([patch.id]))]\n",
    "            # clip tile and labels to patch extent\n",
    "            s2_patch = clip_tile(s2_tile,curr_patch)\n",
    "            patch_labls = fua_labls.clip(curr_patch)\n",
    "            #rasterize patch labels \n",
    "            try:\n",
    "                cube = rasterize(patch_labls)\n",
    "            except:\n",
    "                bad_patch.append(patch.id)\n",
    "            else:    \n",
    "                #merge s2_patch and patch labels\n",
    "                cube = cube.merge(s2_patch.rio.reproject_match(cube)) #append to cube\n",
    "                # reduce coordinate dimensions by one\n",
    "                if cube.dims['x'] > patch_size:\n",
    "                   cube=cube.isel(x=slice(None, -1), y=slice(None, -1))           \n",
    "            \n",
    "                #set attributes to cube before saving\n",
    "                cube.attrs[\"patch_id\"] = patch.id\n",
    "                cube.attrs['FUA'] = fua_name\n",
    "                for key,value in get_tile_info(tile.Name,s2_path).items():\n",
    "                    cube.attrs[key] = value\n",
    "\n",
    "\n",
    "                cube.train_id.attrs['_fillValue']=255\n",
    "                cube.class_code.attrs['_fillValue']=255\n",
    "                save_cube(cube,savedir)\n",
    "           \n",
    "\n",
    "    return(savedir)\n",
    "\n",
    "rc = Client()\n",
    "#rc= cluster\n",
    "#dwiev = rc[:]\n",
    "\n",
    "\n",
    "#process_fua(ua_paths[0])    \n",
    "#stockholm=rc[0].apply(process_fua(ua_paths[0])) #Stockholm\n",
    "#jonkoping=rc[1].apply(process_fua(ua_paths[1]))  #JONKOPING\n",
    "#linkoping=rc[2].apply(process_fua(ua_paths[2]))  #Linköping (33VWF not processed)\n",
    "#malmo=rc[3].apply(process_fua(ua_paths[3]))  # Malmö  \n",
    "#goteborg=rc[4].apply(process_fua(ua_paths[4])) #Gotebprg\n",
    "#umea=rc[5].apply(process_fua(ua_paths[5]))      #umea\n",
    "#uppsala=rc[6].apply(process_fua(ua_paths[6])) #uppsala\n",
    "#orebro=rc[7].apply(process_fua(ua_paths[7]))    #orebro\n",
    "#boras=rc[8].apply(process_fua(ua_paths[8]))    #boras\n",
    "#helsingborg=rc[9].apply(process_fua(ua_paths[9]))   #helsingborg\n",
    "#vasteras=rc[10].apply(process_fua(ua_paths[10])) #vasteras\n",
    "#norrkoping= rc[11].apply(process_fua(ua_paths[11])) #norrkoping\n"
   ]
  },
  {
   "cell_type": "code",
   "execution_count": 36,
   "id": "4edcd591-6ca7-4332-9c77-536b63d642e0",
   "metadata": {},
   "outputs": [
    {
     "name": "stdout",
     "output_type": "stream",
     "text": [
      "Starting 6 engines with <class 'ipyparallel.cluster.launcher.LocalEngineSetLauncher'>\n"
     ]
    },
    {
     "data": {
      "application/vnd.jupyter.widget-view+json": {
       "model_id": "c50000e5400c470bb8a1ac7d36b6e26f",
       "version_major": 2,
       "version_minor": 0
      },
      "text/plain": [
       "  0%|          | 0/6 [00:00<?, ?engine/s]"
      ]
     },
     "metadata": {},
     "output_type": "display_data"
    },
    {
     "name": "stdout",
     "output_type": "stream",
     "text": [
      "importing open_fua from preprocess.uaUtils on engine(s)\n",
      "importing os on engine(s)\n",
      "importing glob on engine(s)\n",
      "importing h5netcdf on engine(s)\n",
      "importing rioxarray on engine(s)\n",
      "importing geopandas on engine(s)\n",
      "importing numpy on engine(s)\n",
      "importing tqdm from tqdm.notebook on engine(s)\n",
      "importing search_product,open_tile,get_tile_info,get_prod_info from preprocess.s2Utils on engine(s)\n",
      "importing str_to_oao,class_dict,org_files from preprocess.utils on engine(s)\n",
      "importing make_geocube from geocube.api.core on engine(s)\n",
      "importing partial from functools on engine(s)\n",
      "importing rasterize_image from geocube.rasterize on engine(s)\n",
      "importing class_dict from preprocess.classDict on engine(s)\n",
      "importing shutil on engine(s)\n"
     ]
    },
    {
     "data": {
      "application/vnd.jupyter.widget-view+json": {
       "model_id": "5978ca8c4de64101be60753b06ce8a7d",
       "version_major": 2,
       "version_minor": 0
      },
      "text/plain": [
       "Intersecting tiles:   0%|          | 0/4 [00:00<?, ?it/s]"
      ]
     },
     "metadata": {},
     "output_type": "display_data"
    },
    {
     "data": {
      "application/vnd.jupyter.widget-view+json": {
       "model_id": "c782e847c3af4ceb8f3a4e62b8a4eaca",
       "version_major": 2,
       "version_minor": 0
      },
      "text/plain": [
       "FUA: STOCKHOLM, Tile: 33VXF:   0%|          | 0/324 [00:00<?, ?it/s]"
      ]
     },
     "metadata": {},
     "output_type": "display_data"
    },
    {
     "ename": "KeyboardInterrupt",
     "evalue": "",
     "output_type": "error",
     "traceback": [
      "\u001b[0;31m---------------------------------------------------------------------------\u001b[0m",
      "\u001b[0;31mKeyboardInterrupt\u001b[0m                         Traceback (most recent call last)",
      "Input \u001b[0;32mIn [36]\u001b[0m, in \u001b[0;36m<cell line: 164>\u001b[0;34m()\u001b[0m\n\u001b[1;32m    159\u001b[0m     \u001b[38;5;28;01mreturn\u001b[39;00m(\u001b[38;5;124m'\u001b[39m\u001b[38;5;124mtest\u001b[39m\u001b[38;5;124m'\u001b[39m)\n\u001b[1;32m    160\u001b[0m \u001b[38;5;66;03m#scb_grid[scb_grid.id.isin(scb_grid.sjoin(curr_tile,predicate='within').id]\u001b[39;00m\n\u001b[1;32m    161\u001b[0m \n\u001b[1;32m    162\u001b[0m \n\u001b[1;32m    163\u001b[0m \u001b[38;5;66;03m#print(proc_fua([ua_paths[3]],[s2tiles],[scb_grid],[sdir],[s2_path]))\u001b[39;00m\n\u001b[0;32m--> 164\u001b[0m \u001b[38;5;28mprint\u001b[39m(\u001b[43mproc_fua\u001b[49m\u001b[43m(\u001b[49m\u001b[43mua_paths\u001b[49m\u001b[43m[\u001b[49m\u001b[38;5;241;43m0\u001b[39;49m\u001b[43m]\u001b[49m\u001b[43m)\u001b[49m)\n",
      "Input \u001b[0;32mIn [36]\u001b[0m, in \u001b[0;36mproc_fua\u001b[0;34m(path)\u001b[0m\n\u001b[1;32m    131\u001b[0m \u001b[38;5;66;03m# clip tile and labels to patch extent\u001b[39;00m\n\u001b[1;32m    132\u001b[0m s2_patch \u001b[38;5;241m=\u001b[39m clip_tile(s2_tile,curr_patch)\n\u001b[0;32m--> 133\u001b[0m patch_labls \u001b[38;5;241m=\u001b[39m \u001b[43mfua_labls\u001b[49m\u001b[38;5;241;43m.\u001b[39;49m\u001b[43mclip\u001b[49m\u001b[43m(\u001b[49m\u001b[43mcurr_patch\u001b[49m\u001b[43m)\u001b[49m\n\u001b[1;32m    134\u001b[0m \u001b[38;5;66;03m#rasterize patch labels \u001b[39;00m\n\u001b[1;32m    135\u001b[0m \u001b[38;5;28;01mtry\u001b[39;00m:\n",
      "File \u001b[0;32m~/software/miniconda3/envs/preprocess/lib/python3.10/site-packages/geopandas/geodataframe.py:2106\u001b[0m, in \u001b[0;36mGeoDataFrame.clip\u001b[0;34m(self, mask, keep_geom_type)\u001b[0m\n\u001b[1;32m   2060\u001b[0m \u001b[38;5;28;01mdef\u001b[39;00m \u001b[38;5;21mclip\u001b[39m(\u001b[38;5;28mself\u001b[39m, mask, keep_geom_type\u001b[38;5;241m=\u001b[39m\u001b[38;5;28;01mFalse\u001b[39;00m):\n\u001b[1;32m   2061\u001b[0m     \u001b[38;5;124;03m\"\"\"Clip points, lines, or polygon geometries to the mask extent.\u001b[39;00m\n\u001b[1;32m   2062\u001b[0m \n\u001b[1;32m   2063\u001b[0m \u001b[38;5;124;03m    Both layers must be in the same Coordinate Reference System (CRS).\u001b[39;00m\n\u001b[0;32m   (...)\u001b[0m\n\u001b[1;32m   2104\u001b[0m \u001b[38;5;124;03m    (12, 2)\u001b[39;00m\n\u001b[1;32m   2105\u001b[0m \u001b[38;5;124;03m    \"\"\"\u001b[39;00m\n\u001b[0;32m-> 2106\u001b[0m     \u001b[38;5;28;01mreturn\u001b[39;00m \u001b[43mgeopandas\u001b[49m\u001b[38;5;241;43m.\u001b[39;49m\u001b[43mclip\u001b[49m\u001b[43m(\u001b[49m\u001b[38;5;28;43mself\u001b[39;49m\u001b[43m,\u001b[49m\u001b[43m \u001b[49m\u001b[43mmask\u001b[49m\u001b[38;5;241;43m=\u001b[39;49m\u001b[43mmask\u001b[49m\u001b[43m,\u001b[49m\u001b[43m \u001b[49m\u001b[43mkeep_geom_type\u001b[49m\u001b[38;5;241;43m=\u001b[39;49m\u001b[43mkeep_geom_type\u001b[49m\u001b[43m)\u001b[49m\n",
      "File \u001b[0;32m~/software/miniconda3/envs/preprocess/lib/python3.10/site-packages/geopandas/tools/clip.py:127\u001b[0m, in \u001b[0;36mclip\u001b[0;34m(gdf, mask, keep_geom_type)\u001b[0m\n\u001b[1;32m    125\u001b[0m \u001b[38;5;28;01melse\u001b[39;00m:\n\u001b[1;32m    126\u001b[0m     box_mask \u001b[38;5;241m=\u001b[39m mask\u001b[38;5;241m.\u001b[39mbounds\n\u001b[0;32m--> 127\u001b[0m box_gdf \u001b[38;5;241m=\u001b[39m \u001b[43mgdf\u001b[49m\u001b[38;5;241;43m.\u001b[39;49m\u001b[43mtotal_bounds\u001b[49m\n\u001b[1;32m    128\u001b[0m \u001b[38;5;28;01mif\u001b[39;00m \u001b[38;5;129;01mnot\u001b[39;00m (\n\u001b[1;32m    129\u001b[0m     ((box_mask[\u001b[38;5;241m0\u001b[39m] \u001b[38;5;241m<\u001b[39m\u001b[38;5;241m=\u001b[39m box_gdf[\u001b[38;5;241m2\u001b[39m]) \u001b[38;5;129;01mand\u001b[39;00m (box_gdf[\u001b[38;5;241m0\u001b[39m] \u001b[38;5;241m<\u001b[39m\u001b[38;5;241m=\u001b[39m box_mask[\u001b[38;5;241m2\u001b[39m]))\n\u001b[1;32m    130\u001b[0m     \u001b[38;5;129;01mand\u001b[39;00m ((box_mask[\u001b[38;5;241m1\u001b[39m] \u001b[38;5;241m<\u001b[39m\u001b[38;5;241m=\u001b[39m box_gdf[\u001b[38;5;241m3\u001b[39m]) \u001b[38;5;129;01mand\u001b[39;00m (box_gdf[\u001b[38;5;241m1\u001b[39m] \u001b[38;5;241m<\u001b[39m\u001b[38;5;241m=\u001b[39m box_mask[\u001b[38;5;241m3\u001b[39m]))\n\u001b[1;32m    131\u001b[0m ):\n\u001b[1;32m    132\u001b[0m     \u001b[38;5;28;01mreturn\u001b[39;00m gdf\u001b[38;5;241m.\u001b[39miloc[:\u001b[38;5;241m0\u001b[39m]\n",
      "File \u001b[0;32m~/software/miniconda3/envs/preprocess/lib/python3.10/site-packages/geopandas/base.py:2584\u001b[0m, in \u001b[0;36mGeoPandasBase.total_bounds\u001b[0;34m(self)\u001b[0m\n\u001b[1;32m   2567\u001b[0m \u001b[38;5;129m@property\u001b[39m\n\u001b[1;32m   2568\u001b[0m \u001b[38;5;28;01mdef\u001b[39;00m \u001b[38;5;21mtotal_bounds\u001b[39m(\u001b[38;5;28mself\u001b[39m):\n\u001b[1;32m   2569\u001b[0m     \u001b[38;5;124;03m\"\"\"Returns a tuple containing ``minx``, ``miny``, ``maxx``, ``maxy``\u001b[39;00m\n\u001b[1;32m   2570\u001b[0m \u001b[38;5;124;03m    values for the bounds of the series as a whole.\u001b[39;00m\n\u001b[1;32m   2571\u001b[0m \n\u001b[0;32m   (...)\u001b[0m\n\u001b[1;32m   2582\u001b[0m \u001b[38;5;124;03m    array([ 0., -1.,  3.,  2.])\u001b[39;00m\n\u001b[1;32m   2583\u001b[0m \u001b[38;5;124;03m    \"\"\"\u001b[39;00m\n\u001b[0;32m-> 2584\u001b[0m     \u001b[38;5;28;01mreturn\u001b[39;00m \u001b[43mGeometryArray\u001b[49m\u001b[43m(\u001b[49m\u001b[38;5;28;43mself\u001b[39;49m\u001b[38;5;241;43m.\u001b[39;49m\u001b[43mgeometry\u001b[49m\u001b[38;5;241;43m.\u001b[39;49m\u001b[43mvalues\u001b[49m\u001b[43m)\u001b[49m\u001b[38;5;241;43m.\u001b[39;49m\u001b[43mtotal_bounds\u001b[49m\n",
      "File \u001b[0;32m~/software/miniconda3/envs/preprocess/lib/python3.10/site-packages/geopandas/array.py:915\u001b[0m, in \u001b[0;36mGeometryArray.total_bounds\u001b[0;34m(self)\u001b[0m\n\u001b[1;32m    911\u001b[0m \u001b[38;5;28;01mif\u001b[39;00m \u001b[38;5;28mlen\u001b[39m(\u001b[38;5;28mself\u001b[39m) \u001b[38;5;241m==\u001b[39m \u001b[38;5;241m0\u001b[39m:\n\u001b[1;32m    912\u001b[0m     \u001b[38;5;66;03m# numpy 'min' cannot handle empty arrays\u001b[39;00m\n\u001b[1;32m    913\u001b[0m     \u001b[38;5;66;03m# TODO with numpy >= 1.15, the 'initial' argument can be used\u001b[39;00m\n\u001b[1;32m    914\u001b[0m     \u001b[38;5;28;01mreturn\u001b[39;00m np\u001b[38;5;241m.\u001b[39marray([np\u001b[38;5;241m.\u001b[39mnan, np\u001b[38;5;241m.\u001b[39mnan, np\u001b[38;5;241m.\u001b[39mnan, np\u001b[38;5;241m.\u001b[39mnan])\n\u001b[0;32m--> 915\u001b[0m b \u001b[38;5;241m=\u001b[39m \u001b[38;5;28;43mself\u001b[39;49m\u001b[38;5;241;43m.\u001b[39;49m\u001b[43mbounds\u001b[49m\n\u001b[1;32m    916\u001b[0m \u001b[38;5;28;01mreturn\u001b[39;00m np\u001b[38;5;241m.\u001b[39marray(\n\u001b[1;32m    917\u001b[0m     (\n\u001b[1;32m    918\u001b[0m         np\u001b[38;5;241m.\u001b[39mnanmin(b[:, \u001b[38;5;241m0\u001b[39m]),  \u001b[38;5;66;03m# minx\u001b[39;00m\n\u001b[0;32m   (...)\u001b[0m\n\u001b[1;32m    922\u001b[0m     )\n\u001b[1;32m    923\u001b[0m )\n",
      "File \u001b[0;32m~/software/miniconda3/envs/preprocess/lib/python3.10/site-packages/geopandas/array.py:907\u001b[0m, in \u001b[0;36mGeometryArray.bounds\u001b[0;34m(self)\u001b[0m\n\u001b[1;32m    905\u001b[0m \u001b[38;5;129m@property\u001b[39m\n\u001b[1;32m    906\u001b[0m \u001b[38;5;28;01mdef\u001b[39;00m \u001b[38;5;21mbounds\u001b[39m(\u001b[38;5;28mself\u001b[39m):\n\u001b[0;32m--> 907\u001b[0m     \u001b[38;5;28;01mreturn\u001b[39;00m \u001b[43mvectorized\u001b[49m\u001b[38;5;241;43m.\u001b[39;49m\u001b[43mbounds\u001b[49m\u001b[43m(\u001b[49m\u001b[38;5;28;43mself\u001b[39;49m\u001b[38;5;241;43m.\u001b[39;49m\u001b[43mdata\u001b[49m\u001b[43m)\u001b[49m\n",
      "File \u001b[0;32m~/software/miniconda3/envs/preprocess/lib/python3.10/site-packages/geopandas/_vectorized.py:937\u001b[0m, in \u001b[0;36mbounds\u001b[0;34m(data)\u001b[0m\n\u001b[1;32m    933\u001b[0m     \u001b[38;5;28;01mreturn\u001b[39;00m np\u001b[38;5;241m.\u001b[39mempty((\u001b[38;5;241m0\u001b[39m, \u001b[38;5;241m4\u001b[39m), dtype\u001b[38;5;241m=\u001b[39m\u001b[38;5;124m\"\u001b[39m\u001b[38;5;124mfloat64\u001b[39m\u001b[38;5;124m\"\u001b[39m)\n\u001b[1;32m    934\u001b[0m \u001b[38;5;66;03m# need to explicitly check for empty (in addition to missing) geometries,\u001b[39;00m\n\u001b[1;32m    935\u001b[0m \u001b[38;5;66;03m# as those return an empty tuple, not resulting in a 2D array\u001b[39;00m\n\u001b[1;32m    936\u001b[0m bounds \u001b[38;5;241m=\u001b[39m np\u001b[38;5;241m.\u001b[39marray(\n\u001b[0;32m--> 937\u001b[0m     [\n\u001b[1;32m    938\u001b[0m         geom\u001b[38;5;241m.\u001b[39mbounds\n\u001b[1;32m    939\u001b[0m         \u001b[38;5;28;01mif\u001b[39;00m \u001b[38;5;129;01mnot\u001b[39;00m (geom \u001b[38;5;129;01mis\u001b[39;00m \u001b[38;5;28;01mNone\u001b[39;00m \u001b[38;5;129;01mor\u001b[39;00m geom\u001b[38;5;241m.\u001b[39mis_empty)\n\u001b[1;32m    940\u001b[0m         \u001b[38;5;28;01melse\u001b[39;00m (np\u001b[38;5;241m.\u001b[39mnan, np\u001b[38;5;241m.\u001b[39mnan, np\u001b[38;5;241m.\u001b[39mnan, np\u001b[38;5;241m.\u001b[39mnan)\n\u001b[1;32m    941\u001b[0m         \u001b[38;5;28;01mfor\u001b[39;00m geom \u001b[38;5;129;01min\u001b[39;00m data\n\u001b[1;32m    942\u001b[0m     ]\n\u001b[1;32m    943\u001b[0m )\n\u001b[1;32m    944\u001b[0m \u001b[38;5;28;01mreturn\u001b[39;00m bounds\n",
      "File \u001b[0;32m~/software/miniconda3/envs/preprocess/lib/python3.10/site-packages/geopandas/_vectorized.py:938\u001b[0m, in \u001b[0;36m<listcomp>\u001b[0;34m(.0)\u001b[0m\n\u001b[1;32m    933\u001b[0m     \u001b[38;5;28;01mreturn\u001b[39;00m np\u001b[38;5;241m.\u001b[39mempty((\u001b[38;5;241m0\u001b[39m, \u001b[38;5;241m4\u001b[39m), dtype\u001b[38;5;241m=\u001b[39m\u001b[38;5;124m\"\u001b[39m\u001b[38;5;124mfloat64\u001b[39m\u001b[38;5;124m\"\u001b[39m)\n\u001b[1;32m    934\u001b[0m \u001b[38;5;66;03m# need to explicitly check for empty (in addition to missing) geometries,\u001b[39;00m\n\u001b[1;32m    935\u001b[0m \u001b[38;5;66;03m# as those return an empty tuple, not resulting in a 2D array\u001b[39;00m\n\u001b[1;32m    936\u001b[0m bounds \u001b[38;5;241m=\u001b[39m np\u001b[38;5;241m.\u001b[39marray(\n\u001b[1;32m    937\u001b[0m     [\n\u001b[0;32m--> 938\u001b[0m         \u001b[43mgeom\u001b[49m\u001b[38;5;241;43m.\u001b[39;49m\u001b[43mbounds\u001b[49m\n\u001b[1;32m    939\u001b[0m         \u001b[38;5;28;01mif\u001b[39;00m \u001b[38;5;129;01mnot\u001b[39;00m (geom \u001b[38;5;129;01mis\u001b[39;00m \u001b[38;5;28;01mNone\u001b[39;00m \u001b[38;5;129;01mor\u001b[39;00m geom\u001b[38;5;241m.\u001b[39mis_empty)\n\u001b[1;32m    940\u001b[0m         \u001b[38;5;28;01melse\u001b[39;00m (np\u001b[38;5;241m.\u001b[39mnan, np\u001b[38;5;241m.\u001b[39mnan, np\u001b[38;5;241m.\u001b[39mnan, np\u001b[38;5;241m.\u001b[39mnan)\n\u001b[1;32m    941\u001b[0m         \u001b[38;5;28;01mfor\u001b[39;00m geom \u001b[38;5;129;01min\u001b[39;00m data\n\u001b[1;32m    942\u001b[0m     ]\n\u001b[1;32m    943\u001b[0m )\n\u001b[1;32m    944\u001b[0m \u001b[38;5;28;01mreturn\u001b[39;00m bounds\n",
      "File \u001b[0;32m~/software/miniconda3/envs/preprocess/lib/python3.10/site-packages/shapely/geometry/base.py:475\u001b[0m, in \u001b[0;36mBaseGeometry.bounds\u001b[0;34m(self)\u001b[0m\n\u001b[1;32m    473\u001b[0m     \u001b[38;5;28;01mreturn\u001b[39;00m ()\n\u001b[1;32m    474\u001b[0m \u001b[38;5;28;01melse\u001b[39;00m:\n\u001b[0;32m--> 475\u001b[0m     \u001b[38;5;28;01mreturn\u001b[39;00m \u001b[38;5;28;43mself\u001b[39;49m\u001b[38;5;241;43m.\u001b[39;49m\u001b[43mimpl\u001b[49m\u001b[43m[\u001b[49m\u001b[38;5;124;43m'\u001b[39;49m\u001b[38;5;124;43mbounds\u001b[39;49m\u001b[38;5;124;43m'\u001b[39;49m\u001b[43m]\u001b[49m\u001b[43m(\u001b[49m\u001b[38;5;28;43mself\u001b[39;49m\u001b[43m)\u001b[49m\n",
      "File \u001b[0;32m~/software/miniconda3/envs/preprocess/lib/python3.10/site-packages/shapely/coords.py:187\u001b[0m, in \u001b[0;36mBoundsOp.__call__\u001b[0;34m(self, this)\u001b[0m\n\u001b[1;32m    185\u001b[0m \u001b[38;5;28;01mdef\u001b[39;00m \u001b[38;5;21m__call__\u001b[39m(\u001b[38;5;28mself\u001b[39m, this):\n\u001b[1;32m    186\u001b[0m     \u001b[38;5;28mself\u001b[39m\u001b[38;5;241m.\u001b[39m_validate(this)\n\u001b[0;32m--> 187\u001b[0m     env \u001b[38;5;241m=\u001b[39m \u001b[43mthis\u001b[49m\u001b[38;5;241;43m.\u001b[39;49m\u001b[43menvelope\u001b[49m\n\u001b[1;32m    188\u001b[0m     \u001b[38;5;28;01mif\u001b[39;00m env\u001b[38;5;241m.\u001b[39mgeom_type \u001b[38;5;241m==\u001b[39m \u001b[38;5;124m'\u001b[39m\u001b[38;5;124mPoint\u001b[39m\u001b[38;5;124m'\u001b[39m:\n\u001b[1;32m    189\u001b[0m         \u001b[38;5;28;01mreturn\u001b[39;00m env\u001b[38;5;241m.\u001b[39mbounds\n",
      "File \u001b[0;32m~/software/miniconda3/envs/preprocess/lib/python3.10/site-packages/shapely/geometry/base.py:500\u001b[0m, in \u001b[0;36mBaseGeometry.envelope\u001b[0;34m(self)\u001b[0m\n\u001b[1;32m    497\u001b[0m \u001b[38;5;129m@property\u001b[39m\n\u001b[1;32m    498\u001b[0m \u001b[38;5;28;01mdef\u001b[39;00m \u001b[38;5;21menvelope\u001b[39m(\u001b[38;5;28mself\u001b[39m):\n\u001b[1;32m    499\u001b[0m     \u001b[38;5;124;03m\"\"\"A figure that envelopes the geometry\"\"\"\u001b[39;00m\n\u001b[0;32m--> 500\u001b[0m     \u001b[38;5;28;01mreturn\u001b[39;00m geom_factory(\u001b[38;5;28;43mself\u001b[39;49m\u001b[38;5;241;43m.\u001b[39;49m\u001b[43mimpl\u001b[49m\u001b[43m[\u001b[49m\u001b[38;5;124;43m'\u001b[39;49m\u001b[38;5;124;43menvelope\u001b[39;49m\u001b[38;5;124;43m'\u001b[39;49m\u001b[43m]\u001b[49m\u001b[43m(\u001b[49m\u001b[38;5;28;43mself\u001b[39;49m\u001b[43m)\u001b[49m)\n",
      "File \u001b[0;32m~/software/miniconda3/envs/preprocess/lib/python3.10/site-packages/shapely/topology.py:79\u001b[0m, in \u001b[0;36mUnaryTopologicalOp.__call__\u001b[0;34m(self, this, *args)\u001b[0m\n\u001b[1;32m     78\u001b[0m \u001b[38;5;28;01mdef\u001b[39;00m \u001b[38;5;21m__call__\u001b[39m(\u001b[38;5;28mself\u001b[39m, this, \u001b[38;5;241m*\u001b[39margs):\n\u001b[0;32m---> 79\u001b[0m     \u001b[38;5;28;43mself\u001b[39;49m\u001b[38;5;241;43m.\u001b[39;49m\u001b[43m_validate\u001b[49m\u001b[43m(\u001b[49m\u001b[43mthis\u001b[49m\u001b[43m)\u001b[49m\n\u001b[1;32m     80\u001b[0m     \u001b[38;5;28;01mreturn\u001b[39;00m \u001b[38;5;28mself\u001b[39m\u001b[38;5;241m.\u001b[39mfn(this\u001b[38;5;241m.\u001b[39m_geom, \u001b[38;5;241m*\u001b[39margs)\n",
      "File \u001b[0;32m~/software/miniconda3/envs/preprocess/lib/python3.10/site-packages/shapely/topology.py:17\u001b[0m, in \u001b[0;36mValidating._validate\u001b[0;34m(self, ob, stop_prepared)\u001b[0m\n\u001b[1;32m     15\u001b[0m \u001b[38;5;28;01mclass\u001b[39;00m \u001b[38;5;21;01mValidating\u001b[39;00m:\n\u001b[0;32m---> 17\u001b[0m     \u001b[38;5;28;01mdef\u001b[39;00m \u001b[38;5;21m_validate\u001b[39m(\u001b[38;5;28mself\u001b[39m, ob, stop_prepared\u001b[38;5;241m=\u001b[39m\u001b[38;5;28;01mFalse\u001b[39;00m):\n\u001b[1;32m     18\u001b[0m         \u001b[38;5;28;01mif\u001b[39;00m ob \u001b[38;5;129;01mis\u001b[39;00m \u001b[38;5;28;01mNone\u001b[39;00m \u001b[38;5;129;01mor\u001b[39;00m ob\u001b[38;5;241m.\u001b[39m_geom \u001b[38;5;129;01mis\u001b[39;00m \u001b[38;5;28;01mNone\u001b[39;00m:\n\u001b[1;32m     19\u001b[0m             \u001b[38;5;28;01mraise\u001b[39;00m InvalidGeometryError(\u001b[38;5;124m\"\u001b[39m\u001b[38;5;124mNull geometry supports no operations\u001b[39m\u001b[38;5;124m\"\u001b[39m)\n",
      "\u001b[0;31mKeyboardInterrupt\u001b[0m: "
     ]
    }
   ],
   "source": [
    "##experimental remove later \n",
    "\n",
    "\n",
    "#print(result)\n",
    "\n",
    "import ipyparallel as ipp\n",
    "cluster = ipp.Cluster(n=6)\n",
    "cluster.start_cluster_sync()\n",
    "\n",
    "rc = cluster.connect_client_sync()\n",
    "rc.wait_for_engines(6)\n",
    "rc.ids\n",
    "dview = rc[:]\n",
    "\n",
    "with dview.sync_imports():\n",
    "    from preprocess.uaUtils import open_fua\n",
    "    import os\n",
    "    import glob\n",
    "    import h5netcdf\n",
    "    import rioxarray\n",
    "    import geopandas\n",
    "    import numpy\n",
    "    from tqdm.notebook import tqdm\n",
    "    from preprocess.uaUtils import open_fua\n",
    "    from preprocess.s2Utils import search_product,open_tile, get_tile_info, get_prod_info\n",
    "    from preprocess.utils import str_to_oao, class_dict,org_files\n",
    "    \n",
    "    import geopandas as gp\n",
    "    import os\n",
    "\n",
    "    from geocube.api.core import make_geocube\n",
    "    from functools import partial\n",
    "    from geocube.rasterize import rasterize_image\n",
    "    from preprocess.classDict import class_dict\n",
    "    import shutil\n",
    "    import numpy\n",
    "    import glob\n",
    "    import geopandas\n",
    "\n",
    "\n",
    "    from geocube.api.core import make_geocube\n",
    "    from functools import partial\n",
    "    from geocube.rasterize import rasterize_image\n",
    "    from preprocess.classDict import class_dict\n",
    "    import shutil\n",
    "    import numpy\n",
    "    import glob\n",
    "    \n",
    "\n",
    "    \n",
    "@dview.parallel(block=True)    \n",
    "def rem_rasterize(patch_labls):\n",
    "    patch_labls['train_id'] = patch_labls['code_2018'].apply(lambda x: numpy.uint16(class_dict[str(x)]['train_id']))\n",
    "    patch_labls['class_code'] = patch_labls['code_2018'].apply(lambda  x:  numpy.uint16(int(x)))\n",
    "    roads = patch_labls[patch_labls.code_2018.isin(['12210','12220','12230'])]\n",
    "    \n",
    "    cube  = make_geocube(\n",
    "        vector_data=patch_labls,\n",
    "        measurements=['class_code','train_id'],\n",
    "        resolution=(10,-10),\n",
    "        rasterize_function=partial(rasterize_image,dtype=numpy.dtype('uint16')),\n",
    "        fill = 0\n",
    "    )\n",
    "    \n",
    "    roads = make_geocube(\n",
    "        vector_data=roads,\n",
    "        measurements=['class_code','train_id'],\n",
    "        resolution=(10,-10),\n",
    "        rasterize_function=partial(rasterize_image,all_touched=True,dtype=numpy.dtype('uint16')),\n",
    "            fill=0\n",
    "    )\n",
    "    \n",
    "    cube = roads.where(roads.train_id!=0).combine_first(cube)  #merge roads  \n",
    "    cube = cube.assign(train_id = lambda ds: ds.train_id.astype('uint16'))\n",
    "    cube = cube.assign(class_code = lambda ds: ds.class_code.astype('uint16'))\n",
    "    return(cube)\n",
    "\n",
    "@dview.parallel(block=True)\n",
    "def rem_save_cube(cube,savedir):\n",
    "                # patch filename and \n",
    "    filename = \"PATCH_{i_d}_{tile}_{start}_{fua}_{size}.nc\".format(i_d=cube.attrs['patch_id'],\n",
    "                                                                   tile=cube.attrs['Tile'],\n",
    "                                                                   start=cube.attrs['sensing_start'],\n",
    "                                                                   fua=cube.attrs['FUA'],\n",
    "                                                                   size=cube.dims['x'])\n",
    "              \n",
    "    if not os.path.exists(savedir):\n",
    "        os.makedirs(savedir)\n",
    "    cube.to_netcdf(path=os.path.join(savedir,filename),format='NETCDF4')\n",
    "\n",
    "\n",
    "    \n",
    "#@dview.remote(block=True)\n",
    "#def proc_fua(path,s2tiles,scb_grid,sdir,s2_path):\n",
    "def proc_fua(path):\n",
    "        \n",
    "    def clip_tile(tile,clip_shape):\n",
    "        bounds  = clip_shape.to_crs(tile.rio.crs).total_bounds\n",
    "        patch = tile.rio.clip_box(minx=bounds[0],\n",
    "                                  miny=bounds[1],\n",
    "                                  maxx=bounds[2],\n",
    "                                  maxy=bounds[3])\n",
    "        return(patch)\n",
    "\n",
    "    def get_obj_within(obj,roi):\n",
    "        return obj[(obj.id.isin(obj.sjoin(roi,predicate='within').id))]\n",
    "\n",
    "    res= None\n",
    "    #sdir = sdir[0]\n",
    "    #s2_path=s2_path[0]\n",
    "    #scb_grid = scb_grid[0]\n",
    "    #path = path[0]\n",
    "    #s2tiles = s2tiles[0]\n",
    "    bad_patch=[]\n",
    "    fua_labls,fua_bound = open_fua(path)             # open fua layers\n",
    "    tiles_inters = s2tiles.sjoin(fua_bound, predicate='intersects')  #get intersecting tiles for fua\n",
    "    fua_name = str_to_oao(fua_bound.fua_name[0])\n",
    "    \n",
    "    for tile in tqdm(tiles_inters.itertuples(),desc='Intersecting tiles',total=len(tiles_inters)): # for every intersecting tile\n",
    "        \n",
    "        # select patches within curr tile\n",
    "        curr_tile = s2tiles[s2tiles.Name.isin([tile.Name])]                                               \n",
    "        patches_within = get_obj_within(get_obj_within(scb_grid,curr_tile),fua_bound) #select patches(grid) within curr_tile and within fua\n",
    "        #savedir\n",
    "        savedir = os.path.join(sdir,'{}/{}/'.format(fua_name,tile.Name))\n",
    "        #print(savedir)\n",
    "        #open curr tile \n",
    "        s2_tile = open_tile(tile.Name,s2_path)\n",
    "        \n",
    "        for patch in tqdm(patches_within.itertuples(),total=len(patches_within), desc='FUA: {}, Tile: {}'.format(fua_name,tile.Name)):\n",
    "            \n",
    "            # get current patch and clip labels to patch extent\n",
    "            curr_patch = scb_grid[(scb_grid.id.isin([patch.id]))]\n",
    "            # clip tile and labels to patch extent\n",
    "            s2_patch = clip_tile(s2_tile,curr_patch)\n",
    "            patch_labls = fua_labls.clip(curr_patch)\n",
    "            #rasterize patch labels \n",
    "            try:\n",
    "                cube = rem_rasterize(patch_labls)\n",
    "            except:\n",
    "                bad_patch.append(patch.id)\n",
    "            else:    \n",
    "                #merge s2_patch and patch labels\n",
    "                \n",
    "                cube = cube.merge(s2_patch.rio.reproject_match(cube)) #append to cube\n",
    "                # reduce coordinate dimensions by one\n",
    "                if cube.dims['x'] > patch_size:\n",
    "                    cube=cube.isel(x=slice(None, -1), y=slice(None, -1))           \n",
    "            \n",
    "                #set attributes to cube before saving\n",
    "                cube.attrs[\"patch_id\"] = patch.id\n",
    "                cube.attrs['FUA'] = fua_name\n",
    "                for key,value in get_tile_info(tile.Name,s2_path).items():\n",
    "                    cube.attrs[key] = value\n",
    "\n",
    "\n",
    "                cube.train_id.attrs['_fillValue']=255\n",
    "                cube.class_code.attrs['_fillValue']=255\n",
    "                rem_save_cube(cube,savedir)\n",
    "           \n",
    "    \n",
    "    return('test')\n",
    "#scb_grid[scb_grid.id.isin(scb_grid.sjoin(curr_tile,predicate='within').id]\n",
    "\n",
    "\n",
    "#print(proc_fua([ua_paths[3]],[s2tiles],[scb_grid],[sdir],[s2_path]))\n",
    "print(proc_fua(ua_paths[0]))"
   ]
  },
  {
   "cell_type": "markdown",
   "id": "075a7be5",
   "metadata": {},
   "source": [
    "#### Compact Naming Convention\n",
    "\n",
    "The compact naming convention is arranged as follows:\n",
    "\n",
    "MMM_MSIXXX_YYYYMMDDHHMMSS_Nxxyy_ROOO_Txxxxx_<Product Discriminator>.SAFE\n",
    "\n",
    "The products contain two dates.\n",
    "\n",
    "The first date (YYYYMMDDHHMMSS) is the datatake sensing time.\n",
    "The second date is the \"Product Discriminator\" field, which is 15 characters in length, and is used to distinguish between different end user products from the same datatake. Depending on the instance, the time in this field can be earlier or slightly later than the datatake sensing time.\n",
    "\n",
    "The other components of the filename are:\n",
    "\n",
    "* MMM: is the mission ID(S2A/S2B)\n",
    "* MSIXXX: MSIL1C denotes the Level-1C product level/ MSIL2A denotes the Level-2A product level\n",
    "* YYYYMMDDHHMMSS: the datatake sensing start time\n",
    "* Nxxyy: the PDGS Processing Baseline number (e.g. N0204)\n",
    "* ROOO: Relative Orbit number (R001 - R143)\n",
    "* Txxxxx: Tile Number field\n",
    "\n",
    "SAFE: Product Format (Standard Archive Format for Europe)\n",
    "\n",
    "Source https://sentinel.esa.int/web/sentinel/user-guides/sentinel-2-msi/naming-convention"
   ]
  },
  {
   "cell_type": "code",
   "execution_count": null,
   "id": "2fd8f094-540d-4f18-b5ef-6ff75f9c2ccf",
   "metadata": {},
   "outputs": [],
   "source": [
    "bad_p = ['46008',\n",
    " '48950',\n",
    " '47261',\n",
    " '45171',\n",
    " '45997',\n",
    " '45592',\n",
    " '47692',\n",
    " '41799',\n",
    " '48950',\n",
    " '48514',\n",
    " '48514',\n",
    " '60278',\n",
    " '60679',\n",
    " '56922',\n",
    " '53536',\n",
    " '56077',\n",
    " '58600',\n",
    " '59854',\n",
    " '59009',\n",
    " '56053',\n",
    " '51452',\n",
    " '9139',\n",
    " '8715',\n",
    " '7450',\n",
    " '4934',\n",
    " '5354',\n",
    " '4082',\n",
    " '5349',\n",
    " '4923',\n",
    " '11652',\n",
    " '8299',\n",
    " '9551',\n",
    " '10387',\n",
    " '8719',\n",
    " '7050',\n",
    " '9139',\n",
    " '8719',\n",
    " '7470',\n",
    " '8299',\n",
    " '60303',\n",
    " '64920',\n",
    " '56945',\n",
    " '62823',\n",
    " '59454',\n",
    " '59460',\n",
    " '57356',\n",
    " '65340',\n",
    " '60731',\n",
    " '60723',\n",
    " '61151',\n",
    " '59457',\n",
    " '60311',\n",
    " '54844',\n",
    " '59891',\n",
    " '62403',\n",
    " '61143',\n",
    " '59880',\n",
    " '59454',\n",
    " '59871',\n",
    " '58607',\n",
    " '63229',\n",
    " '63226',\n",
    " '57346',\n",
    " '60288',\n",
    " '63640',\n",
    " '62809',\n",
    " '59024',\n",
    " '16274',\n",
    " '15017',\n",
    " '15430',\n",
    " '13760',\n",
    " '15017',\n",
    " '45635',\n",
    " '42276',\n",
    " '42276',\n",
    " '47310',\n",
    " '45635',\n",
    " '15505',\n",
    " '16766',\n",
    " '15087',\n",
    " '26785',\n",
    " '26365',\n",
    " '28035',\n",
    " '28455',\n",
    " '28867',\n",
    " '28455',\n",
    " '28035',\n",
    " '33010',\n",
    " '31752',\n",
    " '37211',\n",
    " '35105',\n",
    " '34262',\n",
    " '38048',\n",
    " '41027',\n",
    " '40601',\n",
    " '43553',\n",
    " '41035',\n",
    " '38923',\n",
    " '35984',\n",
    " '40604',\n",
    " '39349',\n",
    " '18468',\n",
    " '19313',\n",
    " '20985',\n",
    " '18041',\n",
    " '17213',\n",
    " '17200',\n",
    " '19306',\n",
    " '19730',\n",
    " '18896']\n"
   ]
  }
 ],
 "metadata": {
  "kernelspec": {
   "display_name": "Python [conda env:preprocess]",
   "language": "python",
   "name": "conda-env-preprocess-py"
  },
  "language_info": {
   "codemirror_mode": {
    "name": "ipython",
    "version": 3
   },
   "file_extension": ".py",
   "mimetype": "text/x-python",
   "name": "python",
   "nbconvert_exporter": "python",
   "pygments_lexer": "ipython3",
   "version": "3.10.4"
  }
 },
 "nbformat": 4,
 "nbformat_minor": 5
}
