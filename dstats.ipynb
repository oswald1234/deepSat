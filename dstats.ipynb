{
 "cells": [
  {
   "cell_type": "code",
   "execution_count": 68,
   "id": "9d42b4e8-d7f7-4251-9760-6f719dda85ae",
   "metadata": {},
   "outputs": [],
   "source": [
    "import torch\n",
    "import numpy as np\n",
    "\n",
    "import time\n",
    "\n",
    "from dataset.datasets import s2stats\n",
    "from model.models import UNET\n",
    "\n",
    "from torchvision import transforms\n",
    "from torch.utils.data import DataLoader\n",
    "\n",
    "\n",
    "#------------quant_batch----------------------\n",
    "# takes in tensor of shape [batchsize,band,H,w]\n",
    "# max batchsize is 256\n",
    "# permutes dimensions to [band,batchsize,H,W]\n",
    "# flattens dimensions to [band,batchsize*H*W]\n",
    "# calculates quantile for each band on dim=1\n",
    "# \n",
    "\n",
    "def quant_batch(imbatch,q=torch.tensor([0.02,0.98])):\n",
    "    perm = imbatch.permute(1,0,2,3).flatten(start_dim=1)\n",
    "    q = torch.quantile(perm, q, dim=1,interpolation='midpoint')\n",
    "    return(q)\n",
    "\n",
    "  \n",
    "#------example use case\n",
    "# define dataset and dataloader, \n",
    "# dset= s2stats(root_dir='processed-data/dsen_2_256_split/*/*/')\n",
    "# dloader = DataLoader(dset, batch_size=(100), num_workers=0,pin_memory=True,shuffle=True)\n",
    "#\n",
    "# dataiter = iter(dloader)\n",
    "# imgs = dataiter.next()\n",
    "#  \n",
    "# qbatch = quant_batch(imgs.float())\n",
    "# qbatch.shape\n",
    "# output: torch.Size([2,10]) eg  index [0,1] = lower quantile for band 1\n",
    "\n",
    "\n",
    "#----------mean_batch--------\n",
    "# takes in tensor of shape [batchsize,band,H,w]\n",
    "# replaces all inf values with nan to prevent overflow\n",
    "# calculates mean for each band\n",
    "# returns mean for each band: torch.Size[channels]\n",
    "def mean_batch(batch):\n",
    "    batch=batch.nan_to_num(nan=torch.nan, posinf=torch.nan, neginf=torch.nan)\n",
    "    return(torch.nanmean(batch,dim=(0,2,3),out=torch.empty(batch.shape[1])))\n",
    "#-----------std_batch----------\n",
    "# takes in tensor of shape [batchsize,band,H,w]\n",
    "# replaces all inf values with nan to prevent overflow\n",
    "# convert to numpy array\n",
    "# calculates std for each band\n",
    "# returns std for each band: torch.Size[channels]\n",
    "def std_batch(batch):\n",
    "    batch=batch.nan_to_num(nan=torch.nan,posinf=torch.nan,neginf=torch.nan).numpy()\n",
    "    std =np.nanstd(batch,axis=(0,2,3),out=np.empty(batch.shape[1]))\n",
    "    return(torch.from_numpy(std))\n",
    "\n",
    "#temp\n",
    "def p(*args):\n",
    "    print(args)\n",
    "        "
   ]
  },
  {
   "cell_type": "code",
   "execution_count": 1,
   "id": "4f181363-a660-4378-a2c1-67ee14c5157f",
   "metadata": {},
   "outputs": [
    {
     "ename": "NameError",
     "evalue": "name 's2stats' is not defined",
     "output_type": "error",
     "traceback": [
      "\u001b[0;31m---------------------------------------------------------------------------\u001b[0m",
      "\u001b[0;31mNameError\u001b[0m                                 Traceback (most recent call last)",
      "\u001b[1;32m/media/oskar/ESSD/deepSat/dstats.ipynb Cell 2'\u001b[0m in \u001b[0;36m<cell line: 1>\u001b[0;34m()\u001b[0m\n\u001b[0;32m----> <a href='vscode-notebook-cell:/media/oskar/ESSD/deepSat/dstats.ipynb#ch0000001?line=0'>1</a>\u001b[0m dset\u001b[39m=\u001b[39m s2stats(root_dir\u001b[39m=\u001b[39m\u001b[39m'\u001b[39m\u001b[39mprocessed-data/old_dsen_2_256_split/*/*/\u001b[39m\u001b[39m'\u001b[39m)\n\u001b[1;32m      <a href='vscode-notebook-cell:/media/oskar/ESSD/deepSat/dstats.ipynb#ch0000001?line=1'>2</a>\u001b[0m torch\u001b[39m.\u001b[39mdevice(\u001b[39m'\u001b[39m\u001b[39mcpu\u001b[39m\u001b[39m'\u001b[39m)\n\u001b[1;32m      <a href='vscode-notebook-cell:/media/oskar/ESSD/deepSat/dstats.ipynb#ch0000001?line=2'>3</a>\u001b[0m dloader \u001b[39m=\u001b[39m DataLoader(dset,batch_size\u001b[39m=\u001b[39m\u001b[39m20\u001b[39m, pin_memory\u001b[39m=\u001b[39m\u001b[39mTrue\u001b[39;00m,shuffle\u001b[39m=\u001b[39m\u001b[39mFalse\u001b[39;00m)\n",
      "\u001b[0;31mNameError\u001b[0m: name 's2stats' is not defined"
     ]
    }
   ],
   "source": [
    "dset= s2stats(root_dir='processed-data/old_dsen_2_256_split/*/*/')\n",
    "torch.device('cpu')\n",
    "dloader = DataLoader(dset,batch_size=20, pin_memory=True,shuffle=False)\n",
    "#torch.device('cuda')\n",
    "mean = []\n",
    "Nbatch = 0\n",
    "for batch in dloader:\n",
    "    # pixel mean per channel\n",
    "    #batch_std = std_batch(batch)\n",
    "    batch_mean= mean_batch(batch)\n",
    "    mean += batch_mean\n",
    "    Nbatch+=batch.shape[0]\n",
    "    break\n",
    "    \n",
    "#mean\\=Nbatch\n",
    "#batch_std.float()\n",
    "batch_mean\n",
    "#mean"
   ]
  }
 ],
 "metadata": {
  "kernelspec": {
   "display_name": "Python3 (deepsat)",
   "language": "python",
   "name": "deepsat"
  },
  "language_info": {
   "codemirror_mode": {
    "name": "ipython",
    "version": 3
   },
   "file_extension": ".py",
   "mimetype": "text/x-python",
   "name": "python",
   "nbconvert_exporter": "python",
   "pygments_lexer": "ipython3",
   "version": "3.9.7"
  }
 },
 "nbformat": 4,
 "nbformat_minor": 5
}
