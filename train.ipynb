{
 "cells": [
  {
   "cell_type": "code",
   "execution_count": 1,
   "id": "f876a90d",
   "metadata": {
    "scrolled": true
   },
   "outputs": [],
   "source": [
    "# only for testing\n",
    "# use main.py for training\n",
    "\n",
    "\n",
    "# things to improve performance (speed)\n",
    "# use torch.utils.random_split https://www.programcreek.com/python/example/125046/torch.utils.data.random_split\n",
    "# https://pytorch.org/tutorials/recipes/recipes/tuning_guide.html?highlight=checkpoint\n",
    "# implement \"channels Last Memory Format\" (beta) https://pytorch.org/tutorials/intermediate/memory_format_tutorial.html"
   ]
  },
  {
   "cell_type": "code",
   "execution_count": 2,
   "id": "947076a9-f676-42ad-b111-6283eb3398c9",
   "metadata": {},
   "outputs": [
    {
     "name": "stdout",
     "output_type": "stream",
     "text": [
      "output: torch.Size([10, 28, 256, 256])\n",
      "labl torch.Size([10, 256, 256])\n",
      "pred: torch.Size([10, 256, 256])\n"
     ]
    }
   ],
   "source": [
    "# sample image\n",
    "import torch\n",
    "\n",
    "from dataset.utils import pNormalize\n",
    "from dataset.datasets import sentinel\n",
    "from model.models import UNET\n",
    "\n",
    "from torchvision import transforms\n",
    "from torch.utils.data import DataLoader\n",
    "q_hi = torch.tensor([2102.0, 1716.0, 1398.0, 4732.0, 2434.42919921875, 3701.759765625, 4519.2177734375, 4857.7734375, 3799.80322265625, 3008.8935546875])\n",
    "q_lo = torch.tensor([102.0, 159.0, 107.0, 77.0, 106.98081970214844, 79.00384521484375, 86.18966674804688, 70.40167236328125, 50.571197509765625, 36.95356750488281])\n",
    "        \n",
    "norm = pNormalize(\n",
    "                maxPer=q_hi,\n",
    "                minPer=q_lo\n",
    ")\n",
    "\n",
    "\n",
    "# Create experimental dataset and loader, rgb=True for 3 channels (default = False)\n",
    "test_set = sentinel(\n",
    "    root_dir='processed-data/dsen_2_256_new_split', img_transform=norm)\n",
    "test_loader = DataLoader(test_set, batch_size=10, num_workers=0)\n",
    "\n",
    "\n",
    "# access one image from dataset\n",
    "img, label = test_set[0]\n",
    "#print('image shape:', img.shape)\n",
    "\n",
    "\n",
    "# or  batch from DataLoader\n",
    "dataiter = iter(test_loader)\n",
    "images, labels = dataiter.next()\n",
    "\n",
    "\n",
    "\n",
    "\n",
    "\n",
    "# define model\n",
    "model = UNET(in_channels=images.shape[1])\n",
    "model.load_state_dict(torch.load('model_epoch_14.pt',map_location=torch.device('cpu')))\n",
    "# disable gradients etc. model.train() for training https://medium.com/jun94-devpblog/pytorch-6-model-train-vs-model-eval-no-grad-hyperparameter-tuning-3812c216a3bd\n",
    "model.eval()\n",
    "\n",
    "output = model(images)\n",
    "\n",
    "#pred = torch.argmax(output, dim=1)\n",
    "     # prediction\n",
    "pred= torch.nn.functional.softmax(output,dim=1)\n",
    "pred = torch.argmax(pred,dim=1)\n",
    "\n",
    "\n",
    "#print('prediction:', pred.shape)\n",
    "#print('labels:', labels.shape)\n",
    "\n",
    "print('output:',output.shape)\n",
    "print('labl', labels.shape)\n",
    "print('pred:',pred.shape)"
   ]
  },
  {
   "cell_type": "code",
   "execution_count": 1,
   "id": "5ad8ac6a",
   "metadata": {},
   "outputs": [
    {
     "ename": "NameError",
     "evalue": "name 'test_loader' is not defined",
     "output_type": "error",
     "traceback": [
      "\u001b[0;31m---------------------------------------------------------------------------\u001b[0m",
      "\u001b[0;31mNameError\u001b[0m                                 Traceback (most recent call last)",
      "\u001b[1;32m/media/oskar/ESSD/deepSat/train.ipynb Cell 3'\u001b[0m in \u001b[0;36m<cell line: 29>\u001b[0;34m()\u001b[0m\n\u001b[1;32m     <a href='vscode-notebook-cell:/media/oskar/ESSD/deepSat/train.ipynb#ch0000002?line=25'>26</a>\u001b[0m     plt\u001b[39m.\u001b[39maxis(\u001b[39m'\u001b[39m\u001b[39moff\u001b[39m\u001b[39m'\u001b[39m)\n\u001b[1;32m     <a href='vscode-notebook-cell:/media/oskar/ESSD/deepSat/train.ipynb#ch0000002?line=26'>27</a>\u001b[0m     plt\u001b[39m.\u001b[39mshow()\n\u001b[0;32m---> <a href='vscode-notebook-cell:/media/oskar/ESSD/deepSat/train.ipynb#ch0000002?line=28'>29</a>\u001b[0m \u001b[39mfor\u001b[39;00m idx,(images,labels) \u001b[39min\u001b[39;00m \u001b[39menumerate\u001b[39m(test_loader):\n\u001b[1;32m     <a href='vscode-notebook-cell:/media/oskar/ESSD/deepSat/train.ipynb#ch0000002?line=29'>30</a>\u001b[0m \u001b[39m#dataiter = iter(test_loader)\u001b[39;00m\n\u001b[1;32m     <a href='vscode-notebook-cell:/media/oskar/ESSD/deepSat/train.ipynb#ch0000002?line=30'>31</a>\u001b[0m \u001b[39m#images, labels = dataiter.next()\u001b[39;00m\n\u001b[1;32m     <a href='vscode-notebook-cell:/media/oskar/ESSD/deepSat/train.ipynb#ch0000002?line=31'>32</a>\u001b[0m     output \u001b[39m=\u001b[39m model(images)\n\u001b[1;32m     <a href='vscode-notebook-cell:/media/oskar/ESSD/deepSat/train.ipynb#ch0000002?line=32'>33</a>\u001b[0m     pred\u001b[39m=\u001b[39m torch\u001b[39m.\u001b[39mnn\u001b[39m.\u001b[39mfunctional\u001b[39m.\u001b[39msoftmax(output,dim\u001b[39m=\u001b[39m\u001b[39m1\u001b[39m)\n",
      "\u001b[0;31mNameError\u001b[0m: name 'test_loader' is not defined"
     ]
    }
   ],
   "source": [
    "import matplotlib.pyplot as plt\n",
    "import torch \n",
    "\n",
    "def plot_pred_lbl_rgb(pred,labl,rgb):\n",
    "    \n",
    "    # def fig\n",
    "    fig = plt.figure(figsize=(10, 7))\n",
    "    rows = 1\n",
    "    columns = 3\n",
    "    \n",
    "    # Adds a subplot at the 1st position\n",
    "    fig.add_subplot(rows, columns, 1)\n",
    "    plt.imshow(pred)\n",
    "    \n",
    "    plt.title(\"Pred (%d classes)\"%(len(torch.unique(pred)))) \n",
    "    \n",
    "    # Adds a subplot at the 2nd position\n",
    "    fig.add_subplot(rows, columns, 2)\n",
    "    plt.imshow(labl)          \n",
    "    plt.title(\"Label (%d classes)\"%(len(torch.unique(labl))))\n",
    "    \n",
    "    # Adds a subplot at the 3rd position\n",
    "    fig.add_subplot(rows, columns, 3)\n",
    "    plt.imshow(rgb.permute(1,2,0).numpy())\n",
    "    plt.title(\"RGB\")\n",
    "    plt.axis('off')\n",
    "    plt.show()\n",
    "\n",
    "for idx,(images,labels) in enumerate(test_loader):\n",
    "#dataiter = iter(test_loader)\n",
    "#images, labels = dataiter.next()\n",
    "    output = model(images)\n",
    "    pred= torch.nn.functional.softmax(output,dim=1)\n",
    "    pred = torch.argmax(pred,dim=1)\n",
    "    break\n",
    "    #for i in range(pred.shape[0]):\n",
    "    #    plot_pred_lbl_rgb(pred[i,:,:],labels[i,:,:], images[i,0:3,:,:]  )\n",
    "    #if idx==5:\n",
    "    #    break"
   ]
  },
  {
   "cell_type": "code",
   "execution_count": 6,
   "id": "aded7b68-76fb-437e-9fb0-4a9d8466096a",
   "metadata": {},
   "outputs": [],
   "source": [
    "import torchvision\n",
    "from datetime import datetime\n",
    "\n",
    "\n",
    "# PyTorch TensorBoard support\n",
    "from torch.utils.tensorboard import SummaryWriter\n",
    "from datetime import datetime\n",
    "# visualise images in tensorboard\n",
    "# Create a grid from the images and show them\n",
    "# https://pytorch.org/vision/main/auto_examples/plot_visualization_utils.html#sphx-glr-auto-examples-plot-visualization-utils-py\n",
    "img_grid = torchvision.utils.make_grid(pred.unsqueeze(dim=1))\n",
    "#show(img_grid)\n",
    "#matplotlib_imshow(img_grid, one_channel=False)\n",
    "#print('  '.join(classes[labels[j]] for j in range(4))\n",
    "# Default log_dir argument is \"runs\" - but it's good to be specific\n",
    "# torch.utils.tensorboard.SummaryWriter is imported above\n",
    "timestamp = datetime.now().strftime('%Y%m%d_%H%M%S')\n",
    "writer = SummaryWriter('runs/visualise_data')\n",
    "\n",
    "# Write image data to TensorBoard log dir\n",
    "writer.add_image('Four Sat Images', img_grid)\n",
    "writer.flush()\n",
    "\n",
    "# To view, start TensorBoard on the command line with:\n",
    "#  tensorboard --logdir=runs\n",
    "# ...and open a browser tab to http://localhost:6006/\n",
    "\n",
    "#if on remote\n",
    "## on remote\n",
    "##tensorboard --logdir <path> --port 6006\n",
    "## forward everything on port 6006 on server to \n",
    "##ssh -L 16006:127.0.0.1:6006 -i vmexjobb_key.pem exjobbare@vdexjobb.westeurope.cloudapp.azure.com"
   ]
  },
  {
   "cell_type": "code",
   "execution_count": null,
   "id": "c99a7a6d",
   "metadata": {},
   "outputs": [
    {
     "name": "stdout",
     "output_type": "stream",
     "text": [
      "1.12.0.dev20220425\n"
     ]
    },
    {
     "data": {
      "text/plain": [
       "<torch.utils.tensorboard.writer.SummaryWriter at 0x7f3538b75f70>"
      ]
     },
     "execution_count": 5,
     "metadata": {},
     "output_type": "execute_result"
    }
   ],
   "source": [
    "# run this to make sure tensorboard is working\n",
    "#!conda list | grep tensorboard\n",
    "import torch\n",
    "#!conda install tensorboard -y\n",
    "from torch.utils.tensorboard import SummaryWriter\n",
    "print(torch.__version__)\n",
    "\n",
    "#make sure this executes\n",
    "SummaryWriter()"
   ]
  },
  {
   "cell_type": "code",
   "execution_count": 4,
   "id": "030f47c7",
   "metadata": {},
   "outputs": [
    {
     "ename": "NameError",
     "evalue": "name 'training_loader' is not defined",
     "output_type": "error",
     "traceback": [
      "\u001b[0;31m---------------------------------------------------------------------------\u001b[0m",
      "\u001b[0;31mNameError\u001b[0m                                 Traceback (most recent call last)",
      "\u001b[1;32m/media/oskar/ESSD/deepSat/train.ipynb Cell 2'\u001b[0m in \u001b[0;36m<cell line: 3>\u001b[0;34m()\u001b[0m\n\u001b[1;32m      <a href='vscode-notebook-cell:/media/oskar/ESSD/deepSat/train.ipynb#ch0000001?line=0'>1</a>\u001b[0m \u001b[39m#visualise images in tensorboard\u001b[39;00m\n\u001b[0;32m----> <a href='vscode-notebook-cell:/media/oskar/ESSD/deepSat/train.ipynb#ch0000001?line=2'>3</a>\u001b[0m dataiter \u001b[39m=\u001b[39m \u001b[39miter\u001b[39m(training_loader)\n\u001b[1;32m      <a href='vscode-notebook-cell:/media/oskar/ESSD/deepSat/train.ipynb#ch0000001?line=3'>4</a>\u001b[0m images, labels \u001b[39m=\u001b[39m dataiter\u001b[39m.\u001b[39mnext()\n\u001b[1;32m      <a href='vscode-notebook-cell:/media/oskar/ESSD/deepSat/train.ipynb#ch0000001?line=5'>6</a>\u001b[0m \u001b[39m# Create a grid from the images and show them\u001b[39;00m\n\u001b[1;32m      <a href='vscode-notebook-cell:/media/oskar/ESSD/deepSat/train.ipynb#ch0000001?line=6'>7</a>\u001b[0m \u001b[39m# https://pytorch.org/vision/main/auto_examples/plot_visualization_utils.html#sphx-glr-auto-examples-plot-visualization-utils-py\u001b[39;00m\n",
      "\u001b[0;31mNameError\u001b[0m: name 'training_loader' is not defined"
     ]
    }
   ],
   "source": [
    "#visualise images in tensorboard\n",
    "\n",
    "dataiter = iter(training_loader)\n",
    "images, labels = dataiter.next()\n",
    "\n",
    "# Create a grid from the images and show them\n",
    "# https://pytorch.org/vision/main/auto_examples/plot_visualization_utils.html#sphx-glr-auto-examples-plot-visualization-utils-py\n",
    "img_grid = torchvision.utils.make_grid(images)\n",
    "#show(img_grid)\n",
    "#matplotlib_imshow(img_grid, one_channel=False)\n",
    "#print('  '.join(classes[labels[j]] for j in range(4))\n",
    "# Default log_dir argument is \"runs\" - but it's good to be specific\n",
    "# torch.utils.tensorboard.SummaryWriter is imported above\n",
    "timestamp = datetime.now().strftime('%Y%m%d_%H%M%S')\n",
    "writer = SummaryWriter('runs/visualise_data')\n",
    "\n",
    "# Write image data to TensorBoard log dir\n",
    "writer.add_image('Sat Images', img_grid)\n",
    "writer.flush()\n",
    "\n",
    "# To view, start TensorBoard on the command line with:\n",
    "#  tensorboard --logdir=runs\n",
    "# ...and open a browser tab to http://localhost:6006/\n",
    "\n",
    "#if on remote\n",
    "## on remote\n",
    "##tensorboard --logdir <path> --port 6006\n",
    "## forward everything on port 6006 on server to \n",
    "##ssh -L 16006:127.0.0.1:6006 -i vmexjobb_key.pem exjobbare@vdexjobb.westeurope.cloudapp.azure.com"
   ]
  },
  {
   "cell_type": "code",
   "execution_count": null,
   "id": "715a5e66",
   "metadata": {},
   "outputs": [
    {
     "name": "stderr",
     "output_type": "stream",
     "text": [
      "/media/oskar/ESSD/deepSat/model/models.py:56: TracerWarning: Converting a tensor to a Python boolean might cause the trace to be incorrect. We can't record the data flow of Python values, so this value will be treated as a constant in the future. This means that the trace might not generalize to other inputs!\n",
      "  if x.shape != concat_layer.shape:\n"
     ]
    }
   ],
   "source": [
    "#visualizing model in tensorboard\n",
    "\n",
    "\n",
    "# Again, grab a single mini-batch of images\n",
    "dataiter = iter(training_loader)\n",
    "images, labels = dataiter.next()\n",
    "\n",
    "# add_graph() will trace the sample input through your model,\n",
    "# and render it as a graph.\n",
    "writer.add_graph(model, images)\n",
    "writer.flush()"
   ]
  }
 ],
 "metadata": {
  "interpreter": {
   "hash": "1a772cf3982d27f7efa5dd5ee7ce70eb2de69f36da9772dbcefc10fee67f331e"
  },
  "kernelspec": {
   "display_name": "Python 3.8.13 ('deepsat')",
   "language": "python",
   "name": "python3"
  },
  "language_info": {
   "codemirror_mode": {
    "name": "ipython",
    "version": 3
   },
   "file_extension": ".py",
   "mimetype": "text/x-python",
   "name": "python",
   "nbconvert_exporter": "python",
   "pygments_lexer": "ipython3",
   "version": "3.8.13"
  }
 },
 "nbformat": 4,
 "nbformat_minor": 5
}
