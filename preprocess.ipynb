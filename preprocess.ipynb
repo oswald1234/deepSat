{
 "cells": [
  {
   "cell_type": "markdown",
   "id": "240046b6",
   "metadata": {},
   "source": [
    "### Preprocess Raw-data\n",
    "start env preprocess\n"
   ]
  },
  {
   "cell_type": "code",
   "execution_count": 11,
   "id": "4f723f39",
   "metadata": {},
   "outputs": [
    {
     "name": "stdout",
     "output_type": "stream",
     "text": [
      "Looking for sentinel products in:\n",
      " /home/exjobbare/projects/datadrive0/deepSat/../dsen2_results/timeperiod1/ \n",
      "\n",
      "---- Found sentinel products: ----\n",
      "Found: T33UUB 2018-07-26 10:20:19 S2B_MSIL2A_20180726T102019_N9999_R065_T33UUB_20220422T084315.tif\n",
      "Found: T33VUC 2018-07-04 10:30:21 S2A_MSIL2A_20180704T103021_N9999_R108_T33VUC_20220421T224702.tif\n",
      "Found: T33VUD 2018-06-29 10:30:19 S2B_MSIL2A_20180629T103019_N9999_R108_T33VUD_20220422T073547.tif\n",
      "Found: T33VUE 2018-07-04 10:30:21 S2A_MSIL2A_20180704T103021_N9999_R108_T33VUE_20220421T230429.tif\n",
      "Found: T33VVD 2018-07-26 10:20:19 S2B_MSIL2A_20180726T102019_N9999_R065_T33VVD_20220422T090148.tif\n",
      "Found: T33VVE 2018-06-01 10:20:21 S2A_MSIL2A_20180601T102021_N9999_R065_T33VVE_20220421T205914.tif\n",
      "Found: T33VVF 2018-07-04 10:30:21 S2A_MSIL2A_20180704T103021_N9999_R108_T33VVF_20220422T064154.tif\n",
      "Found: T33VWE 2018-06-01 10:20:21 S2A_MSIL2A_20180601T102021_N9999_R065_T33VWE_20220421T211715.tif\n",
      "Found: T33VWF 2018-06-01 10:20:21 S2A_MSIL2A_20180601T102021_N9999_R065_T33VWF_20220421T213620.tif\n",
      "Found: T33VWG 2018-06-01 10:20:21 S2A_MSIL2A_20180601T102021_N9999_R065_T33VWG_20220421T215421.tif\n",
      "Found: T33VXF 2018-06-28 10:10:31 S2A_MSIL2A_20180628T101031_N9999_R022_T33VXF_20220421T221214.tif\n",
      "Found: T33VXG 2018-06-03 10:10:19 S2B_MSIL2A_20180603T101019_N9999_R022_T33VXG_20220422T065934.tif\n",
      "Found: T34VCL 2018-06-28 10:10:31 S2A_MSIL2A_20180628T101031_N9999_R022_T34VCL_20220421T223005.tif\n",
      "Found: T34VCM 2018-06-03 10:10:19 S2B_MSIL2A_20180603T101019_N9999_R022_T34VCM_20220422T071743.tif\n",
      "Found: T34VDR 2018-07-16 10:20:19 S2B_MSIL2A_20180716T102019_N9999_R065_T34VDR_20220422T075921.tif\n",
      "Found: T34WDS 2018-07-16 10:20:19 S2B_MSIL2A_20180716T102019_N9999_R065_T34WDS_20220422T081954.tif\n",
      "\n",
      "---- Found LULC data: ----\n",
      "Found: SE001L1_STOCKHOLM_UA2018_v013.gpkg\n",
      "Found: SE004L1_JONKOPING_UA2018_v013.gpkg\n",
      "Found: SE007L1_LINKOPING_UA2018_v013.gpkg\n",
      "Found: SE003L1_MALMO_UA2018_v013.gpkg\n",
      "Found: SE002L1_GOTEBORG_UA2018_v013.gpkg\n",
      "Found: SE005L1_UMEA_UA2018_v013.gpkg\n",
      "Found: SE006L1_UPPSALA_UA2018_v013.gpkg\n",
      "Found: SE008L1_OREBRO_UA2018_v013.gpkg\n",
      "Found: SE505L1_BORAS_UA2018_v013.gpkg\n",
      "Found: SE503L1_HELSINGBORG_UA2018_v013.gpkg\n",
      "Found: SE501L1_VASTERAS_UA2018_v013.gpkg\n",
      "Found: SE502L1_NORRKOPING_UA2018_v013.gpkg\n",
      "\n",
      " Save processed data to: \n",
      " /home/exjobbare/projects/datadrive0/deepSat/processed-data/dsen_2_256/timeperiod1\n"
     ]
    }
   ],
   "source": [
    "\n",
    "import os\n",
    "# path to 'deepSat' containing: \n",
    "# \"raw-data/AOI/tile_selection.gpkg\", \n",
    "# 'raw-data/AOI/patch_size_features.gpkg', \n",
    "# 'raw-data/LULC-Sweden/*/Data/*.gpkg'\n",
    "# 'raw-data/sentinel-2/Tidsperiod-x/'\n",
    "\n",
    "root_path = '/home/exjobbare/projects/datadrive0/deepSat/'\n",
    "timeperiod = 1 # timeperiod (tp) 1 eller 2\n",
    "\n",
    "patch_size = 256  #choose between ['64','128','256']\n",
    "source = 'dsen_2' # for savedir... e.g. TCI => TCI_256 if patch_size=256\n",
    "data_source = source + '_{}'.format(patch_size)\n",
    "tp = 'timeperiod{}'.format(timeperiod)\n",
    "sdir = os.path.join(root_path,'processed-data/{source}/{tp}'.format(source=data_source,tp=tp))\n",
    "\n",
    "import glob\n",
    "import h5netcdf\n",
    "import xarray as xr\n",
    "import numpy as np\n",
    "import pandas as pd\n",
    "import rioxarray as rio\n",
    "from geopandas import read_file\n",
    "from tqdm.notebook import tqdm\n",
    "from preprocess.uaUtils import open_fua\n",
    "from preprocess.s2Utils import search_product,open_tile,clip_tile,open_clip_tile, get_tile_info, get_prod_info\n",
    "from preprocess.utils import rasterize,get_obj_within,str_to_oao, save_cube,class_dict,org_files\n",
    "\n",
    "xr.set_options(keep_attrs=True)\n",
    "\n",
    "\n",
    "# path to Urban Atlas (UA) data\n",
    "ua_paths = glob.glob(os.path.join(root_path,'raw-data/LULC-Sweden/*/Data/*.gpkg'))\n",
    "\n",
    "# path to s2 products\n",
    "s2_path = os.path.join(root_path,'../dsen2_results/{}/'.format(tp))\n",
    "#s2_path = os.path.join(root_path,'raw-data/sentinel-2/{}/'.format(tp))\n",
    "print('Looking for sentinel products in:\\n',s2_path,'\\n')\n",
    "ua_crs = read_file(ua_paths[0]).crs\n",
    "\n",
    "# path to s2 tiles to use \n",
    "s2tiles = read_file(os.path.join(root_path,'raw-data/AOI/tile_selection.gpkg')).to_crs(ua_crs)\n",
    "\n",
    "# path to scb patches of size*size\n",
    "scb_grid = read_file(os.path.join(root_path,'raw-data/AOI/patch_size_features.gpkg'),layer = \"patch_{}\".format(patch_size)).to_crs(ua_crs)\n",
    "\n",
    "\n",
    "# check that desired s2tiles existst in s2_path\n",
    "print('---- Found sentinel products: ----')\n",
    "for tile in s2tiles.itertuples():\n",
    "    prod,date= search_product(s2_path,tile.Name)\n",
    "    if prod:\n",
    "        for i, prod in enumerate(prod):\n",
    "            fn=os.path.basename(prod)\n",
    "            print('Found:',get_prod_info(fn)['Tile'],pd.to_datetime(date[i]),fn)\n",
    "    else:\n",
    "        print('No found sentinel products for tile:',tile.Name)\n",
    "          \n",
    "# list found FUAS\n",
    "print('\\n---- Found LULC data: ----')\n",
    "if ua_paths:\n",
    "    for ua_path in ua_paths:\n",
    "        print('Found:',os.path.basename(ua_path))\n",
    "else:\n",
    "    print('No LULC data found')\n",
    "    \n",
    "\n",
    "print('\\n Save processed data to: \\n',  sdir)"
   ]
  },
  {
   "cell_type": "code",
   "execution_count": 2,
   "id": "3a891104",
   "metadata": {},
   "outputs": [
    {
     "data": {
      "application/vnd.jupyter.widget-view+json": {
       "model_id": "1fabf11394ef455f86994d3c129c8676",
       "version_major": 2,
       "version_minor": 0
      },
      "text/plain": [
       "Total progress:   0%|          | 0/12 [00:00<?, ?it/s]"
      ]
     },
     "metadata": {},
     "output_type": "display_data"
    },
    {
     "data": {
      "application/vnd.jupyter.widget-view+json": {
       "model_id": "e34a05e00a4d4f2dab664265b4cd5a28",
       "version_major": 2,
       "version_minor": 0
      },
      "text/plain": [
       "Intersecting tiles:   0%|          | 0/4 [00:00<?, ?it/s]"
      ]
     },
     "metadata": {},
     "output_type": "display_data"
    },
    {
     "data": {
      "application/vnd.jupyter.widget-view+json": {
       "model_id": "20b4401f78074bdc99cb5966584cec5b",
       "version_major": 2,
       "version_minor": 0
      },
      "text/plain": [
       "FUA: STOCKHOLM, Tile: 33VXF:   0%|          | 0/324 [00:00<?, ?it/s]"
      ]
     },
     "metadata": {},
     "output_type": "display_data"
    },
    {
     "data": {
      "application/vnd.jupyter.widget-view+json": {
       "model_id": "c1d61ee9a6c44504bdea25de98efa9e0",
       "version_major": 2,
       "version_minor": 0
      },
      "text/plain": [
       "FUA: STOCKHOLM, Tile: 33VXG:   0%|          | 0/233 [00:00<?, ?it/s]"
      ]
     },
     "metadata": {},
     "output_type": "display_data"
    },
    {
     "data": {
      "application/vnd.jupyter.widget-view+json": {
       "model_id": "f12e02cbb00d4bb2aee6a05e9ca1b928",
       "version_major": 2,
       "version_minor": 0
      },
      "text/plain": [
       "FUA: STOCKHOLM, Tile: 34VCL:   0%|          | 0/284 [00:00<?, ?it/s]"
      ]
     },
     "metadata": {},
     "output_type": "display_data"
    },
    {
     "data": {
      "application/vnd.jupyter.widget-view+json": {
       "model_id": "93cf3b365200459694ef6b4cce7c2097",
       "version_major": 2,
       "version_minor": 0
      },
      "text/plain": [
       "Intersecting tiles:   0%|          | 0/2 [00:00<?, ?it/s]"
      ]
     },
     "metadata": {},
     "output_type": "display_data"
    },
    {
     "data": {
      "application/vnd.jupyter.widget-view+json": {
       "model_id": "2e5ab9139edd418c8c565c83b9b1d674",
       "version_major": 2,
       "version_minor": 0
      },
      "text/plain": [
       "FUA: JONKOPING, Tile: 33VVD:   0%|          | 0/46 [00:00<?, ?it/s]"
      ]
     },
     "metadata": {},
     "output_type": "display_data"
    },
    {
     "data": {
      "application/vnd.jupyter.widget-view+json": {
       "model_id": "731700cbbb56450ab07669771edbc1df",
       "version_major": 2,
       "version_minor": 0
      },
      "text/plain": [
       "FUA: JONKOPING, Tile: 33VVE:   0%|          | 0/105 [00:00<?, ?it/s]"
      ]
     },
     "metadata": {},
     "output_type": "display_data"
    },
    {
     "data": {
      "application/vnd.jupyter.widget-view+json": {
       "model_id": "77570a5cf9de4c3eb7c4778c46e3aa82",
       "version_major": 2,
       "version_minor": 0
      },
      "text/plain": [
       "Intersecting tiles:   0%|          | 0/3 [00:00<?, ?it/s]"
      ]
     },
     "metadata": {},
     "output_type": "display_data"
    },
    {
     "data": {
      "application/vnd.jupyter.widget-view+json": {
       "model_id": "53874927bb874099add94a507495f165",
       "version_major": 2,
       "version_minor": 0
      },
      "text/plain": [
       "FUA: LINKOPING, Tile: 33VVE:   0%|          | 0/12 [00:00<?, ?it/s]"
      ]
     },
     "metadata": {},
     "output_type": "display_data"
    },
    {
     "data": {
      "application/vnd.jupyter.widget-view+json": {
       "model_id": "09c61ac51b7d4106b09edee6f90efb05",
       "version_major": 2,
       "version_minor": 0
      },
      "text/plain": [
       "FUA: LINKOPING, Tile: 33VWE:   0%|          | 0/140 [00:00<?, ?it/s]"
      ]
     },
     "metadata": {},
     "output_type": "display_data"
    },
    {
     "data": {
      "application/vnd.jupyter.widget-view+json": {
       "model_id": "4dd39ccc19034128845ecac831a40336",
       "version_major": 2,
       "version_minor": 0
      },
      "text/plain": [
       "FUA: LINKOPING, Tile: 33VWF: 0it [00:00, ?it/s]"
      ]
     },
     "metadata": {},
     "output_type": "display_data"
    },
    {
     "data": {
      "application/vnd.jupyter.widget-view+json": {
       "model_id": "a6097a832a6a421eaabe82bc380c89a9",
       "version_major": 2,
       "version_minor": 0
      },
      "text/plain": [
       "Intersecting tiles:   0%|          | 0/2 [00:00<?, ?it/s]"
      ]
     },
     "metadata": {},
     "output_type": "display_data"
    },
    {
     "data": {
      "application/vnd.jupyter.widget-view+json": {
       "model_id": "4bedb556dd9b472b8985120cea574b8e",
       "version_major": 2,
       "version_minor": 0
      },
      "text/plain": [
       "FUA: MALMO, Tile: 33UUB:   0%|          | 0/188 [00:00<?, ?it/s]"
      ]
     },
     "metadata": {},
     "output_type": "display_data"
    },
    {
     "data": {
      "application/vnd.jupyter.widget-view+json": {
       "model_id": "895a9a792ef64f3d9da2e8aa92435220",
       "version_major": 2,
       "version_minor": 0
      },
      "text/plain": [
       "FUA: MALMO, Tile: 33VUC: 0it [00:00, ?it/s]"
      ]
     },
     "metadata": {},
     "output_type": "display_data"
    },
    {
     "data": {
      "application/vnd.jupyter.widget-view+json": {
       "model_id": "a939f22cc98844ba942bbe2921eb6a87",
       "version_major": 2,
       "version_minor": 0
      },
      "text/plain": [
       "Intersecting tiles:   0%|          | 0/2 [00:00<?, ?it/s]"
      ]
     },
     "metadata": {},
     "output_type": "display_data"
    },
    {
     "data": {
      "application/vnd.jupyter.widget-view+json": {
       "model_id": "91c29bfacace43cf95bdb44838738b05",
       "version_major": 2,
       "version_minor": 0
      },
      "text/plain": [
       "FUA: GOTEBORG, Tile: 33VUD:   0%|          | 0/120 [00:00<?, ?it/s]"
      ]
     },
     "metadata": {},
     "output_type": "display_data"
    },
    {
     "data": {
      "application/vnd.jupyter.widget-view+json": {
       "model_id": "6c7c4a3f883945a781903e596add5b32",
       "version_major": 2,
       "version_minor": 0
      },
      "text/plain": [
       "FUA: GOTEBORG, Tile: 33VUE:   0%|          | 0/296 [00:00<?, ?it/s]"
      ]
     },
     "metadata": {},
     "output_type": "display_data"
    },
    {
     "data": {
      "application/vnd.jupyter.widget-view+json": {
       "model_id": "1ebc4b050d574b94a6f39bfdb03aa593",
       "version_major": 2,
       "version_minor": 0
      },
      "text/plain": [
       "Intersecting tiles:   0%|          | 0/2 [00:00<?, ?it/s]"
      ]
     },
     "metadata": {},
     "output_type": "display_data"
    },
    {
     "data": {
      "application/vnd.jupyter.widget-view+json": {
       "model_id": "a4e292a361654225ab70529b8e85aef7",
       "version_major": 2,
       "version_minor": 0
      },
      "text/plain": [
       "FUA: UMEA, Tile: 34VDR:   0%|          | 0/131 [00:00<?, ?it/s]"
      ]
     },
     "metadata": {},
     "output_type": "display_data"
    },
    {
     "data": {
      "application/vnd.jupyter.widget-view+json": {
       "model_id": "bc17c33354fb46eea3497a37b44d7fae",
       "version_major": 2,
       "version_minor": 0
      },
      "text/plain": [
       "FUA: UMEA, Tile: 34WDS:   0%|          | 0/56 [00:00<?, ?it/s]"
      ]
     },
     "metadata": {},
     "output_type": "display_data"
    },
    {
     "data": {
      "application/vnd.jupyter.widget-view+json": {
       "model_id": "fe578e9c32274abb8493bd15fcd97906",
       "version_major": 2,
       "version_minor": 0
      },
      "text/plain": [
       "Intersecting tiles:   0%|          | 0/3 [00:00<?, ?it/s]"
      ]
     },
     "metadata": {},
     "output_type": "display_data"
    },
    {
     "data": {
      "application/vnd.jupyter.widget-view+json": {
       "model_id": "12413c8644fb4b50a7ada2b5a7284292",
       "version_major": 2,
       "version_minor": 0
      },
      "text/plain": [
       "FUA: UPPSALA, Tile: 33VWG:   0%|          | 0/9 [00:00<?, ?it/s]"
      ]
     },
     "metadata": {},
     "output_type": "display_data"
    },
    {
     "data": {
      "application/vnd.jupyter.widget-view+json": {
       "model_id": "47f88371258846c8acc9464ad107bac5",
       "version_major": 2,
       "version_minor": 0
      },
      "text/plain": [
       "FUA: UPPSALA, Tile: 33VXG:   0%|          | 0/248 [00:00<?, ?it/s]"
      ]
     },
     "metadata": {},
     "output_type": "display_data"
    },
    {
     "data": {
      "application/vnd.jupyter.widget-view+json": {
       "model_id": "720f1711e0934a7ebd27b36d87de4355",
       "version_major": 2,
       "version_minor": 0
      },
      "text/plain": [
       "FUA: UPPSALA, Tile: 34VCM:   0%|          | 0/192 [00:00<?, ?it/s]"
      ]
     },
     "metadata": {},
     "output_type": "display_data"
    },
    {
     "data": {
      "application/vnd.jupyter.widget-view+json": {
       "model_id": "e4c33dbbc1934b1882f21bfd793c9473",
       "version_major": 2,
       "version_minor": 0
      },
      "text/plain": [
       "Intersecting tiles:   0%|          | 0/3 [00:00<?, ?it/s]"
      ]
     },
     "metadata": {},
     "output_type": "display_data"
    },
    {
     "data": {
      "application/vnd.jupyter.widget-view+json": {
       "model_id": "2ba485325770405da81ef2575ed29c7c",
       "version_major": 2,
       "version_minor": 0
      },
      "text/plain": [
       "FUA: ÖREBRO, Tile: 33VVF:   0%|          | 0/76 [00:00<?, ?it/s]"
      ]
     },
     "metadata": {},
     "output_type": "display_data"
    },
    {
     "data": {
      "application/vnd.jupyter.widget-view+json": {
       "model_id": "7d77d1d4639d45a78351029c9d12a5ec",
       "version_major": 2,
       "version_minor": 0
      },
      "text/plain": [
       "FUA: ÖREBRO, Tile: 33VWF:   0%|          | 0/133 [00:00<?, ?it/s]"
      ]
     },
     "metadata": {},
     "output_type": "display_data"
    },
    {
     "data": {
      "application/vnd.jupyter.widget-view+json": {
       "model_id": "7e770594b9a24fb48307720acaedd7cd",
       "version_major": 2,
       "version_minor": 0
      },
      "text/plain": [
       "FUA: ÖREBRO, Tile: 33VWG:   0%|          | 0/4 [00:00<?, ?it/s]"
      ]
     },
     "metadata": {},
     "output_type": "display_data"
    },
    {
     "data": {
      "application/vnd.jupyter.widget-view+json": {
       "model_id": "16db5c793e8e4fdba975e1eabe25dae7",
       "version_major": 2,
       "version_minor": 0
      },
      "text/plain": [
       "Intersecting tiles:   0%|          | 0/2 [00:00<?, ?it/s]"
      ]
     },
     "metadata": {},
     "output_type": "display_data"
    },
    {
     "data": {
      "application/vnd.jupyter.widget-view+json": {
       "model_id": "6449202f14a94377b0909c998c8e4649",
       "version_major": 2,
       "version_minor": 0
      },
      "text/plain": [
       "FUA: BORAS, Tile: 33VUD:   0%|          | 0/29 [00:00<?, ?it/s]"
      ]
     },
     "metadata": {},
     "output_type": "display_data"
    },
    {
     "data": {
      "application/vnd.jupyter.widget-view+json": {
       "model_id": "f7ea7ca561f74eae90bf945c45498ff7",
       "version_major": 2,
       "version_minor": 0
      },
      "text/plain": [
       "FUA: BORAS, Tile: 33VUE:   0%|          | 0/66 [00:00<?, ?it/s]"
      ]
     },
     "metadata": {},
     "output_type": "display_data"
    },
    {
     "data": {
      "application/vnd.jupyter.widget-view+json": {
       "model_id": "a108a37e3e754d6889796d038aa3770e",
       "version_major": 2,
       "version_minor": 0
      },
      "text/plain": [
       "Intersecting tiles:   0%|          | 0/2 [00:00<?, ?it/s]"
      ]
     },
     "metadata": {},
     "output_type": "display_data"
    },
    {
     "data": {
      "application/vnd.jupyter.widget-view+json": {
       "model_id": "f85672ca54ee4a94b63a8c2ba6abe6f3",
       "version_major": 2,
       "version_minor": 0
      },
      "text/plain": [
       "FUA: HELSINGBORG, Tile: 33UUB: 0it [00:00, ?it/s]"
      ]
     },
     "metadata": {},
     "output_type": "display_data"
    },
    {
     "data": {
      "application/vnd.jupyter.widget-view+json": {
       "model_id": "5efd3599f382442482fd311c819a7292",
       "version_major": 2,
       "version_minor": 0
      },
      "text/plain": [
       "FUA: HELSINGBORG, Tile: 33VUC:   0%|          | 0/98 [00:00<?, ?it/s]"
      ]
     },
     "metadata": {},
     "output_type": "display_data"
    },
    {
     "data": {
      "application/vnd.jupyter.widget-view+json": {
       "model_id": "1d249e8c6af94517b01b22712e99c7d0",
       "version_major": 2,
       "version_minor": 0
      },
      "text/plain": [
       "Intersecting tiles:   0%|          | 0/4 [00:00<?, ?it/s]"
      ]
     },
     "metadata": {},
     "output_type": "display_data"
    },
    {
     "data": {
      "application/vnd.jupyter.widget-view+json": {
       "model_id": "80cae86bd286415fb4cf1af8853378c5",
       "version_major": 2,
       "version_minor": 0
      },
      "text/plain": [
       "FUA: VASTERAS, Tile: 33VWF:   0%|          | 0/4 [00:00<?, ?it/s]"
      ]
     },
     "metadata": {},
     "output_type": "display_data"
    },
    {
     "data": {
      "application/vnd.jupyter.widget-view+json": {
       "model_id": "e10edbdd4aad4847b9acd9fcb665d432",
       "version_major": 2,
       "version_minor": 0
      },
      "text/plain": [
       "FUA: VASTERAS, Tile: 33VWG:   0%|          | 0/113 [00:00<?, ?it/s]"
      ]
     },
     "metadata": {},
     "output_type": "display_data"
    },
    {
     "data": {
      "application/vnd.jupyter.widget-view+json": {
       "model_id": "a0e2721298a946809ffa1cf5d00bc1c8",
       "version_major": 2,
       "version_minor": 0
      },
      "text/plain": [
       "FUA: VASTERAS, Tile: 33VXF: 0it [00:00, ?it/s]"
      ]
     },
     "metadata": {},
     "output_type": "display_data"
    },
    {
     "data": {
      "application/vnd.jupyter.widget-view+json": {
       "model_id": "e5360336011e48a99ce137ddeb096ec2",
       "version_major": 2,
       "version_minor": 0
      },
      "text/plain": [
       "FUA: VASTERAS, Tile: 33VXG:   0%|          | 0/3 [00:00<?, ?it/s]"
      ]
     },
     "metadata": {},
     "output_type": "display_data"
    },
    {
     "data": {
      "application/vnd.jupyter.widget-view+json": {
       "model_id": "5cc23e90082f49e3a2ab7c7a446c42d4",
       "version_major": 2,
       "version_minor": 0
      },
      "text/plain": [
       "Intersecting tiles:   0%|          | 0/3 [00:00<?, ?it/s]"
      ]
     },
     "metadata": {},
     "output_type": "display_data"
    },
    {
     "data": {
      "application/vnd.jupyter.widget-view+json": {
       "model_id": "15f2d9f0810044ff8be025b4bc03a348",
       "version_major": 2,
       "version_minor": 0
      },
      "text/plain": [
       "FUA: NORRKOPING, Tile: 33VWE:   0%|          | 0/81 [00:00<?, ?it/s]"
      ]
     },
     "metadata": {},
     "output_type": "display_data"
    },
    {
     "data": {
      "application/vnd.jupyter.widget-view+json": {
       "model_id": "c1917fcb0e4945ca9b9b8936f31bb731",
       "version_major": 2,
       "version_minor": 0
      },
      "text/plain": [
       "FUA: NORRKOPING, Tile: 33VWF:   0%|          | 0/47 [00:00<?, ?it/s]"
      ]
     },
     "metadata": {},
     "output_type": "display_data"
    },
    {
     "data": {
      "application/vnd.jupyter.widget-view+json": {
       "model_id": "f61f46ae547e48d294ada5f0138c3d7c",
       "version_major": 2,
       "version_minor": 0
      },
      "text/plain": [
       "FUA: NORRKOPING, Tile: 33VXF: 0it [00:00, ?it/s]"
      ]
     },
     "metadata": {},
     "output_type": "display_data"
    }
   ],
   "source": [
    "# sequential all fuas (original)\n",
    "bad_patch=[]\n",
    "for path in tqdm(ua_paths, desc='Total progress'):\n",
    "    \n",
    "    fua_labls,fua_bound = open_fua(path)             # open fua layers\n",
    "    tiles_inters = s2tiles.sjoin(fua_bound, predicate='intersects')  #get intersecting tiles for fua\n",
    "    fua_name = str_to_oao(fua_bound.fua_name[0])\n",
    "    \n",
    "    for tile in tqdm(tiles_inters.itertuples(),desc='Intersecting tiles',total=len(tiles_inters)): # for every intersecting tile\n",
    "        \n",
    "        # select patches within curr tile\n",
    "        curr_tile = s2tiles[s2tiles.Name.isin([tile.Name])]                                               \n",
    "        patches_within = get_obj_within(get_obj_within(scb_grid,curr_tile),fua_bound) #select patches(grid) within curr_tile and within fua\n",
    "        #savedir\n",
    "        savedir = os.path.join(sdir,'{}/{}/'.format(fua_name,tile.Name))\n",
    "        #print(savedir)\n",
    "        #open curr tile \n",
    "        s2_tile = open_tile(tile.Name,s2_path)\n",
    "        \n",
    "        for patch in tqdm(patches_within.itertuples(),total=len(patches_within), desc='FUA: {}, Tile: {}'.format(fua_name,tile.Name)):\n",
    "            \n",
    "            # get current patch and clip labels to patch extent\n",
    "            curr_patch = scb_grid[(scb_grid.id.isin([patch.id]))]\n",
    "            # clip tile and labels to patch extent\n",
    "            s2_patch = clip_tile(s2_tile,curr_patch)\n",
    "            patch_labls = fua_labls.clip(curr_patch)\n",
    "            #rasterize patch labels \n",
    "            try:\n",
    "                cube = rasterize(patch_labls)\n",
    "            except:\n",
    "                bad_patch.append(patch.id)\n",
    "            else:    \n",
    "                #merge s2_patch and patch labels\n",
    "                cube = cube.merge(s2_patch.rio.reproject_match(cube)) #append to cube\n",
    "                # reduce coordinate dimensions by one\n",
    "                if cube.dims['x'] > patch_size:\n",
    "                   cube=cube.isel(x=slice(None, -1), y=slice(None, -1))           \n",
    "            \n",
    "                #set attributes to cube before saving\n",
    "                cube.attrs[\"patch_id\"] = patch.id\n",
    "                cube.attrs['FUA'] = fua_name\n",
    "                for key,value in get_tile_info(tile.Name,s2_path).items():\n",
    "                    cube.attrs[key] = value\n",
    "\n",
    "\n",
    "                cube.train_id.attrs['_fillValue']=255\n",
    "                cube.class_code.attrs['_fillValue']=255\n",
    "                save_cube(cube,savedir)\n",
    "   \n"
   ]
  },
  {
   "cell_type": "markdown",
   "id": "e29143a4",
   "metadata": {},
   "source": [
    "### split train/test/val\n",
    "\n",
    "1. split dataset (if satisfied, execute step 2)\n",
    "2. reorganize files after split"
   ]
  },
  {
   "cell_type": "code",
   "execution_count": 8,
   "id": "4009c299",
   "metadata": {},
   "outputs": [
    {
     "name": "stdout",
     "output_type": "stream",
     "text": [
      "total: 3313 train: 2635 80.0 test: 352 11.0 val: 326 10.0\n"
     ]
    }
   ],
   "source": [
    "#1 split dataset\n",
    "train = 0.8\n",
    "test = 0.5 #of remaining -train\n",
    "\n",
    "df = np.asarray(glob.glob(os.path.join(sdir,'*/*/*.nc')))\n",
    "total = len(df)\n",
    "msk = np.random.rand(len(df)) <train\n",
    "len(msk[msk==True])/len(msk)\n",
    "\n",
    "train = df[msk]\n",
    "testval = df[~msk]\n",
    "msk = np.random.rand(len(testval))<test\n",
    "test=testval[msk]\n",
    "val = testval[~msk]\n",
    "\n",
    "print('total:',total,'train:', len(train) ,round(len(train)/len(df)*100,0),'test:',len(test),round(len(test)/len(df)*100,0),'val:',len(val),round(len(val)/len(df)*100,0))"
   ]
  },
  {
   "cell_type": "code",
   "execution_count": 22,
   "id": "63d28b42",
   "metadata": {},
   "outputs": [],
   "source": [
    "# step 2 copy files to 'source_split' '/train' '/test' or '/val'\n",
    "if train.size>0: \n",
    "    org_files(train,mode='train')\n",
    "if test.size>0:\n",
    "    org_files(test,mode='test')\n",
    "if val.size>0:\n",
    "    org_files(val,mode='val')\n"
   ]
  },
  {
   "cell_type": "code",
   "execution_count": 24,
   "id": "ec4d27f1-c4ed-43f7-97e4-da9add4c2df8",
   "metadata": {},
   "outputs": [],
   "source": [
    "# preprocess fua one by one \n",
    "# run in terminal: ipcluster start -n N  where -n is number of clusters, \n",
    "# the parallel computing does not work properly (it runs sequentialy on each cluster so this needs further investigation)\n",
    "# uncomment the one to process (rc[i] where i defines wich cluster to use, make sure i<N)\n",
    "\n",
    "from ipyparallel import Client\n",
    "\n",
    "\n",
    "def process_fua(path):\n",
    "\n",
    "\n",
    "    bad_patch=[]\n",
    "    fua_labls,fua_bound = open_fua(path)             # open fua layers\n",
    "    tiles_inters = s2tiles.sjoin(fua_bound, predicate='intersects')  #get intersecting tiles for fua\n",
    "    fua_name = str_to_oao(fua_bound.fua_name[0])\n",
    "    \n",
    "    for tile in tqdm(tiles_inters.itertuples(),desc='Intersecting tiles',total=len(tiles_inters)): # for every intersecting tile\n",
    "        \n",
    "        # select patches within curr tile\n",
    "        curr_tile = s2tiles[s2tiles.Name.isin([tile.Name])]                                               \n",
    "        patches_within = get_obj_within(get_obj_within(scb_grid,curr_tile),fua_bound) #select patches(grid) within curr_tile and within fua\n",
    "        #savedir\n",
    "        savedir = os.path.join(sdir,'{}/{}/'.format(fua_name,tile.Name))\n",
    "        #print(savedir)\n",
    "        #open curr tile \n",
    "        s2_tile = open_tile(tile.Name,s2_path)\n",
    "        \n",
    "        for patch in tqdm(patches_within.itertuples(),total=len(patches_within), desc='FUA: {}, Tile: {}'.format(fua_name,tile.Name)):\n",
    "            \n",
    "            # get current patch and clip labels to patch extent\n",
    "            curr_patch = scb_grid[(scb_grid.id.isin([patch.id]))]\n",
    "            # clip tile and labels to patch extent\n",
    "            s2_patch = clip_tile(s2_tile,curr_patch)\n",
    "            patch_labls = fua_labls.clip(curr_patch)\n",
    "            #rasterize patch labels \n",
    "            try:\n",
    "                cube = rasterize(patch_labls)\n",
    "            except:\n",
    "                bad_patch.append(patch.id)\n",
    "            else:    \n",
    "                #merge s2_patch and patch labels\n",
    "                cube = cube.merge(s2_patch.rio.reproject_match(cube)) #append to cube\n",
    "                # reduce coordinate dimensions by one\n",
    "                if cube.dims['x'] > patch_size:\n",
    "                   cube=cube.isel(x=slice(None, -1), y=slice(None, -1))           \n",
    "            \n",
    "                #set attributes to cube before saving\n",
    "                cube.attrs[\"patch_id\"] = patch.id\n",
    "                cube.attrs['FUA'] = fua_name\n",
    "                for key,value in get_tile_info(tile.Name,s2_path).items():\n",
    "                    cube.attrs[key] = value\n",
    "\n",
    "\n",
    "                cube.train_id.attrs['_fillValue']=255\n",
    "                cube.class_code.attrs['_fillValue']=255\n",
    "                save_cube(cube,savedir)\n",
    "           \n",
    "\n",
    "    return(savedir)\n",
    "\n",
    "rc = Client()\n",
    "#rc= cluster\n",
    "#dwiev = rc[:]\n",
    "\n",
    "\n",
    "#process_fua(ua_paths[0])    \n",
    "#stockholm=rc[0].apply(process_fua(ua_paths[0])) #Stockholm\n",
    "#jonkoping=rc[1].apply(process_fua(ua_paths[1]))  #JONKOPING\n",
    "#linkoping=rc[2].apply(process_fua(ua_paths[2]))  #Linköping (33VWF not processed)\n",
    "#malmo=rc[3].apply(process_fua(ua_paths[3]))  # Malmö  \n",
    "#goteborg=rc[4].apply(process_fua(ua_paths[4])) #Gotebprg\n",
    "#umea=rc[5].apply(process_fua(ua_paths[5]))      #umea\n",
    "#uppsala=rc[6].apply(process_fua(ua_paths[6])) #uppsala\n",
    "#orebro=rc[7].apply(process_fua(ua_paths[7]))    #orebro\n",
    "#boras=rc[8].apply(process_fua(ua_paths[8]))    #boras\n",
    "#helsingborg=rc[9].apply(process_fua(ua_paths[9]))   #helsingborg\n",
    "#vasteras=rc[10].apply(process_fua(ua_paths[10])) #vasteras\n",
    "#norrkoping= rc[11].apply(process_fua(ua_paths[11])) #norrkoping\n"
   ]
  },
  {
   "cell_type": "code",
   "execution_count": 36,
   "id": "4edcd591-6ca7-4332-9c77-536b63d642e0",
   "metadata": {},
   "outputs": [
    {
     "name": "stdout",
     "output_type": "stream",
     "text": [
      "Starting 6 engines with <class 'ipyparallel.cluster.launcher.LocalEngineSetLauncher'>\n"
     ]
    },
    {
     "data": {
      "application/vnd.jupyter.widget-view+json": {
       "model_id": "c50000e5400c470bb8a1ac7d36b6e26f",
       "version_major": 2,
       "version_minor": 0
      },
      "text/plain": [
       "  0%|          | 0/6 [00:00<?, ?engine/s]"
      ]
     },
     "metadata": {},
     "output_type": "display_data"
    },
    {
     "name": "stdout",
     "output_type": "stream",
     "text": [
      "importing open_fua from preprocess.uaUtils on engine(s)\n",
      "importing os on engine(s)\n",
      "importing glob on engine(s)\n",
      "importing h5netcdf on engine(s)\n",
      "importing rioxarray on engine(s)\n",
      "importing geopandas on engine(s)\n",
      "importing numpy on engine(s)\n",
      "importing tqdm from tqdm.notebook on engine(s)\n",
      "importing search_product,open_tile,get_tile_info,get_prod_info from preprocess.s2Utils on engine(s)\n",
      "importing str_to_oao,class_dict,org_files from preprocess.utils on engine(s)\n",
      "importing make_geocube from geocube.api.core on engine(s)\n",
      "importing partial from functools on engine(s)\n",
      "importing rasterize_image from geocube.rasterize on engine(s)\n",
      "importing class_dict from preprocess.classDict on engine(s)\n",
      "importing shutil on engine(s)\n"
     ]
    },
    {
     "data": {
      "application/vnd.jupyter.widget-view+json": {
       "model_id": "5978ca8c4de64101be60753b06ce8a7d",
       "version_major": 2,
       "version_minor": 0
      },
      "text/plain": [
       "Intersecting tiles:   0%|          | 0/4 [00:00<?, ?it/s]"
      ]
     },
     "metadata": {},
     "output_type": "display_data"
    },
    {
     "data": {
      "application/vnd.jupyter.widget-view+json": {
       "model_id": "c782e847c3af4ceb8f3a4e62b8a4eaca",
       "version_major": 2,
       "version_minor": 0
      },
      "text/plain": [
       "FUA: STOCKHOLM, Tile: 33VXF:   0%|          | 0/324 [00:00<?, ?it/s]"
      ]
     },
     "metadata": {},
     "output_type": "display_data"
    },
    {
     "ename": "KeyboardInterrupt",
     "evalue": "",
     "output_type": "error",
     "traceback": [
      "\u001b[0;31m---------------------------------------------------------------------------\u001b[0m",
      "\u001b[0;31mKeyboardInterrupt\u001b[0m                         Traceback (most recent call last)",
      "Input \u001b[0;32mIn [36]\u001b[0m, in \u001b[0;36m<cell line: 164>\u001b[0;34m()\u001b[0m\n\u001b[1;32m    159\u001b[0m     \u001b[38;5;28;01mreturn\u001b[39;00m(\u001b[38;5;124m'\u001b[39m\u001b[38;5;124mtest\u001b[39m\u001b[38;5;124m'\u001b[39m)\n\u001b[1;32m    160\u001b[0m \u001b[38;5;66;03m#scb_grid[scb_grid.id.isin(scb_grid.sjoin(curr_tile,predicate='within').id]\u001b[39;00m\n\u001b[1;32m    161\u001b[0m \n\u001b[1;32m    162\u001b[0m \n\u001b[1;32m    163\u001b[0m \u001b[38;5;66;03m#print(proc_fua([ua_paths[3]],[s2tiles],[scb_grid],[sdir],[s2_path]))\u001b[39;00m\n\u001b[0;32m--> 164\u001b[0m \u001b[38;5;28mprint\u001b[39m(\u001b[43mproc_fua\u001b[49m\u001b[43m(\u001b[49m\u001b[43mua_paths\u001b[49m\u001b[43m[\u001b[49m\u001b[38;5;241;43m0\u001b[39;49m\u001b[43m]\u001b[49m\u001b[43m)\u001b[49m)\n",
      "Input \u001b[0;32mIn [36]\u001b[0m, in \u001b[0;36mproc_fua\u001b[0;34m(path)\u001b[0m\n\u001b[1;32m    131\u001b[0m \u001b[38;5;66;03m# clip tile and labels to patch extent\u001b[39;00m\n\u001b[1;32m    132\u001b[0m s2_patch \u001b[38;5;241m=\u001b[39m clip_tile(s2_tile,curr_patch)\n\u001b[0;32m--> 133\u001b[0m patch_labls \u001b[38;5;241m=\u001b[39m \u001b[43mfua_labls\u001b[49m\u001b[38;5;241;43m.\u001b[39;49m\u001b[43mclip\u001b[49m\u001b[43m(\u001b[49m\u001b[43mcurr_patch\u001b[49m\u001b[43m)\u001b[49m\n\u001b[1;32m    134\u001b[0m \u001b[38;5;66;03m#rasterize patch labels \u001b[39;00m\n\u001b[1;32m    135\u001b[0m \u001b[38;5;28;01mtry\u001b[39;00m:\n",
      "File \u001b[0;32m~/software/miniconda3/envs/preprocess/lib/python3.10/site-packages/geopandas/geodataframe.py:2106\u001b[0m, in \u001b[0;36mGeoDataFrame.clip\u001b[0;34m(self, mask, keep_geom_type)\u001b[0m\n\u001b[1;32m   2060\u001b[0m \u001b[38;5;28;01mdef\u001b[39;00m \u001b[38;5;21mclip\u001b[39m(\u001b[38;5;28mself\u001b[39m, mask, keep_geom_type\u001b[38;5;241m=\u001b[39m\u001b[38;5;28;01mFalse\u001b[39;00m):\n\u001b[1;32m   2061\u001b[0m     \u001b[38;5;124;03m\"\"\"Clip points, lines, or polygon geometries to the mask extent.\u001b[39;00m\n\u001b[1;32m   2062\u001b[0m \n\u001b[1;32m   2063\u001b[0m \u001b[38;5;124;03m    Both layers must be in the same Coordinate Reference System (CRS).\u001b[39;00m\n\u001b[0;32m   (...)\u001b[0m\n\u001b[1;32m   2104\u001b[0m \u001b[38;5;124;03m    (12, 2)\u001b[39;00m\n\u001b[1;32m   2105\u001b[0m \u001b[38;5;124;03m    \"\"\"\u001b[39;00m\n\u001b[0;32m-> 2106\u001b[0m     \u001b[38;5;28;01mreturn\u001b[39;00m \u001b[43mgeopandas\u001b[49m\u001b[38;5;241;43m.\u001b[39;49m\u001b[43mclip\u001b[49m\u001b[43m(\u001b[49m\u001b[38;5;28;43mself\u001b[39;49m\u001b[43m,\u001b[49m\u001b[43m \u001b[49m\u001b[43mmask\u001b[49m\u001b[38;5;241;43m=\u001b[39;49m\u001b[43mmask\u001b[49m\u001b[43m,\u001b[49m\u001b[43m \u001b[49m\u001b[43mkeep_geom_type\u001b[49m\u001b[38;5;241;43m=\u001b[39;49m\u001b[43mkeep_geom_type\u001b[49m\u001b[43m)\u001b[49m\n",
      "File \u001b[0;32m~/software/miniconda3/envs/preprocess/lib/python3.10/site-packages/geopandas/tools/clip.py:127\u001b[0m, in \u001b[0;36mclip\u001b[0;34m(gdf, mask, keep_geom_type)\u001b[0m\n\u001b[1;32m    125\u001b[0m \u001b[38;5;28;01melse\u001b[39;00m:\n\u001b[1;32m    126\u001b[0m     box_mask \u001b[38;5;241m=\u001b[39m mask\u001b[38;5;241m.\u001b[39mbounds\n\u001b[0;32m--> 127\u001b[0m box_gdf \u001b[38;5;241m=\u001b[39m \u001b[43mgdf\u001b[49m\u001b[38;5;241;43m.\u001b[39;49m\u001b[43mtotal_bounds\u001b[49m\n\u001b[1;32m    128\u001b[0m \u001b[38;5;28;01mif\u001b[39;00m \u001b[38;5;129;01mnot\u001b[39;00m (\n\u001b[1;32m    129\u001b[0m     ((box_mask[\u001b[38;5;241m0\u001b[39m] \u001b[38;5;241m<\u001b[39m\u001b[38;5;241m=\u001b[39m box_gdf[\u001b[38;5;241m2\u001b[39m]) \u001b[38;5;129;01mand\u001b[39;00m (box_gdf[\u001b[38;5;241m0\u001b[39m] \u001b[38;5;241m<\u001b[39m\u001b[38;5;241m=\u001b[39m box_mask[\u001b[38;5;241m2\u001b[39m]))\n\u001b[1;32m    130\u001b[0m     \u001b[38;5;129;01mand\u001b[39;00m ((box_mask[\u001b[38;5;241m1\u001b[39m] \u001b[38;5;241m<\u001b[39m\u001b[38;5;241m=\u001b[39m box_gdf[\u001b[38;5;241m3\u001b[39m]) \u001b[38;5;129;01mand\u001b[39;00m (box_gdf[\u001b[38;5;241m1\u001b[39m] \u001b[38;5;241m<\u001b[39m\u001b[38;5;241m=\u001b[39m box_mask[\u001b[38;5;241m3\u001b[39m]))\n\u001b[1;32m    131\u001b[0m ):\n\u001b[1;32m    132\u001b[0m     \u001b[38;5;28;01mreturn\u001b[39;00m gdf\u001b[38;5;241m.\u001b[39miloc[:\u001b[38;5;241m0\u001b[39m]\n",
      "File \u001b[0;32m~/software/miniconda3/envs/preprocess/lib/python3.10/site-packages/geopandas/base.py:2584\u001b[0m, in \u001b[0;36mGeoPandasBase.total_bounds\u001b[0;34m(self)\u001b[0m\n\u001b[1;32m   2567\u001b[0m \u001b[38;5;129m@property\u001b[39m\n\u001b[1;32m   2568\u001b[0m \u001b[38;5;28;01mdef\u001b[39;00m \u001b[38;5;21mtotal_bounds\u001b[39m(\u001b[38;5;28mself\u001b[39m):\n\u001b[1;32m   2569\u001b[0m     \u001b[38;5;124;03m\"\"\"Returns a tuple containing ``minx``, ``miny``, ``maxx``, ``maxy``\u001b[39;00m\n\u001b[1;32m   2570\u001b[0m \u001b[38;5;124;03m    values for the bounds of the series as a whole.\u001b[39;00m\n\u001b[1;32m   2571\u001b[0m \n\u001b[0;32m   (...)\u001b[0m\n\u001b[1;32m   2582\u001b[0m \u001b[38;5;124;03m    array([ 0., -1.,  3.,  2.])\u001b[39;00m\n\u001b[1;32m   2583\u001b[0m \u001b[38;5;124;03m    \"\"\"\u001b[39;00m\n\u001b[0;32m-> 2584\u001b[0m     \u001b[38;5;28;01mreturn\u001b[39;00m \u001b[43mGeometryArray\u001b[49m\u001b[43m(\u001b[49m\u001b[38;5;28;43mself\u001b[39;49m\u001b[38;5;241;43m.\u001b[39;49m\u001b[43mgeometry\u001b[49m\u001b[38;5;241;43m.\u001b[39;49m\u001b[43mvalues\u001b[49m\u001b[43m)\u001b[49m\u001b[38;5;241;43m.\u001b[39;49m\u001b[43mtotal_bounds\u001b[49m\n",
      "File \u001b[0;32m~/software/miniconda3/envs/preprocess/lib/python3.10/site-packages/geopandas/array.py:915\u001b[0m, in \u001b[0;36mGeometryArray.total_bounds\u001b[0;34m(self)\u001b[0m\n\u001b[1;32m    911\u001b[0m \u001b[38;5;28;01mif\u001b[39;00m \u001b[38;5;28mlen\u001b[39m(\u001b[38;5;28mself\u001b[39m) \u001b[38;5;241m==\u001b[39m \u001b[38;5;241m0\u001b[39m:\n\u001b[1;32m    912\u001b[0m     \u001b[38;5;66;03m# numpy 'min' cannot handle empty arrays\u001b[39;00m\n\u001b[1;32m    913\u001b[0m     \u001b[38;5;66;03m# TODO with numpy >= 1.15, the 'initial' argument can be used\u001b[39;00m\n\u001b[1;32m    914\u001b[0m     \u001b[38;5;28;01mreturn\u001b[39;00m np\u001b[38;5;241m.\u001b[39marray([np\u001b[38;5;241m.\u001b[39mnan, np\u001b[38;5;241m.\u001b[39mnan, np\u001b[38;5;241m.\u001b[39mnan, np\u001b[38;5;241m.\u001b[39mnan])\n\u001b[0;32m--> 915\u001b[0m b \u001b[38;5;241m=\u001b[39m \u001b[38;5;28;43mself\u001b[39;49m\u001b[38;5;241;43m.\u001b[39;49m\u001b[43mbounds\u001b[49m\n\u001b[1;32m    916\u001b[0m \u001b[38;5;28;01mreturn\u001b[39;00m np\u001b[38;5;241m.\u001b[39marray(\n\u001b[1;32m    917\u001b[0m     (\n\u001b[1;32m    918\u001b[0m         np\u001b[38;5;241m.\u001b[39mnanmin(b[:, \u001b[38;5;241m0\u001b[39m]),  \u001b[38;5;66;03m# minx\u001b[39;00m\n\u001b[0;32m   (...)\u001b[0m\n\u001b[1;32m    922\u001b[0m     )\n\u001b[1;32m    923\u001b[0m )\n",
      "File \u001b[0;32m~/software/miniconda3/envs/preprocess/lib/python3.10/site-packages/geopandas/array.py:907\u001b[0m, in \u001b[0;36mGeometryArray.bounds\u001b[0;34m(self)\u001b[0m\n\u001b[1;32m    905\u001b[0m \u001b[38;5;129m@property\u001b[39m\n\u001b[1;32m    906\u001b[0m \u001b[38;5;28;01mdef\u001b[39;00m \u001b[38;5;21mbounds\u001b[39m(\u001b[38;5;28mself\u001b[39m):\n\u001b[0;32m--> 907\u001b[0m     \u001b[38;5;28;01mreturn\u001b[39;00m \u001b[43mvectorized\u001b[49m\u001b[38;5;241;43m.\u001b[39;49m\u001b[43mbounds\u001b[49m\u001b[43m(\u001b[49m\u001b[38;5;28;43mself\u001b[39;49m\u001b[38;5;241;43m.\u001b[39;49m\u001b[43mdata\u001b[49m\u001b[43m)\u001b[49m\n",
      "File \u001b[0;32m~/software/miniconda3/envs/preprocess/lib/python3.10/site-packages/geopandas/_vectorized.py:937\u001b[0m, in \u001b[0;36mbounds\u001b[0;34m(data)\u001b[0m\n\u001b[1;32m    933\u001b[0m     \u001b[38;5;28;01mreturn\u001b[39;00m np\u001b[38;5;241m.\u001b[39mempty((\u001b[38;5;241m0\u001b[39m, \u001b[38;5;241m4\u001b[39m), dtype\u001b[38;5;241m=\u001b[39m\u001b[38;5;124m\"\u001b[39m\u001b[38;5;124mfloat64\u001b[39m\u001b[38;5;124m\"\u001b[39m)\n\u001b[1;32m    934\u001b[0m \u001b[38;5;66;03m# need to explicitly check for empty (in addition to missing) geometries,\u001b[39;00m\n\u001b[1;32m    935\u001b[0m \u001b[38;5;66;03m# as those return an empty tuple, not resulting in a 2D array\u001b[39;00m\n\u001b[1;32m    936\u001b[0m bounds \u001b[38;5;241m=\u001b[39m np\u001b[38;5;241m.\u001b[39marray(\n\u001b[0;32m--> 937\u001b[0m     [\n\u001b[1;32m    938\u001b[0m         geom\u001b[38;5;241m.\u001b[39mbounds\n\u001b[1;32m    939\u001b[0m         \u001b[38;5;28;01mif\u001b[39;00m \u001b[38;5;129;01mnot\u001b[39;00m (geom \u001b[38;5;129;01mis\u001b[39;00m \u001b[38;5;28;01mNone\u001b[39;00m \u001b[38;5;129;01mor\u001b[39;00m geom\u001b[38;5;241m.\u001b[39mis_empty)\n\u001b[1;32m    940\u001b[0m         \u001b[38;5;28;01melse\u001b[39;00m (np\u001b[38;5;241m.\u001b[39mnan, np\u001b[38;5;241m.\u001b[39mnan, np\u001b[38;5;241m.\u001b[39mnan, np\u001b[38;5;241m.\u001b[39mnan)\n\u001b[1;32m    941\u001b[0m         \u001b[38;5;28;01mfor\u001b[39;00m geom \u001b[38;5;129;01min\u001b[39;00m data\n\u001b[1;32m    942\u001b[0m     ]\n\u001b[1;32m    943\u001b[0m )\n\u001b[1;32m    944\u001b[0m \u001b[38;5;28;01mreturn\u001b[39;00m bounds\n",
      "File \u001b[0;32m~/software/miniconda3/envs/preprocess/lib/python3.10/site-packages/geopandas/_vectorized.py:938\u001b[0m, in \u001b[0;36m<listcomp>\u001b[0;34m(.0)\u001b[0m\n\u001b[1;32m    933\u001b[0m     \u001b[38;5;28;01mreturn\u001b[39;00m np\u001b[38;5;241m.\u001b[39mempty((\u001b[38;5;241m0\u001b[39m, \u001b[38;5;241m4\u001b[39m), dtype\u001b[38;5;241m=\u001b[39m\u001b[38;5;124m\"\u001b[39m\u001b[38;5;124mfloat64\u001b[39m\u001b[38;5;124m\"\u001b[39m)\n\u001b[1;32m    934\u001b[0m \u001b[38;5;66;03m# need to explicitly check for empty (in addition to missing) geometries,\u001b[39;00m\n\u001b[1;32m    935\u001b[0m \u001b[38;5;66;03m# as those return an empty tuple, not resulting in a 2D array\u001b[39;00m\n\u001b[1;32m    936\u001b[0m bounds \u001b[38;5;241m=\u001b[39m np\u001b[38;5;241m.\u001b[39marray(\n\u001b[1;32m    937\u001b[0m     [\n\u001b[0;32m--> 938\u001b[0m         \u001b[43mgeom\u001b[49m\u001b[38;5;241;43m.\u001b[39;49m\u001b[43mbounds\u001b[49m\n\u001b[1;32m    939\u001b[0m         \u001b[38;5;28;01mif\u001b[39;00m \u001b[38;5;129;01mnot\u001b[39;00m (geom \u001b[38;5;129;01mis\u001b[39;00m \u001b[38;5;28;01mNone\u001b[39;00m \u001b[38;5;129;01mor\u001b[39;00m geom\u001b[38;5;241m.\u001b[39mis_empty)\n\u001b[1;32m    940\u001b[0m         \u001b[38;5;28;01melse\u001b[39;00m (np\u001b[38;5;241m.\u001b[39mnan, np\u001b[38;5;241m.\u001b[39mnan, np\u001b[38;5;241m.\u001b[39mnan, np\u001b[38;5;241m.\u001b[39mnan)\n\u001b[1;32m    941\u001b[0m         \u001b[38;5;28;01mfor\u001b[39;00m geom \u001b[38;5;129;01min\u001b[39;00m data\n\u001b[1;32m    942\u001b[0m     ]\n\u001b[1;32m    943\u001b[0m )\n\u001b[1;32m    944\u001b[0m \u001b[38;5;28;01mreturn\u001b[39;00m bounds\n",
      "File \u001b[0;32m~/software/miniconda3/envs/preprocess/lib/python3.10/site-packages/shapely/geometry/base.py:475\u001b[0m, in \u001b[0;36mBaseGeometry.bounds\u001b[0;34m(self)\u001b[0m\n\u001b[1;32m    473\u001b[0m     \u001b[38;5;28;01mreturn\u001b[39;00m ()\n\u001b[1;32m    474\u001b[0m \u001b[38;5;28;01melse\u001b[39;00m:\n\u001b[0;32m--> 475\u001b[0m     \u001b[38;5;28;01mreturn\u001b[39;00m \u001b[38;5;28;43mself\u001b[39;49m\u001b[38;5;241;43m.\u001b[39;49m\u001b[43mimpl\u001b[49m\u001b[43m[\u001b[49m\u001b[38;5;124;43m'\u001b[39;49m\u001b[38;5;124;43mbounds\u001b[39;49m\u001b[38;5;124;43m'\u001b[39;49m\u001b[43m]\u001b[49m\u001b[43m(\u001b[49m\u001b[38;5;28;43mself\u001b[39;49m\u001b[43m)\u001b[49m\n",
      "File \u001b[0;32m~/software/miniconda3/envs/preprocess/lib/python3.10/site-packages/shapely/coords.py:187\u001b[0m, in \u001b[0;36mBoundsOp.__call__\u001b[0;34m(self, this)\u001b[0m\n\u001b[1;32m    185\u001b[0m \u001b[38;5;28;01mdef\u001b[39;00m \u001b[38;5;21m__call__\u001b[39m(\u001b[38;5;28mself\u001b[39m, this):\n\u001b[1;32m    186\u001b[0m     \u001b[38;5;28mself\u001b[39m\u001b[38;5;241m.\u001b[39m_validate(this)\n\u001b[0;32m--> 187\u001b[0m     env \u001b[38;5;241m=\u001b[39m \u001b[43mthis\u001b[49m\u001b[38;5;241;43m.\u001b[39;49m\u001b[43menvelope\u001b[49m\n\u001b[1;32m    188\u001b[0m     \u001b[38;5;28;01mif\u001b[39;00m env\u001b[38;5;241m.\u001b[39mgeom_type \u001b[38;5;241m==\u001b[39m \u001b[38;5;124m'\u001b[39m\u001b[38;5;124mPoint\u001b[39m\u001b[38;5;124m'\u001b[39m:\n\u001b[1;32m    189\u001b[0m         \u001b[38;5;28;01mreturn\u001b[39;00m env\u001b[38;5;241m.\u001b[39mbounds\n",
      "File \u001b[0;32m~/software/miniconda3/envs/preprocess/lib/python3.10/site-packages/shapely/geometry/base.py:500\u001b[0m, in \u001b[0;36mBaseGeometry.envelope\u001b[0;34m(self)\u001b[0m\n\u001b[1;32m    497\u001b[0m \u001b[38;5;129m@property\u001b[39m\n\u001b[1;32m    498\u001b[0m \u001b[38;5;28;01mdef\u001b[39;00m \u001b[38;5;21menvelope\u001b[39m(\u001b[38;5;28mself\u001b[39m):\n\u001b[1;32m    499\u001b[0m     \u001b[38;5;124;03m\"\"\"A figure that envelopes the geometry\"\"\"\u001b[39;00m\n\u001b[0;32m--> 500\u001b[0m     \u001b[38;5;28;01mreturn\u001b[39;00m geom_factory(\u001b[38;5;28;43mself\u001b[39;49m\u001b[38;5;241;43m.\u001b[39;49m\u001b[43mimpl\u001b[49m\u001b[43m[\u001b[49m\u001b[38;5;124;43m'\u001b[39;49m\u001b[38;5;124;43menvelope\u001b[39;49m\u001b[38;5;124;43m'\u001b[39;49m\u001b[43m]\u001b[49m\u001b[43m(\u001b[49m\u001b[38;5;28;43mself\u001b[39;49m\u001b[43m)\u001b[49m)\n",
      "File \u001b[0;32m~/software/miniconda3/envs/preprocess/lib/python3.10/site-packages/shapely/topology.py:79\u001b[0m, in \u001b[0;36mUnaryTopologicalOp.__call__\u001b[0;34m(self, this, *args)\u001b[0m\n\u001b[1;32m     78\u001b[0m \u001b[38;5;28;01mdef\u001b[39;00m \u001b[38;5;21m__call__\u001b[39m(\u001b[38;5;28mself\u001b[39m, this, \u001b[38;5;241m*\u001b[39margs):\n\u001b[0;32m---> 79\u001b[0m     \u001b[38;5;28;43mself\u001b[39;49m\u001b[38;5;241;43m.\u001b[39;49m\u001b[43m_validate\u001b[49m\u001b[43m(\u001b[49m\u001b[43mthis\u001b[49m\u001b[43m)\u001b[49m\n\u001b[1;32m     80\u001b[0m     \u001b[38;5;28;01mreturn\u001b[39;00m \u001b[38;5;28mself\u001b[39m\u001b[38;5;241m.\u001b[39mfn(this\u001b[38;5;241m.\u001b[39m_geom, \u001b[38;5;241m*\u001b[39margs)\n",
      "File \u001b[0;32m~/software/miniconda3/envs/preprocess/lib/python3.10/site-packages/shapely/topology.py:17\u001b[0m, in \u001b[0;36mValidating._validate\u001b[0;34m(self, ob, stop_prepared)\u001b[0m\n\u001b[1;32m     15\u001b[0m \u001b[38;5;28;01mclass\u001b[39;00m \u001b[38;5;21;01mValidating\u001b[39;00m:\n\u001b[0;32m---> 17\u001b[0m     \u001b[38;5;28;01mdef\u001b[39;00m \u001b[38;5;21m_validate\u001b[39m(\u001b[38;5;28mself\u001b[39m, ob, stop_prepared\u001b[38;5;241m=\u001b[39m\u001b[38;5;28;01mFalse\u001b[39;00m):\n\u001b[1;32m     18\u001b[0m         \u001b[38;5;28;01mif\u001b[39;00m ob \u001b[38;5;129;01mis\u001b[39;00m \u001b[38;5;28;01mNone\u001b[39;00m \u001b[38;5;129;01mor\u001b[39;00m ob\u001b[38;5;241m.\u001b[39m_geom \u001b[38;5;129;01mis\u001b[39;00m \u001b[38;5;28;01mNone\u001b[39;00m:\n\u001b[1;32m     19\u001b[0m             \u001b[38;5;28;01mraise\u001b[39;00m InvalidGeometryError(\u001b[38;5;124m\"\u001b[39m\u001b[38;5;124mNull geometry supports no operations\u001b[39m\u001b[38;5;124m\"\u001b[39m)\n",
      "\u001b[0;31mKeyboardInterrupt\u001b[0m: "
     ]
    }
   ],
   "source": [
    "##experimental remove later \n",
    "\n",
    "\n",
    "#print(result)\n",
    "\n",
    "import ipyparallel as ipp\n",
    "cluster = ipp.Cluster(n=6)\n",
    "cluster.start_cluster_sync()\n",
    "\n",
    "rc = cluster.connect_client_sync()\n",
    "rc.wait_for_engines(6)\n",
    "rc.ids\n",
    "dview = rc[:]\n",
    "\n",
    "with dview.sync_imports():\n",
    "    from preprocess.uaUtils import open_fua\n",
    "    import os\n",
    "    import glob\n",
    "    import h5netcdf\n",
    "    import rioxarray\n",
    "    import geopandas\n",
    "    import numpy\n",
    "    from tqdm.notebook import tqdm\n",
    "    from preprocess.uaUtils import open_fua\n",
    "    from preprocess.s2Utils import search_product,open_tile, get_tile_info, get_prod_info\n",
    "    from preprocess.utils import str_to_oao, class_dict,org_files\n",
    "    \n",
    "    import geopandas as gp\n",
    "    import os\n",
    "\n",
    "    from geocube.api.core import make_geocube\n",
    "    from functools import partial\n",
    "    from geocube.rasterize import rasterize_image\n",
    "    from preprocess.classDict import class_dict\n",
    "    import shutil\n",
    "    import numpy\n",
    "    import glob\n",
    "    import geopandas\n",
    "\n",
    "\n",
    "    from geocube.api.core import make_geocube\n",
    "    from functools import partial\n",
    "    from geocube.rasterize import rasterize_image\n",
    "    from preprocess.classDict import class_dict\n",
    "    import shutil\n",
    "    import numpy\n",
    "    import glob\n",
    "    \n",
    "\n",
    "    \n",
    "@dview.parallel(block=True)    \n",
    "def rem_rasterize(patch_labls):\n",
    "    patch_labls['train_id'] = patch_labls['code_2018'].apply(lambda x: numpy.uint16(class_dict[str(x)]['train_id']))\n",
    "    patch_labls['class_code'] = patch_labls['code_2018'].apply(lambda  x:  numpy.uint16(int(x)))\n",
    "    roads = patch_labls[patch_labls.code_2018.isin(['12210','12220','12230'])]\n",
    "    \n",
    "    cube  = make_geocube(\n",
    "        vector_data=patch_labls,\n",
    "        measurements=['class_code','train_id'],\n",
    "        resolution=(10,-10),\n",
    "        rasterize_function=partial(rasterize_image,dtype=numpy.dtype('uint16')),\n",
    "        fill = 0\n",
    "    )\n",
    "    \n",
    "    roads = make_geocube(\n",
    "        vector_data=roads,\n",
    "        measurements=['class_code','train_id'],\n",
    "        resolution=(10,-10),\n",
    "        rasterize_function=partial(rasterize_image,all_touched=True,dtype=numpy.dtype('uint16')),\n",
    "            fill=0\n",
    "    )\n",
    "    \n",
    "    cube = roads.where(roads.train_id!=0).combine_first(cube)  #merge roads  \n",
    "    cube = cube.assign(train_id = lambda ds: ds.train_id.astype('uint16'))\n",
    "    cube = cube.assign(class_code = lambda ds: ds.class_code.astype('uint16'))\n",
    "    return(cube)\n",
    "\n",
    "@dview.parallel(block=True)\n",
    "def rem_save_cube(cube,savedir):\n",
    "                # patch filename and \n",
    "    filename = \"PATCH_{i_d}_{tile}_{start}_{fua}_{size}.nc\".format(i_d=cube.attrs['patch_id'],\n",
    "                                                                   tile=cube.attrs['Tile'],\n",
    "                                                                   start=cube.attrs['sensing_start'],\n",
    "                                                                   fua=cube.attrs['FUA'],\n",
    "                                                                   size=cube.dims['x'])\n",
    "              \n",
    "    if not os.path.exists(savedir):\n",
    "        os.makedirs(savedir)\n",
    "    cube.to_netcdf(path=os.path.join(savedir,filename),format='NETCDF4')\n",
    "\n",
    "\n",
    "    \n",
    "#@dview.remote(block=True)\n",
    "#def proc_fua(path,s2tiles,scb_grid,sdir,s2_path):\n",
    "def proc_fua(path):\n",
    "        \n",
    "    def clip_tile(tile,clip_shape):\n",
    "        bounds  = clip_shape.to_crs(tile.rio.crs).total_bounds\n",
    "        patch = tile.rio.clip_box(minx=bounds[0],\n",
    "                                  miny=bounds[1],\n",
    "                                  maxx=bounds[2],\n",
    "                                  maxy=bounds[3])\n",
    "        return(patch)\n",
    "\n",
    "    def get_obj_within(obj,roi):\n",
    "        return obj[(obj.id.isin(obj.sjoin(roi,predicate='within').id))]\n",
    "\n",
    "    res= None\n",
    "    #sdir = sdir[0]\n",
    "    #s2_path=s2_path[0]\n",
    "    #scb_grid = scb_grid[0]\n",
    "    #path = path[0]\n",
    "    #s2tiles = s2tiles[0]\n",
    "    bad_patch=[]\n",
    "    fua_labls,fua_bound = open_fua(path)             # open fua layers\n",
    "    tiles_inters = s2tiles.sjoin(fua_bound, predicate='intersects')  #get intersecting tiles for fua\n",
    "    fua_name = str_to_oao(fua_bound.fua_name[0])\n",
    "    \n",
    "    for tile in tqdm(tiles_inters.itertuples(),desc='Intersecting tiles',total=len(tiles_inters)): # for every intersecting tile\n",
    "        \n",
    "        # select patches within curr tile\n",
    "        curr_tile = s2tiles[s2tiles.Name.isin([tile.Name])]                                               \n",
    "        patches_within = get_obj_within(get_obj_within(scb_grid,curr_tile),fua_bound) #select patches(grid) within curr_tile and within fua\n",
    "        #savedir\n",
    "        savedir = os.path.join(sdir,'{}/{}/'.format(fua_name,tile.Name))\n",
    "        #print(savedir)\n",
    "        #open curr tile \n",
    "        s2_tile = open_tile(tile.Name,s2_path)\n",
    "        \n",
    "        for patch in tqdm(patches_within.itertuples(),total=len(patches_within), desc='FUA: {}, Tile: {}'.format(fua_name,tile.Name)):\n",
    "            \n",
    "            # get current patch and clip labels to patch extent\n",
    "            curr_patch = scb_grid[(scb_grid.id.isin([patch.id]))]\n",
    "            # clip tile and labels to patch extent\n",
    "            s2_patch = clip_tile(s2_tile,curr_patch)\n",
    "            patch_labls = fua_labls.clip(curr_patch)\n",
    "            #rasterize patch labels \n",
    "            try:\n",
    "                cube = rem_rasterize(patch_labls)\n",
    "            except:\n",
    "                bad_patch.append(patch.id)\n",
    "            else:    \n",
    "                #merge s2_patch and patch labels\n",
    "                \n",
    "                cube = cube.merge(s2_patch.rio.reproject_match(cube)) #append to cube\n",
    "                # reduce coordinate dimensions by one\n",
    "                if cube.dims['x'] > patch_size:\n",
    "                    cube=cube.isel(x=slice(None, -1), y=slice(None, -1))           \n",
    "            \n",
    "                #set attributes to cube before saving\n",
    "                cube.attrs[\"patch_id\"] = patch.id\n",
    "                cube.attrs['FUA'] = fua_name\n",
    "                for key,value in get_tile_info(tile.Name,s2_path).items():\n",
    "                    cube.attrs[key] = value\n",
    "\n",
    "\n",
    "                cube.train_id.attrs['_fillValue']=255\n",
    "                cube.class_code.attrs['_fillValue']=255\n",
    "                rem_save_cube(cube,savedir)\n",
    "           \n",
    "    \n",
    "    return('test')\n",
    "#scb_grid[scb_grid.id.isin(scb_grid.sjoin(curr_tile,predicate='within').id]\n",
    "\n",
    "\n",
    "#print(proc_fua([ua_paths[3]],[s2tiles],[scb_grid],[sdir],[s2_path]))\n",
    "print(proc_fua(ua_paths[0]))"
   ]
  },
  {
   "cell_type": "markdown",
   "id": "075a7be5",
   "metadata": {},
   "source": [
    "#### Compact Naming Convention\n",
    "\n",
    "The compact naming convention is arranged as follows:\n",
    "\n",
    "MMM_MSIXXX_YYYYMMDDHHMMSS_Nxxyy_ROOO_Txxxxx_<Product Discriminator>.SAFE\n",
    "\n",
    "The products contain two dates.\n",
    "\n",
    "The first date (YYYYMMDDHHMMSS) is the datatake sensing time.\n",
    "The second date is the \"Product Discriminator\" field, which is 15 characters in length, and is used to distinguish between different end user products from the same datatake. Depending on the instance, the time in this field can be earlier or slightly later than the datatake sensing time.\n",
    "\n",
    "The other components of the filename are:\n",
    "\n",
    "* MMM: is the mission ID(S2A/S2B)\n",
    "* MSIXXX: MSIL1C denotes the Level-1C product level/ MSIL2A denotes the Level-2A product level\n",
    "* YYYYMMDDHHMMSS: the datatake sensing start time\n",
    "* Nxxyy: the PDGS Processing Baseline number (e.g. N0204)\n",
    "* ROOO: Relative Orbit number (R001 - R143)\n",
    "* Txxxxx: Tile Number field\n",
    "\n",
    "SAFE: Product Format (Standard Archive Format for Europe)\n",
    "\n",
    "Source https://sentinel.esa.int/web/sentinel/user-guides/sentinel-2-msi/naming-convention"
   ]
  }
 ],
 "metadata": {
  "kernelspec": {
   "display_name": "Python [conda env:preprocess]",
   "language": "python",
   "name": "conda-env-preprocess-py"
  },
  "language_info": {
   "codemirror_mode": {
    "name": "ipython",
    "version": 3
   },
   "file_extension": ".py",
   "mimetype": "text/x-python",
   "name": "python",
   "nbconvert_exporter": "python",
   "pygments_lexer": "ipython3",
   "version": "3.10.4"
  }
 },
 "nbformat": 4,
 "nbformat_minor": 5
}
