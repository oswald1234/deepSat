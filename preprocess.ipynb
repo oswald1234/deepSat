{
 "cells": [
  {
   "cell_type": "markdown",
   "id": "240046b6",
   "metadata": {},
   "source": [
    "### Preprocess Raw-data\n",
    "start env preprocess\n"
   ]
  },
  {
   "cell_type": "code",
   "execution_count": 1,
   "id": "4f723f39",
   "metadata": {},
   "outputs": [
    {
     "name": "stdout",
     "output_type": "stream",
     "text": [
      "Looking for sentinel products in:\n",
      " /home/exjobbare/projects/datadrive0/deepSat/../dsen2_results/timeperiod1/ \n",
      "\n",
      "---- Found sentinel products: ----\n",
      "Found: T33UUB 2018-07-26 10:20:19 S2B_MSIL2A_20180726T102019_N9999_R065_T33UUB_20220422T084315.tif\n",
      "Found: T33VUC 2018-07-04 10:30:21 S2A_MSIL2A_20180704T103021_N9999_R108_T33VUC_20220421T224702.tif\n",
      "Found: T33VUD 2018-06-29 10:30:19 S2B_MSIL2A_20180629T103019_N9999_R108_T33VUD_20220422T073547.tif\n",
      "Found: T33VUE 2018-07-04 10:30:21 S2A_MSIL2A_20180704T103021_N9999_R108_T33VUE_20220421T230429.tif\n",
      "Found: T33VVD 2018-07-26 10:20:19 S2B_MSIL2A_20180726T102019_N9999_R065_T33VVD_20220422T090148.tif\n",
      "Found: T33VVE 2018-06-01 10:20:21 S2A_MSIL2A_20180601T102021_N9999_R065_T33VVE_20220421T205914.tif\n",
      "Found: T33VVF 2018-07-04 10:30:21 S2A_MSIL2A_20180704T103021_N9999_R108_T33VVF_20220422T064154.tif\n",
      "Found: T33VWE 2018-06-01 10:20:21 S2A_MSIL2A_20180601T102021_N9999_R065_T33VWE_20220421T211715.tif\n",
      "Found: T33VWF 2018-06-01 10:20:21 S2A_MSIL2A_20180601T102021_N9999_R065_T33VWF_20220421T213620.tif\n",
      "Found: T33VWG 2018-06-01 10:20:21 S2A_MSIL2A_20180601T102021_N9999_R065_T33VWG_20220421T215421.tif\n",
      "Found: T33VXF 2018-06-28 10:10:31 S2A_MSIL2A_20180628T101031_N9999_R022_T33VXF_20220421T221214.tif\n",
      "Found: T33VXG 2018-06-03 10:10:19 S2B_MSIL2A_20180603T101019_N9999_R022_T33VXG_20220422T065934.tif\n",
      "Found: T34VCL 2018-06-28 10:10:31 S2A_MSIL2A_20180628T101031_N9999_R022_T34VCL_20220421T223005.tif\n",
      "Found: T34VCM 2018-06-03 10:10:19 S2B_MSIL2A_20180603T101019_N9999_R022_T34VCM_20220422T071743.tif\n",
      "Found: T34VDR 2018-07-16 10:20:19 S2B_MSIL2A_20180716T102019_N9999_R065_T34VDR_20220422T075921.tif\n",
      "Found: T34WDS 2018-07-16 10:20:19 S2B_MSIL2A_20180716T102019_N9999_R065_T34WDS_20220422T081954.tif\n",
      "\n",
      "---- Found LULC data: ----\n",
      "Found: SE001L1_STOCKHOLM_UA2018_v013.gpkg\n",
      "Found: SE004L1_JONKOPING_UA2018_v013.gpkg\n",
      "Found: SE007L1_LINKOPING_UA2018_v013.gpkg\n",
      "Found: SE003L1_MALMO_UA2018_v013.gpkg\n",
      "Found: SE002L1_GOTEBORG_UA2018_v013.gpkg\n",
      "Found: SE005L1_UMEA_UA2018_v013.gpkg\n",
      "Found: SE006L1_UPPSALA_UA2018_v013.gpkg\n",
      "Found: SE008L1_OREBRO_UA2018_v013.gpkg\n",
      "Found: SE505L1_BORAS_UA2018_v013.gpkg\n",
      "Found: SE503L1_HELSINGBORG_UA2018_v013.gpkg\n",
      "Found: SE501L1_VASTERAS_UA2018_v013.gpkg\n",
      "Found: SE502L1_NORRKOPING_UA2018_v013.gpkg\n",
      "\n",
      " Save processed data to: \n",
      " /home/exjobbare/projects/datadrive0/deepSat/processed-data/dsen_2_256/timeperiod1\n"
     ]
    }
   ],
   "source": [
    "\n",
    "import os\n",
    "# path to 'deepSat' containing: \n",
    "# \"raw-data/AOI/tile_selection.gpkg\", \n",
    "# 'raw-data/AOI/patch_size_features.gpkg', \n",
    "# 'raw-data/LULC-Sweden/*/Data/*.gpkg'\n",
    "# 'raw-data/sentinel-2/Tidsperiod-x/'\n",
    "\n",
    "root_path = '/home/exjobbare/projects/datadrive0/deepSat/'\n",
    "timeperiod = 1 # timeperiod (tp) 1 eller 2\n",
    "\n",
    "patch_size = 256  #choose between ['64','128','256']\n",
    "source = 'dsen_2' # for savedir... e.g. TCI => TCI_256 if patch_size=256\n",
    "data_source = source + '_{}'.format(patch_size)\n",
    "tp = 'timeperiod{}'.format(timeperiod)\n",
    "sdir = os.path.join(root_path,'processed-data/{source}/{tp}'.format(source=data_source,tp=tp))\n",
    "\n",
    "import glob\n",
    "import h5netcdf\n",
    "import xarray as xr\n",
    "import numpy as np\n",
    "import pandas as pd\n",
    "import rioxarray as rio\n",
    "from geopandas import read_file\n",
    "from tqdm.notebook import tqdm\n",
    "from preprocess.uaUtils import open_fua\n",
    "from preprocess.s2Utils import search_product,open_tile,clip_tile, get_tile_info, get_prod_info\n",
    "from preprocess.utils import rasterize,get_obj_within,str_to_oao, save_cube,class_dict,org_files\n",
    "\n",
    "xr.set_options(keep_attrs=True)\n",
    "\n",
    "\n",
    "# path to Urban Atlas (UA) data\n",
    "ua_paths = glob.glob(os.path.join(root_path,'raw-data/LULC-Sweden/*/Data/*.gpkg'))\n",
    "\n",
    "# path to s2 products\n",
    "s2_path = os.path.join(root_path,'../dsen2_results/{}/'.format(tp))\n",
    "#s2_path = os.path.join(root_path,'raw-data/sentinel-2/{}/'.format(tp))\n",
    "print('Looking for sentinel products in:\\n',s2_path,'\\n')\n",
    "ua_crs = read_file(ua_paths[0]).crs\n",
    "\n",
    "# path to s2 tiles to use \n",
    "s2tiles = read_file(os.path.join(root_path,'raw-data/AOI/tile_selection.gpkg')).to_crs(ua_crs)\n",
    "\n",
    "# path to scb patches of size*size\n",
    "scb_grid = read_file(os.path.join(root_path,'raw-data/AOI/patch_size_features.gpkg'),layer = \"patch_{}\".format(patch_size)).to_crs(ua_crs)\n",
    "\n",
    "\n",
    "# check that desired s2tiles existst in s2_path\n",
    "print('---- Found sentinel products: ----')\n",
    "for tile in s2tiles.itertuples():\n",
    "    prod,date= search_product(s2_path,tile.Name)\n",
    "    if prod:\n",
    "        for i, prod in enumerate(prod):\n",
    "            fn=os.path.basename(prod)\n",
    "            print('Found:',get_prod_info(fn)['Tile'],pd.to_datetime(date[i]),fn)\n",
    "    else:\n",
    "        print('No found sentinel products for tile:',tile.Name)\n",
    "          \n",
    "# list found FUAS\n",
    "print('\\n---- Found LULC data: ----')\n",
    "if ua_paths:\n",
    "    for ua_path in ua_paths:\n",
    "        print('Found:',os.path.basename(ua_path))\n",
    "else:\n",
    "    print('No LULC data found')\n",
    "    \n",
    "\n",
    "print('\\n Save processed data to: \\n',  sdir)"
   ]
  },
  {
   "cell_type": "code",
   "execution_count": 2,
   "id": "3a891104",
   "metadata": {},
   "outputs": [
    {
     "data": {
      "application/vnd.jupyter.widget-view+json": {
       "model_id": "3848c0859a614307b976456f8baa7ec4",
       "version_major": 2,
       "version_minor": 0
      },
      "text/plain": [
       "Total progress:   0%|          | 0/12 [00:00<?, ?it/s]"
      ]
     },
     "metadata": {},
     "output_type": "display_data"
    },
    {
     "data": {
      "application/vnd.jupyter.widget-view+json": {
       "model_id": "e899c7afdb1b47a3869016143764461f",
       "version_major": 2,
       "version_minor": 0
      },
      "text/plain": [
       "Intersecting tiles:   0%|          | 0/4 [00:00<?, ?it/s]"
      ]
     },
     "metadata": {},
     "output_type": "display_data"
    },
    {
     "data": {
      "application/vnd.jupyter.widget-view+json": {
       "model_id": "3728e9ab25944550b930000bfb11ec85",
       "version_major": 2,
       "version_minor": 0
      },
      "text/plain": [
       "FUA: STOCKHOLM, Tile: 33VXF:   0%|          | 0/324 [00:00<?, ?it/s]"
      ]
     },
     "metadata": {},
     "output_type": "display_data"
    },
    {
     "data": {
      "application/vnd.jupyter.widget-view+json": {
       "model_id": "c28b4008069848f6b4bc829c36789c77",
       "version_major": 2,
       "version_minor": 0
      },
      "text/plain": [
       "FUA: STOCKHOLM, Tile: 33VXG:   0%|          | 0/233 [00:00<?, ?it/s]"
      ]
     },
     "metadata": {},
     "output_type": "display_data"
    },
    {
     "data": {
      "application/vnd.jupyter.widget-view+json": {
       "model_id": "a412775510b94aa7b347d3e6ee7b67b4",
       "version_major": 2,
       "version_minor": 0
      },
      "text/plain": [
       "FUA: STOCKHOLM, Tile: 34VCL:   0%|          | 0/284 [00:00<?, ?it/s]"
      ]
     },
     "metadata": {},
     "output_type": "display_data"
    },
    {
     "data": {
      "application/vnd.jupyter.widget-view+json": {
       "model_id": "d2fc7183240b4934a17d6e87d2323049",
       "version_major": 2,
       "version_minor": 0
      },
      "text/plain": [
       "FUA: STOCKHOLM, Tile: 34VCM:   0%|          | 0/275 [00:00<?, ?it/s]"
      ]
     },
     "metadata": {},
     "output_type": "display_data"
    },
    {
     "data": {
      "application/vnd.jupyter.widget-view+json": {
       "model_id": "ec61f4ed384a4f9d9c5412479515c179",
       "version_major": 2,
       "version_minor": 0
      },
      "text/plain": [
       "Intersecting tiles:   0%|          | 0/2 [00:00<?, ?it/s]"
      ]
     },
     "metadata": {},
     "output_type": "display_data"
    },
    {
     "data": {
      "application/vnd.jupyter.widget-view+json": {
       "model_id": "9f6cb14473254e148a3b95fe6c975d6f",
       "version_major": 2,
       "version_minor": 0
      },
      "text/plain": [
       "FUA: JONKOPING, Tile: 33VVD:   0%|          | 0/46 [00:00<?, ?it/s]"
      ]
     },
     "metadata": {},
     "output_type": "display_data"
    },
    {
     "data": {
      "application/vnd.jupyter.widget-view+json": {
       "model_id": "0f71c0a3154c449b819caa55c702bdb3",
       "version_major": 2,
       "version_minor": 0
      },
      "text/plain": [
       "FUA: JONKOPING, Tile: 33VVE:   0%|          | 0/105 [00:00<?, ?it/s]"
      ]
     },
     "metadata": {},
     "output_type": "display_data"
    },
    {
     "data": {
      "application/vnd.jupyter.widget-view+json": {
       "model_id": "0280759f4cf24e5a8a414762e298fdd4",
       "version_major": 2,
       "version_minor": 0
      },
      "text/plain": [
       "Intersecting tiles:   0%|          | 0/3 [00:00<?, ?it/s]"
      ]
     },
     "metadata": {},
     "output_type": "display_data"
    },
    {
     "data": {
      "application/vnd.jupyter.widget-view+json": {
       "model_id": "38b8c49f94954bb7a0015aaa7f94592b",
       "version_major": 2,
       "version_minor": 0
      },
      "text/plain": [
       "FUA: LINKOPING, Tile: 33VVE:   0%|          | 0/12 [00:00<?, ?it/s]"
      ]
     },
     "metadata": {},
     "output_type": "display_data"
    },
    {
     "data": {
      "application/vnd.jupyter.widget-view+json": {
       "model_id": "0beee1eecf844b5a8a77a92b4db3d5d1",
       "version_major": 2,
       "version_minor": 0
      },
      "text/plain": [
       "FUA: LINKOPING, Tile: 33VWE:   0%|          | 0/140 [00:00<?, ?it/s]"
      ]
     },
     "metadata": {},
     "output_type": "display_data"
    },
    {
     "data": {
      "application/vnd.jupyter.widget-view+json": {
       "model_id": "03e027d1ffa84c18b3818e17bf7c7f89",
       "version_major": 2,
       "version_minor": 0
      },
      "text/plain": [
       "FUA: LINKOPING, Tile: 33VWF: 0it [00:00, ?it/s]"
      ]
     },
     "metadata": {},
     "output_type": "display_data"
    },
    {
     "data": {
      "application/vnd.jupyter.widget-view+json": {
       "model_id": "6425c0e54b0d42d3a46f6c4dfa487ae6",
       "version_major": 2,
       "version_minor": 0
      },
      "text/plain": [
       "Intersecting tiles:   0%|          | 0/2 [00:00<?, ?it/s]"
      ]
     },
     "metadata": {},
     "output_type": "display_data"
    },
    {
     "data": {
      "application/vnd.jupyter.widget-view+json": {
       "model_id": "52d5946e7f634967b106f0aadb1b8da1",
       "version_major": 2,
       "version_minor": 0
      },
      "text/plain": [
       "FUA: MALMO, Tile: 33UUB:   0%|          | 0/188 [00:00<?, ?it/s]"
      ]
     },
     "metadata": {},
     "output_type": "display_data"
    },
    {
     "data": {
      "application/vnd.jupyter.widget-view+json": {
       "model_id": "c3d97b0d5821461b92d61fa4ec3acc19",
       "version_major": 2,
       "version_minor": 0
      },
      "text/plain": [
       "FUA: MALMO, Tile: 33VUC: 0it [00:00, ?it/s]"
      ]
     },
     "metadata": {},
     "output_type": "display_data"
    },
    {
     "data": {
      "application/vnd.jupyter.widget-view+json": {
       "model_id": "047e44330dc54bc18633c32d14dac9d8",
       "version_major": 2,
       "version_minor": 0
      },
      "text/plain": [
       "Intersecting tiles:   0%|          | 0/2 [00:00<?, ?it/s]"
      ]
     },
     "metadata": {},
     "output_type": "display_data"
    },
    {
     "data": {
      "application/vnd.jupyter.widget-view+json": {
       "model_id": "2262faa3e9634482ab52581d6c389d0e",
       "version_major": 2,
       "version_minor": 0
      },
      "text/plain": [
       "FUA: GOTEBORG, Tile: 33VUD:   0%|          | 0/120 [00:00<?, ?it/s]"
      ]
     },
     "metadata": {},
     "output_type": "display_data"
    },
    {
     "data": {
      "application/vnd.jupyter.widget-view+json": {
       "model_id": "f16e4989db904127a29533d38661fb5f",
       "version_major": 2,
       "version_minor": 0
      },
      "text/plain": [
       "FUA: GOTEBORG, Tile: 33VUE:   0%|          | 0/296 [00:00<?, ?it/s]"
      ]
     },
     "metadata": {},
     "output_type": "display_data"
    },
    {
     "data": {
      "application/vnd.jupyter.widget-view+json": {
       "model_id": "928a35c8c9384c3cb3e81b2d82886dca",
       "version_major": 2,
       "version_minor": 0
      },
      "text/plain": [
       "Intersecting tiles:   0%|          | 0/2 [00:00<?, ?it/s]"
      ]
     },
     "metadata": {},
     "output_type": "display_data"
    },
    {
     "data": {
      "application/vnd.jupyter.widget-view+json": {
       "model_id": "5e5dbb9ee540479c9cd58acbcdf89f78",
       "version_major": 2,
       "version_minor": 0
      },
      "text/plain": [
       "FUA: UMEA, Tile: 34VDR:   0%|          | 0/131 [00:00<?, ?it/s]"
      ]
     },
     "metadata": {},
     "output_type": "display_data"
    },
    {
     "data": {
      "application/vnd.jupyter.widget-view+json": {
       "model_id": "06b0cd86d9ef4a8ebfc252af9ecc812d",
       "version_major": 2,
       "version_minor": 0
      },
      "text/plain": [
       "FUA: UMEA, Tile: 34WDS:   0%|          | 0/56 [00:00<?, ?it/s]"
      ]
     },
     "metadata": {},
     "output_type": "display_data"
    },
    {
     "data": {
      "application/vnd.jupyter.widget-view+json": {
       "model_id": "5ee1519433df4ace9c20e029b5b1ef29",
       "version_major": 2,
       "version_minor": 0
      },
      "text/plain": [
       "Intersecting tiles:   0%|          | 0/3 [00:00<?, ?it/s]"
      ]
     },
     "metadata": {},
     "output_type": "display_data"
    },
    {
     "data": {
      "application/vnd.jupyter.widget-view+json": {
       "model_id": "1d96ffb8355c4ad4b5c5399ff8b2bf81",
       "version_major": 2,
       "version_minor": 0
      },
      "text/plain": [
       "FUA: UPPSALA, Tile: 33VWG:   0%|          | 0/9 [00:00<?, ?it/s]"
      ]
     },
     "metadata": {},
     "output_type": "display_data"
    },
    {
     "data": {
      "application/vnd.jupyter.widget-view+json": {
       "model_id": "13434b591fa04e509edfe19d702e8e1f",
       "version_major": 2,
       "version_minor": 0
      },
      "text/plain": [
       "FUA: UPPSALA, Tile: 33VXG:   0%|          | 0/248 [00:00<?, ?it/s]"
      ]
     },
     "metadata": {},
     "output_type": "display_data"
    },
    {
     "data": {
      "application/vnd.jupyter.widget-view+json": {
       "model_id": "45c205f8767d4609afd7f6998658934a",
       "version_major": 2,
       "version_minor": 0
      },
      "text/plain": [
       "FUA: UPPSALA, Tile: 34VCM:   0%|          | 0/192 [00:00<?, ?it/s]"
      ]
     },
     "metadata": {},
     "output_type": "display_data"
    },
    {
     "data": {
      "application/vnd.jupyter.widget-view+json": {
       "model_id": "3381c8fa7f064babbe89339effdcda11",
       "version_major": 2,
       "version_minor": 0
      },
      "text/plain": [
       "Intersecting tiles:   0%|          | 0/3 [00:00<?, ?it/s]"
      ]
     },
     "metadata": {},
     "output_type": "display_data"
    },
    {
     "data": {
      "application/vnd.jupyter.widget-view+json": {
       "model_id": "712aefefed9d4affb1db10754db8f03d",
       "version_major": 2,
       "version_minor": 0
      },
      "text/plain": [
       "FUA: ÖREBRO, Tile: 33VVF:   0%|          | 0/76 [00:00<?, ?it/s]"
      ]
     },
     "metadata": {},
     "output_type": "display_data"
    },
    {
     "data": {
      "application/vnd.jupyter.widget-view+json": {
       "model_id": "40dfc3b6ddb547b294559982c0526618",
       "version_major": 2,
       "version_minor": 0
      },
      "text/plain": [
       "FUA: ÖREBRO, Tile: 33VWF:   0%|          | 0/133 [00:00<?, ?it/s]"
      ]
     },
     "metadata": {},
     "output_type": "display_data"
    },
    {
     "data": {
      "application/vnd.jupyter.widget-view+json": {
       "model_id": "565e27aeb90d46d5902fbf2901c551bb",
       "version_major": 2,
       "version_minor": 0
      },
      "text/plain": [
       "FUA: ÖREBRO, Tile: 33VWG:   0%|          | 0/4 [00:00<?, ?it/s]"
      ]
     },
     "metadata": {},
     "output_type": "display_data"
    },
    {
     "data": {
      "application/vnd.jupyter.widget-view+json": {
       "model_id": "f7677eff94284dda99d0b47cec7184f5",
       "version_major": 2,
       "version_minor": 0
      },
      "text/plain": [
       "Intersecting tiles:   0%|          | 0/2 [00:00<?, ?it/s]"
      ]
     },
     "metadata": {},
     "output_type": "display_data"
    },
    {
     "data": {
      "application/vnd.jupyter.widget-view+json": {
       "model_id": "4413154592794b0fa6f81fe80beccf5a",
       "version_major": 2,
       "version_minor": 0
      },
      "text/plain": [
       "FUA: BORAS, Tile: 33VUD:   0%|          | 0/29 [00:00<?, ?it/s]"
      ]
     },
     "metadata": {},
     "output_type": "display_data"
    },
    {
     "data": {
      "application/vnd.jupyter.widget-view+json": {
       "model_id": "831453762c0c43a5b6bfd9260b262e32",
       "version_major": 2,
       "version_minor": 0
      },
      "text/plain": [
       "FUA: BORAS, Tile: 33VUE:   0%|          | 0/66 [00:00<?, ?it/s]"
      ]
     },
     "metadata": {},
     "output_type": "display_data"
    },
    {
     "data": {
      "application/vnd.jupyter.widget-view+json": {
       "model_id": "95e658c872fa4dfd958676f375ac8bbe",
       "version_major": 2,
       "version_minor": 0
      },
      "text/plain": [
       "Intersecting tiles:   0%|          | 0/2 [00:00<?, ?it/s]"
      ]
     },
     "metadata": {},
     "output_type": "display_data"
    },
    {
     "data": {
      "application/vnd.jupyter.widget-view+json": {
       "model_id": "4b70a67efb784d12b2f75bfb573460e6",
       "version_major": 2,
       "version_minor": 0
      },
      "text/plain": [
       "FUA: HELSINGBORG, Tile: 33UUB: 0it [00:00, ?it/s]"
      ]
     },
     "metadata": {},
     "output_type": "display_data"
    },
    {
     "data": {
      "application/vnd.jupyter.widget-view+json": {
       "model_id": "86b0f68f431041bf9f6fc4fcce2c7159",
       "version_major": 2,
       "version_minor": 0
      },
      "text/plain": [
       "FUA: HELSINGBORG, Tile: 33VUC:   0%|          | 0/98 [00:00<?, ?it/s]"
      ]
     },
     "metadata": {},
     "output_type": "display_data"
    },
    {
     "data": {
      "application/vnd.jupyter.widget-view+json": {
       "model_id": "4db296e0d5494e6fb9597b4475325f68",
       "version_major": 2,
       "version_minor": 0
      },
      "text/plain": [
       "Intersecting tiles:   0%|          | 0/4 [00:00<?, ?it/s]"
      ]
     },
     "metadata": {},
     "output_type": "display_data"
    },
    {
     "data": {
      "application/vnd.jupyter.widget-view+json": {
       "model_id": "3d49addcad7a4a07adaaa9d235071b7c",
       "version_major": 2,
       "version_minor": 0
      },
      "text/plain": [
       "FUA: VASTERAS, Tile: 33VWF:   0%|          | 0/4 [00:00<?, ?it/s]"
      ]
     },
     "metadata": {},
     "output_type": "display_data"
    },
    {
     "data": {
      "application/vnd.jupyter.widget-view+json": {
       "model_id": "2e955cc115f8470982309f2fb4f69273",
       "version_major": 2,
       "version_minor": 0
      },
      "text/plain": [
       "FUA: VASTERAS, Tile: 33VWG:   0%|          | 0/113 [00:00<?, ?it/s]"
      ]
     },
     "metadata": {},
     "output_type": "display_data"
    },
    {
     "data": {
      "application/vnd.jupyter.widget-view+json": {
       "model_id": "4f308529acb3460caa16ed2362e3ddd2",
       "version_major": 2,
       "version_minor": 0
      },
      "text/plain": [
       "FUA: VASTERAS, Tile: 33VXF: 0it [00:00, ?it/s]"
      ]
     },
     "metadata": {},
     "output_type": "display_data"
    },
    {
     "data": {
      "application/vnd.jupyter.widget-view+json": {
       "model_id": "e9c285e7208c4928afe5681a0b725fd2",
       "version_major": 2,
       "version_minor": 0
      },
      "text/plain": [
       "FUA: VASTERAS, Tile: 33VXG:   0%|          | 0/3 [00:00<?, ?it/s]"
      ]
     },
     "metadata": {},
     "output_type": "display_data"
    },
    {
     "data": {
      "application/vnd.jupyter.widget-view+json": {
       "model_id": "414d0ac45ac04b4bb4abf7ef68e13e25",
       "version_major": 2,
       "version_minor": 0
      },
      "text/plain": [
       "Intersecting tiles:   0%|          | 0/3 [00:00<?, ?it/s]"
      ]
     },
     "metadata": {},
     "output_type": "display_data"
    },
    {
     "data": {
      "application/vnd.jupyter.widget-view+json": {
       "model_id": "eab1d61a51584376bdb5816852fbc45b",
       "version_major": 2,
       "version_minor": 0
      },
      "text/plain": [
       "FUA: NORRKOPING, Tile: 33VWE:   0%|          | 0/81 [00:00<?, ?it/s]"
      ]
     },
     "metadata": {},
     "output_type": "display_data"
    },
    {
     "data": {
      "application/vnd.jupyter.widget-view+json": {
       "model_id": "283f4d6a1d46465cbaeebed047cdac69",
       "version_major": 2,
       "version_minor": 0
      },
      "text/plain": [
       "FUA: NORRKOPING, Tile: 33VWF:   0%|          | 0/47 [00:00<?, ?it/s]"
      ]
     },
     "metadata": {},
     "output_type": "display_data"
    },
    {
     "data": {
      "application/vnd.jupyter.widget-view+json": {
       "model_id": "3574188c4681416d8367fa4773c07a9d",
       "version_major": 2,
       "version_minor": 0
      },
      "text/plain": [
       "FUA: NORRKOPING, Tile: 33VXF: 0it [00:00, ?it/s]"
      ]
     },
     "metadata": {},
     "output_type": "display_data"
    }
   ],
   "source": [
    "# sequential all fuas (original)\n",
    "bad_patch=[]\n",
    "for path in tqdm(ua_paths, desc='Total progress'):\n",
    "    \n",
    "    fua_labls,fua_bound = open_fua(path)             # open fua layers\n",
    "    tiles_inters = s2tiles.sjoin(fua_bound, predicate='intersects')  #get intersecting tiles for fua\n",
    "    fua_name = str_to_oao(fua_bound.fua_name[0])\n",
    "    \n",
    "    for tile in tqdm(tiles_inters.itertuples(),desc='Intersecting tiles',total=len(tiles_inters)): # for every intersecting tile\n",
    "        \n",
    "        # select patches within curr tile\n",
    "        curr_tile = s2tiles[s2tiles.Name.isin([tile.Name])]                                               \n",
    "        patches_within = get_obj_within(get_obj_within(scb_grid,curr_tile),fua_bound) #select patches(grid) within curr_tile and within fua\n",
    "        #savedir\n",
    "        savedir = os.path.join(sdir,'{}/{}/'.format(fua_name,tile.Name))\n",
    "        #print(savedir)\n",
    "        #open curr tile \n",
    "        s2_tile = open_tile(tile.Name,s2_path)\n",
    "    \n",
    "        for patch in tqdm(patches_within.itertuples(),total=len(patches_within), desc='FUA: {}, Tile: {}'.format(fua_name,tile.Name)):\n",
    "            \n",
    "            # get current patch and clip labels to patch extent\n",
    "            curr_patch = scb_grid[(scb_grid.id.isin([patch.id]))]\n",
    "            # clip tile and labels to patch extent\n",
    "            s2_patch = clip_tile(s2_tile,curr_patch)\n",
    "            patch_labls = fua_labls.clip(curr_patch)\n",
    "            #rasterize patch labels \n",
    "            try:\n",
    "                cube = rasterize(patch_labls)\n",
    "            except:\n",
    "                bad_patch.append(patch.id)\n",
    "            else:    \n",
    "                #merge s2_patch and patch labels\n",
    "                cube = cube.merge(s2_patch.rio.reproject_match(cube)) #append to cube\n",
    "                # reduce coordinate dimensions by one\n",
    "                if cube.dims['x'] > patch_size:\n",
    "                   cube=cube.isel(x=slice(None, -1), y=slice(None, -1))           \n",
    "            \n",
    "                #set attributes to cube before saving\n",
    "                cube.attrs[\"patch_id\"] = patch.id\n",
    "                cube.attrs['FUA'] = fua_name\n",
    "                cube.attrs['long_name']=s2_tile.long_name\n",
    "                for key,value in get_tile_info(tile.Name,s2_path).items():\n",
    "                    cube.attrs[key] = value\n",
    "                #cube.train_id.attrs['_fillValue']=255\n",
    "                #cube.class_code.attrs['_fillValue']=255\n",
    "                save_cube(cube,savedir)\n",
    "   "
   ]
  },
  {
   "cell_type": "code",
   "execution_count": 9,
   "id": "32dc39d0-c1ee-402b-934c-45eb5d223dc6",
   "metadata": {},
   "outputs": [
    {
     "data": {
      "text/html": [
       "<div><svg style=\"position: absolute; width: 0; height: 0; overflow: hidden\">\n",
       "<defs>\n",
       "<symbol id=\"icon-database\" viewBox=\"0 0 32 32\">\n",
       "<path d=\"M16 0c-8.837 0-16 2.239-16 5v4c0 2.761 7.163 5 16 5s16-2.239 16-5v-4c0-2.761-7.163-5-16-5z\"></path>\n",
       "<path d=\"M16 17c-8.837 0-16-2.239-16-5v6c0 2.761 7.163 5 16 5s16-2.239 16-5v-6c0 2.761-7.163 5-16 5z\"></path>\n",
       "<path d=\"M16 26c-8.837 0-16-2.239-16-5v6c0 2.761 7.163 5 16 5s16-2.239 16-5v-6c0 2.761-7.163 5-16 5z\"></path>\n",
       "</symbol>\n",
       "<symbol id=\"icon-file-text2\" viewBox=\"0 0 32 32\">\n",
       "<path d=\"M28.681 7.159c-0.694-0.947-1.662-2.053-2.724-3.116s-2.169-2.030-3.116-2.724c-1.612-1.182-2.393-1.319-2.841-1.319h-15.5c-1.378 0-2.5 1.121-2.5 2.5v27c0 1.378 1.122 2.5 2.5 2.5h23c1.378 0 2.5-1.122 2.5-2.5v-19.5c0-0.448-0.137-1.23-1.319-2.841zM24.543 5.457c0.959 0.959 1.712 1.825 2.268 2.543h-4.811v-4.811c0.718 0.556 1.584 1.309 2.543 2.268zM28 29.5c0 0.271-0.229 0.5-0.5 0.5h-23c-0.271 0-0.5-0.229-0.5-0.5v-27c0-0.271 0.229-0.5 0.5-0.5 0 0 15.499-0 15.5 0v7c0 0.552 0.448 1 1 1h7v19.5z\"></path>\n",
       "<path d=\"M23 26h-14c-0.552 0-1-0.448-1-1s0.448-1 1-1h14c0.552 0 1 0.448 1 1s-0.448 1-1 1z\"></path>\n",
       "<path d=\"M23 22h-14c-0.552 0-1-0.448-1-1s0.448-1 1-1h14c0.552 0 1 0.448 1 1s-0.448 1-1 1z\"></path>\n",
       "<path d=\"M23 18h-14c-0.552 0-1-0.448-1-1s0.448-1 1-1h14c0.552 0 1 0.448 1 1s-0.448 1-1 1z\"></path>\n",
       "</symbol>\n",
       "</defs>\n",
       "</svg>\n",
       "<style>/* CSS stylesheet for displaying xarray objects in jupyterlab.\n",
       " *\n",
       " */\n",
       "\n",
       ":root {\n",
       "  --xr-font-color0: var(--jp-content-font-color0, rgba(0, 0, 0, 1));\n",
       "  --xr-font-color2: var(--jp-content-font-color2, rgba(0, 0, 0, 0.54));\n",
       "  --xr-font-color3: var(--jp-content-font-color3, rgba(0, 0, 0, 0.38));\n",
       "  --xr-border-color: var(--jp-border-color2, #e0e0e0);\n",
       "  --xr-disabled-color: var(--jp-layout-color3, #bdbdbd);\n",
       "  --xr-background-color: var(--jp-layout-color0, white);\n",
       "  --xr-background-color-row-even: var(--jp-layout-color1, white);\n",
       "  --xr-background-color-row-odd: var(--jp-layout-color2, #eeeeee);\n",
       "}\n",
       "\n",
       "html[theme=dark],\n",
       "body.vscode-dark {\n",
       "  --xr-font-color0: rgba(255, 255, 255, 1);\n",
       "  --xr-font-color2: rgba(255, 255, 255, 0.54);\n",
       "  --xr-font-color3: rgba(255, 255, 255, 0.38);\n",
       "  --xr-border-color: #1F1F1F;\n",
       "  --xr-disabled-color: #515151;\n",
       "  --xr-background-color: #111111;\n",
       "  --xr-background-color-row-even: #111111;\n",
       "  --xr-background-color-row-odd: #313131;\n",
       "}\n",
       "\n",
       ".xr-wrap {\n",
       "  display: block !important;\n",
       "  min-width: 300px;\n",
       "  max-width: 700px;\n",
       "}\n",
       "\n",
       ".xr-text-repr-fallback {\n",
       "  /* fallback to plain text repr when CSS is not injected (untrusted notebook) */\n",
       "  display: none;\n",
       "}\n",
       "\n",
       ".xr-header {\n",
       "  padding-top: 6px;\n",
       "  padding-bottom: 6px;\n",
       "  margin-bottom: 4px;\n",
       "  border-bottom: solid 1px var(--xr-border-color);\n",
       "}\n",
       "\n",
       ".xr-header > div,\n",
       ".xr-header > ul {\n",
       "  display: inline;\n",
       "  margin-top: 0;\n",
       "  margin-bottom: 0;\n",
       "}\n",
       "\n",
       ".xr-obj-type,\n",
       ".xr-array-name {\n",
       "  margin-left: 2px;\n",
       "  margin-right: 10px;\n",
       "}\n",
       "\n",
       ".xr-obj-type {\n",
       "  color: var(--xr-font-color2);\n",
       "}\n",
       "\n",
       ".xr-sections {\n",
       "  padding-left: 0 !important;\n",
       "  display: grid;\n",
       "  grid-template-columns: 150px auto auto 1fr 20px 20px;\n",
       "}\n",
       "\n",
       ".xr-section-item {\n",
       "  display: contents;\n",
       "}\n",
       "\n",
       ".xr-section-item input {\n",
       "  display: none;\n",
       "}\n",
       "\n",
       ".xr-section-item input + label {\n",
       "  color: var(--xr-disabled-color);\n",
       "}\n",
       "\n",
       ".xr-section-item input:enabled + label {\n",
       "  cursor: pointer;\n",
       "  color: var(--xr-font-color2);\n",
       "}\n",
       "\n",
       ".xr-section-item input:enabled + label:hover {\n",
       "  color: var(--xr-font-color0);\n",
       "}\n",
       "\n",
       ".xr-section-summary {\n",
       "  grid-column: 1;\n",
       "  color: var(--xr-font-color2);\n",
       "  font-weight: 500;\n",
       "}\n",
       "\n",
       ".xr-section-summary > span {\n",
       "  display: inline-block;\n",
       "  padding-left: 0.5em;\n",
       "}\n",
       "\n",
       ".xr-section-summary-in:disabled + label {\n",
       "  color: var(--xr-font-color2);\n",
       "}\n",
       "\n",
       ".xr-section-summary-in + label:before {\n",
       "  display: inline-block;\n",
       "  content: '►';\n",
       "  font-size: 11px;\n",
       "  width: 15px;\n",
       "  text-align: center;\n",
       "}\n",
       "\n",
       ".xr-section-summary-in:disabled + label:before {\n",
       "  color: var(--xr-disabled-color);\n",
       "}\n",
       "\n",
       ".xr-section-summary-in:checked + label:before {\n",
       "  content: '▼';\n",
       "}\n",
       "\n",
       ".xr-section-summary-in:checked + label > span {\n",
       "  display: none;\n",
       "}\n",
       "\n",
       ".xr-section-summary,\n",
       ".xr-section-inline-details {\n",
       "  padding-top: 4px;\n",
       "  padding-bottom: 4px;\n",
       "}\n",
       "\n",
       ".xr-section-inline-details {\n",
       "  grid-column: 2 / -1;\n",
       "}\n",
       "\n",
       ".xr-section-details {\n",
       "  display: none;\n",
       "  grid-column: 1 / -1;\n",
       "  margin-bottom: 5px;\n",
       "}\n",
       "\n",
       ".xr-section-summary-in:checked ~ .xr-section-details {\n",
       "  display: contents;\n",
       "}\n",
       "\n",
       ".xr-array-wrap {\n",
       "  grid-column: 1 / -1;\n",
       "  display: grid;\n",
       "  grid-template-columns: 20px auto;\n",
       "}\n",
       "\n",
       ".xr-array-wrap > label {\n",
       "  grid-column: 1;\n",
       "  vertical-align: top;\n",
       "}\n",
       "\n",
       ".xr-preview {\n",
       "  color: var(--xr-font-color3);\n",
       "}\n",
       "\n",
       ".xr-array-preview,\n",
       ".xr-array-data {\n",
       "  padding: 0 5px !important;\n",
       "  grid-column: 2;\n",
       "}\n",
       "\n",
       ".xr-array-data,\n",
       ".xr-array-in:checked ~ .xr-array-preview {\n",
       "  display: none;\n",
       "}\n",
       "\n",
       ".xr-array-in:checked ~ .xr-array-data,\n",
       ".xr-array-preview {\n",
       "  display: inline-block;\n",
       "}\n",
       "\n",
       ".xr-dim-list {\n",
       "  display: inline-block !important;\n",
       "  list-style: none;\n",
       "  padding: 0 !important;\n",
       "  margin: 0;\n",
       "}\n",
       "\n",
       ".xr-dim-list li {\n",
       "  display: inline-block;\n",
       "  padding: 0;\n",
       "  margin: 0;\n",
       "}\n",
       "\n",
       ".xr-dim-list:before {\n",
       "  content: '(';\n",
       "}\n",
       "\n",
       ".xr-dim-list:after {\n",
       "  content: ')';\n",
       "}\n",
       "\n",
       ".xr-dim-list li:not(:last-child):after {\n",
       "  content: ',';\n",
       "  padding-right: 5px;\n",
       "}\n",
       "\n",
       ".xr-has-index {\n",
       "  font-weight: bold;\n",
       "}\n",
       "\n",
       ".xr-var-list,\n",
       ".xr-var-item {\n",
       "  display: contents;\n",
       "}\n",
       "\n",
       ".xr-var-item > div,\n",
       ".xr-var-item label,\n",
       ".xr-var-item > .xr-var-name span {\n",
       "  background-color: var(--xr-background-color-row-even);\n",
       "  margin-bottom: 0;\n",
       "}\n",
       "\n",
       ".xr-var-item > .xr-var-name:hover span {\n",
       "  padding-right: 5px;\n",
       "}\n",
       "\n",
       ".xr-var-list > li:nth-child(odd) > div,\n",
       ".xr-var-list > li:nth-child(odd) > label,\n",
       ".xr-var-list > li:nth-child(odd) > .xr-var-name span {\n",
       "  background-color: var(--xr-background-color-row-odd);\n",
       "}\n",
       "\n",
       ".xr-var-name {\n",
       "  grid-column: 1;\n",
       "}\n",
       "\n",
       ".xr-var-dims {\n",
       "  grid-column: 2;\n",
       "}\n",
       "\n",
       ".xr-var-dtype {\n",
       "  grid-column: 3;\n",
       "  text-align: right;\n",
       "  color: var(--xr-font-color2);\n",
       "}\n",
       "\n",
       ".xr-var-preview {\n",
       "  grid-column: 4;\n",
       "}\n",
       "\n",
       ".xr-var-name,\n",
       ".xr-var-dims,\n",
       ".xr-var-dtype,\n",
       ".xr-preview,\n",
       ".xr-attrs dt {\n",
       "  white-space: nowrap;\n",
       "  overflow: hidden;\n",
       "  text-overflow: ellipsis;\n",
       "  padding-right: 10px;\n",
       "}\n",
       "\n",
       ".xr-var-name:hover,\n",
       ".xr-var-dims:hover,\n",
       ".xr-var-dtype:hover,\n",
       ".xr-attrs dt:hover {\n",
       "  overflow: visible;\n",
       "  width: auto;\n",
       "  z-index: 1;\n",
       "}\n",
       "\n",
       ".xr-var-attrs,\n",
       ".xr-var-data {\n",
       "  display: none;\n",
       "  background-color: var(--xr-background-color) !important;\n",
       "  padding-bottom: 5px !important;\n",
       "}\n",
       "\n",
       ".xr-var-attrs-in:checked ~ .xr-var-attrs,\n",
       ".xr-var-data-in:checked ~ .xr-var-data {\n",
       "  display: block;\n",
       "}\n",
       "\n",
       ".xr-var-data > table {\n",
       "  float: right;\n",
       "}\n",
       "\n",
       ".xr-var-name span,\n",
       ".xr-var-data,\n",
       ".xr-attrs {\n",
       "  padding-left: 25px !important;\n",
       "}\n",
       "\n",
       ".xr-attrs,\n",
       ".xr-var-attrs,\n",
       ".xr-var-data {\n",
       "  grid-column: 1 / -1;\n",
       "}\n",
       "\n",
       "dl.xr-attrs {\n",
       "  padding: 0;\n",
       "  margin: 0;\n",
       "  display: grid;\n",
       "  grid-template-columns: 125px auto;\n",
       "}\n",
       "\n",
       ".xr-attrs dt,\n",
       ".xr-attrs dd {\n",
       "  padding: 0;\n",
       "  margin: 0;\n",
       "  float: left;\n",
       "  padding-right: 10px;\n",
       "  width: auto;\n",
       "}\n",
       "\n",
       ".xr-attrs dt {\n",
       "  font-weight: normal;\n",
       "  grid-column: 1;\n",
       "}\n",
       "\n",
       ".xr-attrs dt:hover span {\n",
       "  display: inline-block;\n",
       "  background: var(--xr-background-color);\n",
       "  padding-right: 10px;\n",
       "}\n",
       "\n",
       ".xr-attrs dd {\n",
       "  grid-column: 2;\n",
       "  white-space: pre-wrap;\n",
       "  word-break: break-all;\n",
       "}\n",
       "\n",
       ".xr-icon-database,\n",
       ".xr-icon-file-text2 {\n",
       "  display: inline-block;\n",
       "  vertical-align: middle;\n",
       "  width: 1em;\n",
       "  height: 1.5em !important;\n",
       "  stroke-width: 0;\n",
       "  stroke: currentColor;\n",
       "  fill: currentColor;\n",
       "}\n",
       "</style><pre class='xr-text-repr-fallback'>&lt;xarray.Dataset&gt;\n",
       "Dimensions:      (y: 256, x: 256, band: 10)\n",
       "Coordinates:\n",
       "  * y            (y) float64 4.035e+06 4.035e+06 ... 4.038e+06 4.038e+06\n",
       "  * x            (x) float64 4.74e+06 4.74e+06 4.74e+06 ... 4.738e+06 4.738e+06\n",
       "    spatial_ref  int64 0\n",
       "  * band         (band) int64 1 2 3 4 5 6 7 8 9 10\n",
       "Data variables:\n",
       "    class_code   (y, x) uint16 0 31000 31000 31000 ... 50000 50000 50000 50000\n",
       "    train_id     (y, x) uint16 0 22 22 22 22 22 22 22 ... 26 26 26 26 26 26 26\n",
       "    raw          (band, y, x) float64 294.0 293.0 274.0 ... 41.53 36.09 37.32\n",
       "Attributes:\n",
       "    patch_id:            54424\n",
       "    FUA:                 STOCKHOLM\n",
       "    long_name:           (&#x27;B4 (665 nm)&#x27;, &#x27;B3 (560 nm)&#x27;, &#x27;B2 (490 nm)&#x27;, &#x27;B8 (8...\n",
       "    s2_file_name:        S2A_MSIL2A_20180628T101031_N9999_R022_T33VXF_2022042...\n",
       "    sensing_start:       20180628T101031\n",
       "    Relative_orbit:      R022\n",
       "    Tile:                T33VXF\n",
       "    prod_discriminator:  20220421T221214</pre><div class='xr-wrap' style='display:none'><div class='xr-header'><div class='xr-obj-type'>xarray.Dataset</div></div><ul class='xr-sections'><li class='xr-section-item'><input id='section-121bab0c-eff6-4048-b918-d689d5aa2c95' class='xr-section-summary-in' type='checkbox' disabled ><label for='section-121bab0c-eff6-4048-b918-d689d5aa2c95' class='xr-section-summary'  title='Expand/collapse section'>Dimensions:</label><div class='xr-section-inline-details'><ul class='xr-dim-list'><li><span class='xr-has-index'>y</span>: 256</li><li><span class='xr-has-index'>x</span>: 256</li><li><span class='xr-has-index'>band</span>: 10</li></ul></div><div class='xr-section-details'></div></li><li class='xr-section-item'><input id='section-677cef3e-60ea-43f1-887f-4ea7e4064250' class='xr-section-summary-in' type='checkbox'  checked><label for='section-677cef3e-60ea-43f1-887f-4ea7e4064250' class='xr-section-summary' >Coordinates: <span>(4)</span></label><div class='xr-section-inline-details'></div><div class='xr-section-details'><ul class='xr-var-list'><li class='xr-var-item'><div class='xr-var-name'><span class='xr-has-index'>y</span></div><div class='xr-var-dims'>(y)</div><div class='xr-var-dtype'>float64</div><div class='xr-var-preview xr-preview'>4.035e+06 4.035e+06 ... 4.038e+06</div><input id='attrs-6e540f90-f9c2-4a40-b9b5-c3e608151df1' class='xr-var-attrs-in' type='checkbox' ><label for='attrs-6e540f90-f9c2-4a40-b9b5-c3e608151df1' title='Show/Hide attributes'><svg class='icon xr-icon-file-text2'><use xlink:href='#icon-file-text2'></use></svg></label><input id='data-388baac8-81ad-4ce3-b78c-8cdff9788ec0' class='xr-var-data-in' type='checkbox'><label for='data-388baac8-81ad-4ce3-b78c-8cdff9788ec0' title='Show/Hide data repr'><svg class='icon xr-icon-database'><use xlink:href='#icon-database'></use></svg></label><div class='xr-var-attrs'><dl class='xr-attrs'><dt><span>axis :</span></dt><dd>Y</dd><dt><span>long_name :</span></dt><dd>y coordinate of projection</dd><dt><span>standard_name :</span></dt><dd>projection_y_coordinate</dd><dt><span>units :</span></dt><dd>metre</dd></dl></div><div class='xr-var-data'><pre>array([4035025., 4035035., 4035045., ..., 4037555., 4037565., 4037575.])</pre></div></li><li class='xr-var-item'><div class='xr-var-name'><span class='xr-has-index'>x</span></div><div class='xr-var-dims'>(x)</div><div class='xr-var-dtype'>float64</div><div class='xr-var-preview xr-preview'>4.74e+06 4.74e+06 ... 4.738e+06</div><input id='attrs-1364c35a-6522-4c03-a237-0cec3bdd4520' class='xr-var-attrs-in' type='checkbox' ><label for='attrs-1364c35a-6522-4c03-a237-0cec3bdd4520' title='Show/Hide attributes'><svg class='icon xr-icon-file-text2'><use xlink:href='#icon-file-text2'></use></svg></label><input id='data-95a820e1-1d90-4005-bb2b-d8442b30cc16' class='xr-var-data-in' type='checkbox'><label for='data-95a820e1-1d90-4005-bb2b-d8442b30cc16' title='Show/Hide data repr'><svg class='icon xr-icon-database'><use xlink:href='#icon-database'></use></svg></label><div class='xr-var-attrs'><dl class='xr-attrs'><dt><span>axis :</span></dt><dd>X</dd><dt><span>long_name :</span></dt><dd>x coordinate of projection</dd><dt><span>standard_name :</span></dt><dd>projection_x_coordinate</dd><dt><span>units :</span></dt><dd>metre</dd></dl></div><div class='xr-var-data'><pre>array([4740215., 4740205., 4740195., ..., 4737685., 4737675., 4737665.])</pre></div></li><li class='xr-var-item'><div class='xr-var-name'><span>spatial_ref</span></div><div class='xr-var-dims'>()</div><div class='xr-var-dtype'>int64</div><div class='xr-var-preview xr-preview'>0</div><input id='attrs-55b9bf3c-07ed-46c5-ba06-f685acf26e25' class='xr-var-attrs-in' type='checkbox' ><label for='attrs-55b9bf3c-07ed-46c5-ba06-f685acf26e25' title='Show/Hide attributes'><svg class='icon xr-icon-file-text2'><use xlink:href='#icon-file-text2'></use></svg></label><input id='data-e4332fad-f86b-4e95-bbfa-cc7592e533b3' class='xr-var-data-in' type='checkbox'><label for='data-e4332fad-f86b-4e95-bbfa-cc7592e533b3' title='Show/Hide data repr'><svg class='icon xr-icon-database'><use xlink:href='#icon-database'></use></svg></label><div class='xr-var-attrs'><dl class='xr-attrs'><dt><span>crs_wkt :</span></dt><dd>PROJCS[&quot;ETRS89-extended / LAEA Europe&quot;,GEOGCS[&quot;ETRS89&quot;,DATUM[&quot;European_Terrestrial_Reference_System_1989&quot;,SPHEROID[&quot;GRS 1980&quot;,6378137,298.257222101,AUTHORITY[&quot;EPSG&quot;,&quot;7019&quot;]],AUTHORITY[&quot;EPSG&quot;,&quot;6258&quot;]],PRIMEM[&quot;Greenwich&quot;,0,AUTHORITY[&quot;EPSG&quot;,&quot;8901&quot;]],UNIT[&quot;degree&quot;,0.0174532925199433,AUTHORITY[&quot;EPSG&quot;,&quot;9122&quot;]],AUTHORITY[&quot;EPSG&quot;,&quot;4258&quot;]],PROJECTION[&quot;Lambert_Azimuthal_Equal_Area&quot;],PARAMETER[&quot;latitude_of_center&quot;,52],PARAMETER[&quot;longitude_of_center&quot;,10],PARAMETER[&quot;false_easting&quot;,4321000],PARAMETER[&quot;false_northing&quot;,3210000],UNIT[&quot;metre&quot;,1,AUTHORITY[&quot;EPSG&quot;,&quot;9001&quot;]],AXIS[&quot;Northing&quot;,NORTH],AXIS[&quot;Easting&quot;,EAST],AUTHORITY[&quot;EPSG&quot;,&quot;3035&quot;]]</dd><dt><span>semi_major_axis :</span></dt><dd>6378137.0</dd><dt><span>semi_minor_axis :</span></dt><dd>6356752.314140356</dd><dt><span>inverse_flattening :</span></dt><dd>298.257222101</dd><dt><span>reference_ellipsoid_name :</span></dt><dd>GRS 1980</dd><dt><span>longitude_of_prime_meridian :</span></dt><dd>0.0</dd><dt><span>prime_meridian_name :</span></dt><dd>Greenwich</dd><dt><span>geographic_crs_name :</span></dt><dd>ETRS89</dd><dt><span>horizontal_datum_name :</span></dt><dd>European Terrestrial Reference System 1989</dd><dt><span>projected_crs_name :</span></dt><dd>ETRS89-extended / LAEA Europe</dd><dt><span>grid_mapping_name :</span></dt><dd>lambert_azimuthal_equal_area</dd><dt><span>latitude_of_projection_origin :</span></dt><dd>52.0</dd><dt><span>longitude_of_projection_origin :</span></dt><dd>10.0</dd><dt><span>false_easting :</span></dt><dd>4321000.0</dd><dt><span>false_northing :</span></dt><dd>3210000.0</dd><dt><span>spatial_ref :</span></dt><dd>PROJCS[&quot;ETRS89-extended / LAEA Europe&quot;,GEOGCS[&quot;ETRS89&quot;,DATUM[&quot;European_Terrestrial_Reference_System_1989&quot;,SPHEROID[&quot;GRS 1980&quot;,6378137,298.257222101,AUTHORITY[&quot;EPSG&quot;,&quot;7019&quot;]],AUTHORITY[&quot;EPSG&quot;,&quot;6258&quot;]],PRIMEM[&quot;Greenwich&quot;,0,AUTHORITY[&quot;EPSG&quot;,&quot;8901&quot;]],UNIT[&quot;degree&quot;,0.0174532925199433,AUTHORITY[&quot;EPSG&quot;,&quot;9122&quot;]],AUTHORITY[&quot;EPSG&quot;,&quot;4258&quot;]],PROJECTION[&quot;Lambert_Azimuthal_Equal_Area&quot;],PARAMETER[&quot;latitude_of_center&quot;,52],PARAMETER[&quot;longitude_of_center&quot;,10],PARAMETER[&quot;false_easting&quot;,4321000],PARAMETER[&quot;false_northing&quot;,3210000],UNIT[&quot;metre&quot;,1,AUTHORITY[&quot;EPSG&quot;,&quot;9001&quot;]],AXIS[&quot;Northing&quot;,NORTH],AXIS[&quot;Easting&quot;,EAST],AUTHORITY[&quot;EPSG&quot;,&quot;3035&quot;]]</dd></dl></div><div class='xr-var-data'><pre>array(0)</pre></div></li><li class='xr-var-item'><div class='xr-var-name'><span class='xr-has-index'>band</span></div><div class='xr-var-dims'>(band)</div><div class='xr-var-dtype'>int64</div><div class='xr-var-preview xr-preview'>1 2 3 4 5 6 7 8 9 10</div><input id='attrs-39a4511c-0efe-4e2a-952b-dee1daec0b26' class='xr-var-attrs-in' type='checkbox' disabled><label for='attrs-39a4511c-0efe-4e2a-952b-dee1daec0b26' title='Show/Hide attributes'><svg class='icon xr-icon-file-text2'><use xlink:href='#icon-file-text2'></use></svg></label><input id='data-2ce418bc-67e5-4506-be69-fa6076c677ed' class='xr-var-data-in' type='checkbox'><label for='data-2ce418bc-67e5-4506-be69-fa6076c677ed' title='Show/Hide data repr'><svg class='icon xr-icon-database'><use xlink:href='#icon-database'></use></svg></label><div class='xr-var-attrs'><dl class='xr-attrs'></dl></div><div class='xr-var-data'><pre>array([ 1,  2,  3,  4,  5,  6,  7,  8,  9, 10])</pre></div></li></ul></div></li><li class='xr-section-item'><input id='section-acfe9607-27ee-4b52-9328-45c4ddccdb77' class='xr-section-summary-in' type='checkbox'  checked><label for='section-acfe9607-27ee-4b52-9328-45c4ddccdb77' class='xr-section-summary' >Data variables: <span>(3)</span></label><div class='xr-section-inline-details'></div><div class='xr-section-details'><ul class='xr-var-list'><li class='xr-var-item'><div class='xr-var-name'><span>class_code</span></div><div class='xr-var-dims'>(y, x)</div><div class='xr-var-dtype'>uint16</div><div class='xr-var-preview xr-preview'>0 31000 31000 ... 50000 50000 50000</div><input id='attrs-3f4f5f0d-3b49-4382-93c5-60f00bf0d3b8' class='xr-var-attrs-in' type='checkbox' ><label for='attrs-3f4f5f0d-3b49-4382-93c5-60f00bf0d3b8' title='Show/Hide attributes'><svg class='icon xr-icon-file-text2'><use xlink:href='#icon-file-text2'></use></svg></label><input id='data-ebf5b569-b73d-4c8b-bfa6-75c5a0c05721' class='xr-var-data-in' type='checkbox'><label for='data-ebf5b569-b73d-4c8b-bfa6-75c5a0c05721' title='Show/Hide data repr'><svg class='icon xr-icon-database'><use xlink:href='#icon-database'></use></svg></label><div class='xr-var-attrs'><dl class='xr-attrs'><dt><span>name :</span></dt><dd>class_code</dd><dt><span>long_name :</span></dt><dd>class_code</dd><dt><span>_FillValue :</span></dt><dd>0</dd></dl></div><div class='xr-var-data'><pre>array([[    0, 31000, 31000, ..., 23000, 23000, 23000],\n",
       "       [    0, 31000, 31000, ..., 23000, 23000, 23000],\n",
       "       [    0, 31000, 31000, ..., 23000, 23000, 23000],\n",
       "       ...,\n",
       "       [    0, 31000, 31000, ..., 50000, 50000, 50000],\n",
       "       [    0, 31000, 31000, ..., 50000, 50000, 50000],\n",
       "       [    0, 31000, 31000, ..., 50000, 50000, 50000]], dtype=uint16)</pre></div></li><li class='xr-var-item'><div class='xr-var-name'><span>train_id</span></div><div class='xr-var-dims'>(y, x)</div><div class='xr-var-dtype'>uint16</div><div class='xr-var-preview xr-preview'>0 22 22 22 22 22 ... 26 26 26 26 26</div><input id='attrs-52097d56-f972-4110-a09f-38082cacfacd' class='xr-var-attrs-in' type='checkbox' ><label for='attrs-52097d56-f972-4110-a09f-38082cacfacd' title='Show/Hide attributes'><svg class='icon xr-icon-file-text2'><use xlink:href='#icon-file-text2'></use></svg></label><input id='data-70cc80c3-4aa9-478d-a705-b58ae6e0e481' class='xr-var-data-in' type='checkbox'><label for='data-70cc80c3-4aa9-478d-a705-b58ae6e0e481' title='Show/Hide data repr'><svg class='icon xr-icon-database'><use xlink:href='#icon-database'></use></svg></label><div class='xr-var-attrs'><dl class='xr-attrs'><dt><span>name :</span></dt><dd>train_id</dd><dt><span>long_name :</span></dt><dd>train_id</dd><dt><span>_FillValue :</span></dt><dd>0</dd></dl></div><div class='xr-var-data'><pre>array([[ 0, 22, 22, ..., 19, 19, 19],\n",
       "       [ 0, 22, 22, ..., 19, 19, 19],\n",
       "       [ 0, 22, 22, ..., 19, 19, 19],\n",
       "       ...,\n",
       "       [ 0, 22, 22, ..., 26, 26, 26],\n",
       "       [ 0, 22, 22, ..., 26, 26, 26],\n",
       "       [ 0, 22, 22, ..., 26, 26, 26]], dtype=uint16)</pre></div></li><li class='xr-var-item'><div class='xr-var-name'><span>raw</span></div><div class='xr-var-dims'>(band, y, x)</div><div class='xr-var-dtype'>float64</div><div class='xr-var-preview xr-preview'>294.0 293.0 274.0 ... 36.09 37.32</div><input id='attrs-b3560b8d-ffd0-4004-b369-d25f426a94e4' class='xr-var-attrs-in' type='checkbox' ><label for='attrs-b3560b8d-ffd0-4004-b369-d25f426a94e4' title='Show/Hide attributes'><svg class='icon xr-icon-file-text2'><use xlink:href='#icon-file-text2'></use></svg></label><input id='data-f5c21832-4fd5-4994-b158-2a21f64b62ac' class='xr-var-data-in' type='checkbox'><label for='data-f5c21832-4fd5-4994-b158-2a21f64b62ac' title='Show/Hide data repr'><svg class='icon xr-icon-database'><use xlink:href='#icon-database'></use></svg></label><div class='xr-var-attrs'><dl class='xr-attrs'><dt><span>scale_factor :</span></dt><dd>1.0</dd><dt><span>add_offset :</span></dt><dd>0.0</dd><dt><span>long_name :</span></dt><dd>(&#x27;B4 (665 nm)&#x27;, &#x27;B3 (560 nm)&#x27;, &#x27;B2 (490 nm)&#x27;, &#x27;B8 (842 nm)&#x27;, &#x27;SRB5 (705 nm)&#x27;, &#x27;SRB6 (740 nm)&#x27;, &#x27;SRB7 (783 nm)&#x27;, &#x27;SRB8A (865 nm)&#x27;, &#x27;SRB11 (1610 nm)&#x27;, &#x27;SRB12 (2190 nm)&#x27;)</dd><dt><span>_FillValue :</span></dt><dd>1.7976931348623157e+308</dd></dl></div><div class='xr-var-data'><pre>array([[[ 294.        ,  293.        ,  274.        , ...,\n",
       "          755.        ,  800.        ,  857.        ],\n",
       "        [ 284.        ,  304.        ,  290.        , ...,\n",
       "          689.        ,  857.        ,  893.        ],\n",
       "        [ 291.        ,  276.        ,  289.        , ...,\n",
       "          766.        ,  800.        ,  694.        ],\n",
       "        ...,\n",
       "        [ 343.        ,  355.        ,  550.        , ...,\n",
       "          155.        ,  155.        ,  154.        ],\n",
       "        [ 246.        ,  303.        ,  555.        , ...,\n",
       "          155.        ,  155.        ,  157.        ],\n",
       "        [ 245.        ,  354.        ,  631.        , ...,\n",
       "          155.        ,  155.        ,  157.        ]],\n",
       "\n",
       "       [[ 441.        ,  428.        ,  447.        , ...,\n",
       "          819.        ,  837.        ,  891.        ],\n",
       "        [ 438.        ,  450.        ,  454.        , ...,\n",
       "          833.        ,  916.        ,  930.        ],\n",
       "        [ 459.        ,  430.        ,  441.        , ...,\n",
       "          897.        ,  873.        ,  779.        ],\n",
       "...\n",
       "        [1672.06945801, 1760.80993652, 1990.38342285, ...,\n",
       "           67.71208954,   54.74780273,   42.42175293],\n",
       "        [1381.51989746, 1460.59753418, 1809.57080078, ...,\n",
       "           55.77806854,   48.13862991,   47.22008896],\n",
       "        [1313.94018555, 1426.21520996, 1760.92456055, ...,\n",
       "           48.17379379,   42.09281158,   50.20042419]],\n",
       "\n",
       "       [[ 587.2489624 ,  592.35522461,  609.22583008, ...,\n",
       "         1678.8848877 , 1740.1973877 , 1797.53674316],\n",
       "        [ 592.93292236,  609.45550537,  607.81561279, ...,\n",
       "         1683.85839844, 1784.26293945, 1797.62487793],\n",
       "        [ 603.83642578,  601.19464111,  601.06536865, ...,\n",
       "         1727.63500977, 1694.8034668 , 1600.09545898],\n",
       "        ...,\n",
       "        [ 786.30908203,  868.33612061, 1077.98254395, ...,\n",
       "           44.83976364,   43.10777664,   36.45513916],\n",
       "        [ 646.92089844,  717.93170166,  975.06268311, ...,\n",
       "           44.82836151,   40.54868317,   37.66407776],\n",
       "        [ 617.7467041 ,  736.61407471,  978.53063965, ...,\n",
       "           41.53192902,   36.0899086 ,   37.31822968]]])</pre></div></li></ul></div></li><li class='xr-section-item'><input id='section-df6c02e4-52c7-4733-afad-4e5b14635f9c' class='xr-section-summary-in' type='checkbox'  checked><label for='section-df6c02e4-52c7-4733-afad-4e5b14635f9c' class='xr-section-summary' >Attributes: <span>(8)</span></label><div class='xr-section-inline-details'></div><div class='xr-section-details'><dl class='xr-attrs'><dt><span>patch_id :</span></dt><dd>54424</dd><dt><span>FUA :</span></dt><dd>STOCKHOLM</dd><dt><span>long_name :</span></dt><dd>(&#x27;B4 (665 nm)&#x27;, &#x27;B3 (560 nm)&#x27;, &#x27;B2 (490 nm)&#x27;, &#x27;B8 (842 nm)&#x27;, &#x27;SRB5 (705 nm)&#x27;, &#x27;SRB6 (740 nm)&#x27;, &#x27;SRB7 (783 nm)&#x27;, &#x27;SRB8A (865 nm)&#x27;, &#x27;SRB11 (1610 nm)&#x27;, &#x27;SRB12 (2190 nm)&#x27;)</dd><dt><span>s2_file_name :</span></dt><dd>S2A_MSIL2A_20180628T101031_N9999_R022_T33VXF_20220421T221214.tif</dd><dt><span>sensing_start :</span></dt><dd>20180628T101031</dd><dt><span>Relative_orbit :</span></dt><dd>R022</dd><dt><span>Tile :</span></dt><dd>T33VXF</dd><dt><span>prod_discriminator :</span></dt><dd>20220421T221214</dd></dl></div></li></ul></div></div>"
      ],
      "text/plain": [
       "<xarray.Dataset>\n",
       "Dimensions:      (y: 256, x: 256, band: 10)\n",
       "Coordinates:\n",
       "  * y            (y) float64 4.035e+06 4.035e+06 ... 4.038e+06 4.038e+06\n",
       "  * x            (x) float64 4.74e+06 4.74e+06 4.74e+06 ... 4.738e+06 4.738e+06\n",
       "    spatial_ref  int64 0\n",
       "  * band         (band) int64 1 2 3 4 5 6 7 8 9 10\n",
       "Data variables:\n",
       "    class_code   (y, x) uint16 0 31000 31000 31000 ... 50000 50000 50000 50000\n",
       "    train_id     (y, x) uint16 0 22 22 22 22 22 22 22 ... 26 26 26 26 26 26 26\n",
       "    raw          (band, y, x) float64 294.0 293.0 274.0 ... 41.53 36.09 37.32\n",
       "Attributes:\n",
       "    patch_id:            54424\n",
       "    FUA:                 STOCKHOLM\n",
       "    long_name:           ('B4 (665 nm)', 'B3 (560 nm)', 'B2 (490 nm)', 'B8 (8...\n",
       "    s2_file_name:        S2A_MSIL2A_20180628T101031_N9999_R022_T33VXF_2022042...\n",
       "    sensing_start:       20180628T101031\n",
       "    Relative_orbit:      R022\n",
       "    Tile:                T33VXF\n",
       "    prod_discriminator:  20220421T221214"
      ]
     },
     "execution_count": 9,
     "metadata": {},
     "output_type": "execute_result"
    }
   ],
   "source": [
    "cube\n"
   ]
  },
  {
   "cell_type": "markdown",
   "id": "e29143a4",
   "metadata": {},
   "source": [
    "### split train/test/val\n",
    "\n",
    "1. split dataset (if satisfied, execute step 2)\n",
    "2. reorganize files after split"
   ]
  },
  {
   "cell_type": "code",
   "execution_count": 3,
   "id": "4009c299",
   "metadata": {},
   "outputs": [
    {
     "name": "stdout",
     "output_type": "stream",
     "text": [
      "total: 3313 train: 2638 80.0 test: 330 10.0 val: 345 10.0\n"
     ]
    }
   ],
   "source": [
    "#1 split dataset\n",
    "train = 0.8\n",
    "test = 0.5 #of remaining -train\n",
    "\n",
    "df = np.asarray(glob.glob(os.path.join(sdir,'*/*/*.nc')))\n",
    "total = len(df)\n",
    "msk = np.random.rand(len(df)) <train\n",
    "len(msk[msk==True])/len(msk)\n",
    "\n",
    "train = df[msk]\n",
    "testval = df[~msk]\n",
    "msk = np.random.rand(len(testval))<test\n",
    "test=testval[msk]\n",
    "val = testval[~msk]\n",
    "\n",
    "print('total:',total,'train:', len(train) ,round(len(train)/len(df)*100,0),'test:',len(test),round(len(test)/len(df)*100,0),'val:',len(val),round(len(val)/len(df)*100,0))"
   ]
  },
  {
   "cell_type": "code",
   "execution_count": 4,
   "id": "63d28b42",
   "metadata": {},
   "outputs": [
    {
     "name": "stdout",
     "output_type": "stream",
     "text": [
      "/home/exjobbare/projects/datadrive0/deepSat/processed-data/dsen_2_256_split/timeperiod1/train\n",
      "/home/exjobbare/projects/datadrive0/deepSat/processed-data/dsen_2_256_split/timeperiod1/test\n",
      "/home/exjobbare/projects/datadrive0/deepSat/processed-data/dsen_2_256_split/timeperiod1/val\n"
     ]
    }
   ],
   "source": [
    "# step 2 copy files to 'source_split' '/train' '/test' or '/val'\n",
    "if train.size>0: \n",
    "    org_files(train,mode='train')\n",
    "if test.size>0:\n",
    "    org_files(test,mode='test')\n",
    "if val.size>0:\n",
    "    org_files(val,mode='val')\n"
   ]
  },
  {
   "cell_type": "code",
   "execution_count": 5,
   "id": "917af982-2a9e-4307-8b99-1feba6f76e73",
   "metadata": {},
   "outputs": [
    {
     "data": {
      "text/plain": [
       "[]"
      ]
     },
     "execution_count": 5,
     "metadata": {},
     "output_type": "execute_result"
    }
   ],
   "source": []
  },
  {
   "cell_type": "code",
   "execution_count": 24,
   "id": "ec4d27f1-c4ed-43f7-97e4-da9add4c2df8",
   "metadata": {},
   "outputs": [],
   "source": [
    "# preprocess fua one by one \n",
    "# run in terminal: ipcluster start -n N  where -n is number of clusters, \n",
    "# the parallel computing does not work properly (it runs sequentialy on each cluster so this needs further investigation)\n",
    "# uncomment the one to process (rc[i] where i defines wich cluster to use, make sure i<N)\n",
    "\n",
    "from ipyparallel import Client\n",
    "\n",
    "\n",
    "def process_fua(path):\n",
    "\n",
    "\n",
    "    bad_patch=[]\n",
    "    fua_labls,fua_bound = open_fua(path)             # open fua layers\n",
    "    tiles_inters = s2tiles.sjoin(fua_bound, predicate='intersects')  #get intersecting tiles for fua\n",
    "    fua_name = str_to_oao(fua_bound.fua_name[0])\n",
    "    \n",
    "    for tile in tqdm(tiles_inters.itertuples(),desc='Intersecting tiles',total=len(tiles_inters)): # for every intersecting tile\n",
    "        \n",
    "        # select patches within curr tile\n",
    "        curr_tile = s2tiles[s2tiles.Name.isin([tile.Name])]                                               \n",
    "        patches_within = get_obj_within(get_obj_within(scb_grid,curr_tile),fua_bound) #select patches(grid) within curr_tile and within fua\n",
    "        #savedir\n",
    "        savedir = os.path.join(sdir,'{}/{}/'.format(fua_name,tile.Name))\n",
    "        #print(savedir)\n",
    "        #open curr tile \n",
    "        s2_tile = open_tile(tile.Name,s2_path)\n",
    "        \n",
    "        for patch in tqdm(patches_within.itertuples(),total=len(patches_within), desc='FUA: {}, Tile: {}'.format(fua_name,tile.Name)):\n",
    "            \n",
    "            # get current patch and clip labels to patch extent\n",
    "            curr_patch = scb_grid[(scb_grid.id.isin([patch.id]))]\n",
    "            # clip tile and labels to patch extent\n",
    "            s2_patch = clip_tile(s2_tile,curr_patch)\n",
    "            patch_labls = fua_labls.clip(curr_patch)\n",
    "            #rasterize patch labels \n",
    "            try:\n",
    "                cube = rasterize(patch_labls)\n",
    "            except:\n",
    "                bad_patch.append(patch.id)\n",
    "            else:    \n",
    "                #merge s2_patch and patch labels\n",
    "                cube = cube.merge(s2_patch.rio.reproject_match(cube)) #append to cube\n",
    "                # reduce coordinate dimensions by one\n",
    "                if cube.dims['x'] > patch_size:\n",
    "                   cube=cube.isel(x=slice(None, -1), y=slice(None, -1))           \n",
    "            \n",
    "                #set attributes to cube before saving\n",
    "                cube.attrs[\"patch_id\"] = patch.id\n",
    "                cube.attrs['FUA'] = fua_name\n",
    "                for key,value in get_tile_info(tile.Name,s2_path).items():\n",
    "                    cube.attrs[key] = value\n",
    "\n",
    "\n",
    "                cube.train_id.attrs['_fillValue']=255\n",
    "                cube.class_code.attrs['_fillValue']=255\n",
    "                save_cube(cube,savedir)\n",
    "           \n",
    "\n",
    "    return(savedir)\n",
    "\n",
    "rc = Client()\n",
    "#rc= cluster\n",
    "#dwiev = rc[:]\n",
    "\n",
    "\n",
    "#process_fua(ua_paths[0])    \n",
    "#stockholm=rc[0].apply(process_fua(ua_paths[0])) #Stockholm\n",
    "#jonkoping=rc[1].apply(process_fua(ua_paths[1]))  #JONKOPING\n",
    "#linkoping=rc[2].apply(process_fua(ua_paths[2]))  #Linköping (33VWF not processed)\n",
    "#malmo=rc[3].apply(process_fua(ua_paths[3]))  # Malmö  \n",
    "#goteborg=rc[4].apply(process_fua(ua_paths[4])) #Gotebprg\n",
    "#umea=rc[5].apply(process_fua(ua_paths[5]))      #umea\n",
    "#uppsala=rc[6].apply(process_fua(ua_paths[6])) #uppsala\n",
    "#orebro=rc[7].apply(process_fua(ua_paths[7]))    #orebro\n",
    "#boras=rc[8].apply(process_fua(ua_paths[8]))    #boras\n",
    "#helsingborg=rc[9].apply(process_fua(ua_paths[9]))   #helsingborg\n",
    "#vasteras=rc[10].apply(process_fua(ua_paths[10])) #vasteras\n",
    "#norrkoping= rc[11].apply(process_fua(ua_paths[11])) #norrkoping\n"
   ]
  },
  {
   "cell_type": "code",
   "execution_count": 36,
   "id": "4edcd591-6ca7-4332-9c77-536b63d642e0",
   "metadata": {},
   "outputs": [
    {
     "name": "stdout",
     "output_type": "stream",
     "text": [
      "Starting 6 engines with <class 'ipyparallel.cluster.launcher.LocalEngineSetLauncher'>\n"
     ]
    },
    {
     "data": {
      "application/vnd.jupyter.widget-view+json": {
       "model_id": "c50000e5400c470bb8a1ac7d36b6e26f",
       "version_major": 2,
       "version_minor": 0
      },
      "text/plain": [
       "  0%|          | 0/6 [00:00<?, ?engine/s]"
      ]
     },
     "metadata": {},
     "output_type": "display_data"
    },
    {
     "name": "stdout",
     "output_type": "stream",
     "text": [
      "importing open_fua from preprocess.uaUtils on engine(s)\n",
      "importing os on engine(s)\n",
      "importing glob on engine(s)\n",
      "importing h5netcdf on engine(s)\n",
      "importing rioxarray on engine(s)\n",
      "importing geopandas on engine(s)\n",
      "importing numpy on engine(s)\n",
      "importing tqdm from tqdm.notebook on engine(s)\n",
      "importing search_product,open_tile,get_tile_info,get_prod_info from preprocess.s2Utils on engine(s)\n",
      "importing str_to_oao,class_dict,org_files from preprocess.utils on engine(s)\n",
      "importing make_geocube from geocube.api.core on engine(s)\n",
      "importing partial from functools on engine(s)\n",
      "importing rasterize_image from geocube.rasterize on engine(s)\n",
      "importing class_dict from preprocess.classDict on engine(s)\n",
      "importing shutil on engine(s)\n"
     ]
    },
    {
     "data": {
      "application/vnd.jupyter.widget-view+json": {
       "model_id": "5978ca8c4de64101be60753b06ce8a7d",
       "version_major": 2,
       "version_minor": 0
      },
      "text/plain": [
       "Intersecting tiles:   0%|          | 0/4 [00:00<?, ?it/s]"
      ]
     },
     "metadata": {},
     "output_type": "display_data"
    },
    {
     "data": {
      "application/vnd.jupyter.widget-view+json": {
       "model_id": "c782e847c3af4ceb8f3a4e62b8a4eaca",
       "version_major": 2,
       "version_minor": 0
      },
      "text/plain": [
       "FUA: STOCKHOLM, Tile: 33VXF:   0%|          | 0/324 [00:00<?, ?it/s]"
      ]
     },
     "metadata": {},
     "output_type": "display_data"
    },
    {
     "ename": "KeyboardInterrupt",
     "evalue": "",
     "output_type": "error",
     "traceback": [
      "\u001b[0;31m---------------------------------------------------------------------------\u001b[0m",
      "\u001b[0;31mKeyboardInterrupt\u001b[0m                         Traceback (most recent call last)",
      "Input \u001b[0;32mIn [36]\u001b[0m, in \u001b[0;36m<cell line: 164>\u001b[0;34m()\u001b[0m\n\u001b[1;32m    159\u001b[0m     \u001b[38;5;28;01mreturn\u001b[39;00m(\u001b[38;5;124m'\u001b[39m\u001b[38;5;124mtest\u001b[39m\u001b[38;5;124m'\u001b[39m)\n\u001b[1;32m    160\u001b[0m \u001b[38;5;66;03m#scb_grid[scb_grid.id.isin(scb_grid.sjoin(curr_tile,predicate='within').id]\u001b[39;00m\n\u001b[1;32m    161\u001b[0m \n\u001b[1;32m    162\u001b[0m \n\u001b[1;32m    163\u001b[0m \u001b[38;5;66;03m#print(proc_fua([ua_paths[3]],[s2tiles],[scb_grid],[sdir],[s2_path]))\u001b[39;00m\n\u001b[0;32m--> 164\u001b[0m \u001b[38;5;28mprint\u001b[39m(\u001b[43mproc_fua\u001b[49m\u001b[43m(\u001b[49m\u001b[43mua_paths\u001b[49m\u001b[43m[\u001b[49m\u001b[38;5;241;43m0\u001b[39;49m\u001b[43m]\u001b[49m\u001b[43m)\u001b[49m)\n",
      "Input \u001b[0;32mIn [36]\u001b[0m, in \u001b[0;36mproc_fua\u001b[0;34m(path)\u001b[0m\n\u001b[1;32m    131\u001b[0m \u001b[38;5;66;03m# clip tile and labels to patch extent\u001b[39;00m\n\u001b[1;32m    132\u001b[0m s2_patch \u001b[38;5;241m=\u001b[39m clip_tile(s2_tile,curr_patch)\n\u001b[0;32m--> 133\u001b[0m patch_labls \u001b[38;5;241m=\u001b[39m \u001b[43mfua_labls\u001b[49m\u001b[38;5;241;43m.\u001b[39;49m\u001b[43mclip\u001b[49m\u001b[43m(\u001b[49m\u001b[43mcurr_patch\u001b[49m\u001b[43m)\u001b[49m\n\u001b[1;32m    134\u001b[0m \u001b[38;5;66;03m#rasterize patch labels \u001b[39;00m\n\u001b[1;32m    135\u001b[0m \u001b[38;5;28;01mtry\u001b[39;00m:\n",
      "File \u001b[0;32m~/software/miniconda3/envs/preprocess/lib/python3.10/site-packages/geopandas/geodataframe.py:2106\u001b[0m, in \u001b[0;36mGeoDataFrame.clip\u001b[0;34m(self, mask, keep_geom_type)\u001b[0m\n\u001b[1;32m   2060\u001b[0m \u001b[38;5;28;01mdef\u001b[39;00m \u001b[38;5;21mclip\u001b[39m(\u001b[38;5;28mself\u001b[39m, mask, keep_geom_type\u001b[38;5;241m=\u001b[39m\u001b[38;5;28;01mFalse\u001b[39;00m):\n\u001b[1;32m   2061\u001b[0m     \u001b[38;5;124;03m\"\"\"Clip points, lines, or polygon geometries to the mask extent.\u001b[39;00m\n\u001b[1;32m   2062\u001b[0m \n\u001b[1;32m   2063\u001b[0m \u001b[38;5;124;03m    Both layers must be in the same Coordinate Reference System (CRS).\u001b[39;00m\n\u001b[0;32m   (...)\u001b[0m\n\u001b[1;32m   2104\u001b[0m \u001b[38;5;124;03m    (12, 2)\u001b[39;00m\n\u001b[1;32m   2105\u001b[0m \u001b[38;5;124;03m    \"\"\"\u001b[39;00m\n\u001b[0;32m-> 2106\u001b[0m     \u001b[38;5;28;01mreturn\u001b[39;00m \u001b[43mgeopandas\u001b[49m\u001b[38;5;241;43m.\u001b[39;49m\u001b[43mclip\u001b[49m\u001b[43m(\u001b[49m\u001b[38;5;28;43mself\u001b[39;49m\u001b[43m,\u001b[49m\u001b[43m \u001b[49m\u001b[43mmask\u001b[49m\u001b[38;5;241;43m=\u001b[39;49m\u001b[43mmask\u001b[49m\u001b[43m,\u001b[49m\u001b[43m \u001b[49m\u001b[43mkeep_geom_type\u001b[49m\u001b[38;5;241;43m=\u001b[39;49m\u001b[43mkeep_geom_type\u001b[49m\u001b[43m)\u001b[49m\n",
      "File \u001b[0;32m~/software/miniconda3/envs/preprocess/lib/python3.10/site-packages/geopandas/tools/clip.py:127\u001b[0m, in \u001b[0;36mclip\u001b[0;34m(gdf, mask, keep_geom_type)\u001b[0m\n\u001b[1;32m    125\u001b[0m \u001b[38;5;28;01melse\u001b[39;00m:\n\u001b[1;32m    126\u001b[0m     box_mask \u001b[38;5;241m=\u001b[39m mask\u001b[38;5;241m.\u001b[39mbounds\n\u001b[0;32m--> 127\u001b[0m box_gdf \u001b[38;5;241m=\u001b[39m \u001b[43mgdf\u001b[49m\u001b[38;5;241;43m.\u001b[39;49m\u001b[43mtotal_bounds\u001b[49m\n\u001b[1;32m    128\u001b[0m \u001b[38;5;28;01mif\u001b[39;00m \u001b[38;5;129;01mnot\u001b[39;00m (\n\u001b[1;32m    129\u001b[0m     ((box_mask[\u001b[38;5;241m0\u001b[39m] \u001b[38;5;241m<\u001b[39m\u001b[38;5;241m=\u001b[39m box_gdf[\u001b[38;5;241m2\u001b[39m]) \u001b[38;5;129;01mand\u001b[39;00m (box_gdf[\u001b[38;5;241m0\u001b[39m] \u001b[38;5;241m<\u001b[39m\u001b[38;5;241m=\u001b[39m box_mask[\u001b[38;5;241m2\u001b[39m]))\n\u001b[1;32m    130\u001b[0m     \u001b[38;5;129;01mand\u001b[39;00m ((box_mask[\u001b[38;5;241m1\u001b[39m] \u001b[38;5;241m<\u001b[39m\u001b[38;5;241m=\u001b[39m box_gdf[\u001b[38;5;241m3\u001b[39m]) \u001b[38;5;129;01mand\u001b[39;00m (box_gdf[\u001b[38;5;241m1\u001b[39m] \u001b[38;5;241m<\u001b[39m\u001b[38;5;241m=\u001b[39m box_mask[\u001b[38;5;241m3\u001b[39m]))\n\u001b[1;32m    131\u001b[0m ):\n\u001b[1;32m    132\u001b[0m     \u001b[38;5;28;01mreturn\u001b[39;00m gdf\u001b[38;5;241m.\u001b[39miloc[:\u001b[38;5;241m0\u001b[39m]\n",
      "File \u001b[0;32m~/software/miniconda3/envs/preprocess/lib/python3.10/site-packages/geopandas/base.py:2584\u001b[0m, in \u001b[0;36mGeoPandasBase.total_bounds\u001b[0;34m(self)\u001b[0m\n\u001b[1;32m   2567\u001b[0m \u001b[38;5;129m@property\u001b[39m\n\u001b[1;32m   2568\u001b[0m \u001b[38;5;28;01mdef\u001b[39;00m \u001b[38;5;21mtotal_bounds\u001b[39m(\u001b[38;5;28mself\u001b[39m):\n\u001b[1;32m   2569\u001b[0m     \u001b[38;5;124;03m\"\"\"Returns a tuple containing ``minx``, ``miny``, ``maxx``, ``maxy``\u001b[39;00m\n\u001b[1;32m   2570\u001b[0m \u001b[38;5;124;03m    values for the bounds of the series as a whole.\u001b[39;00m\n\u001b[1;32m   2571\u001b[0m \n\u001b[0;32m   (...)\u001b[0m\n\u001b[1;32m   2582\u001b[0m \u001b[38;5;124;03m    array([ 0., -1.,  3.,  2.])\u001b[39;00m\n\u001b[1;32m   2583\u001b[0m \u001b[38;5;124;03m    \"\"\"\u001b[39;00m\n\u001b[0;32m-> 2584\u001b[0m     \u001b[38;5;28;01mreturn\u001b[39;00m \u001b[43mGeometryArray\u001b[49m\u001b[43m(\u001b[49m\u001b[38;5;28;43mself\u001b[39;49m\u001b[38;5;241;43m.\u001b[39;49m\u001b[43mgeometry\u001b[49m\u001b[38;5;241;43m.\u001b[39;49m\u001b[43mvalues\u001b[49m\u001b[43m)\u001b[49m\u001b[38;5;241;43m.\u001b[39;49m\u001b[43mtotal_bounds\u001b[49m\n",
      "File \u001b[0;32m~/software/miniconda3/envs/preprocess/lib/python3.10/site-packages/geopandas/array.py:915\u001b[0m, in \u001b[0;36mGeometryArray.total_bounds\u001b[0;34m(self)\u001b[0m\n\u001b[1;32m    911\u001b[0m \u001b[38;5;28;01mif\u001b[39;00m \u001b[38;5;28mlen\u001b[39m(\u001b[38;5;28mself\u001b[39m) \u001b[38;5;241m==\u001b[39m \u001b[38;5;241m0\u001b[39m:\n\u001b[1;32m    912\u001b[0m     \u001b[38;5;66;03m# numpy 'min' cannot handle empty arrays\u001b[39;00m\n\u001b[1;32m    913\u001b[0m     \u001b[38;5;66;03m# TODO with numpy >= 1.15, the 'initial' argument can be used\u001b[39;00m\n\u001b[1;32m    914\u001b[0m     \u001b[38;5;28;01mreturn\u001b[39;00m np\u001b[38;5;241m.\u001b[39marray([np\u001b[38;5;241m.\u001b[39mnan, np\u001b[38;5;241m.\u001b[39mnan, np\u001b[38;5;241m.\u001b[39mnan, np\u001b[38;5;241m.\u001b[39mnan])\n\u001b[0;32m--> 915\u001b[0m b \u001b[38;5;241m=\u001b[39m \u001b[38;5;28;43mself\u001b[39;49m\u001b[38;5;241;43m.\u001b[39;49m\u001b[43mbounds\u001b[49m\n\u001b[1;32m    916\u001b[0m \u001b[38;5;28;01mreturn\u001b[39;00m np\u001b[38;5;241m.\u001b[39marray(\n\u001b[1;32m    917\u001b[0m     (\n\u001b[1;32m    918\u001b[0m         np\u001b[38;5;241m.\u001b[39mnanmin(b[:, \u001b[38;5;241m0\u001b[39m]),  \u001b[38;5;66;03m# minx\u001b[39;00m\n\u001b[0;32m   (...)\u001b[0m\n\u001b[1;32m    922\u001b[0m     )\n\u001b[1;32m    923\u001b[0m )\n",
      "File \u001b[0;32m~/software/miniconda3/envs/preprocess/lib/python3.10/site-packages/geopandas/array.py:907\u001b[0m, in \u001b[0;36mGeometryArray.bounds\u001b[0;34m(self)\u001b[0m\n\u001b[1;32m    905\u001b[0m \u001b[38;5;129m@property\u001b[39m\n\u001b[1;32m    906\u001b[0m \u001b[38;5;28;01mdef\u001b[39;00m \u001b[38;5;21mbounds\u001b[39m(\u001b[38;5;28mself\u001b[39m):\n\u001b[0;32m--> 907\u001b[0m     \u001b[38;5;28;01mreturn\u001b[39;00m \u001b[43mvectorized\u001b[49m\u001b[38;5;241;43m.\u001b[39;49m\u001b[43mbounds\u001b[49m\u001b[43m(\u001b[49m\u001b[38;5;28;43mself\u001b[39;49m\u001b[38;5;241;43m.\u001b[39;49m\u001b[43mdata\u001b[49m\u001b[43m)\u001b[49m\n",
      "File \u001b[0;32m~/software/miniconda3/envs/preprocess/lib/python3.10/site-packages/geopandas/_vectorized.py:937\u001b[0m, in \u001b[0;36mbounds\u001b[0;34m(data)\u001b[0m\n\u001b[1;32m    933\u001b[0m     \u001b[38;5;28;01mreturn\u001b[39;00m np\u001b[38;5;241m.\u001b[39mempty((\u001b[38;5;241m0\u001b[39m, \u001b[38;5;241m4\u001b[39m), dtype\u001b[38;5;241m=\u001b[39m\u001b[38;5;124m\"\u001b[39m\u001b[38;5;124mfloat64\u001b[39m\u001b[38;5;124m\"\u001b[39m)\n\u001b[1;32m    934\u001b[0m \u001b[38;5;66;03m# need to explicitly check for empty (in addition to missing) geometries,\u001b[39;00m\n\u001b[1;32m    935\u001b[0m \u001b[38;5;66;03m# as those return an empty tuple, not resulting in a 2D array\u001b[39;00m\n\u001b[1;32m    936\u001b[0m bounds \u001b[38;5;241m=\u001b[39m np\u001b[38;5;241m.\u001b[39marray(\n\u001b[0;32m--> 937\u001b[0m     [\n\u001b[1;32m    938\u001b[0m         geom\u001b[38;5;241m.\u001b[39mbounds\n\u001b[1;32m    939\u001b[0m         \u001b[38;5;28;01mif\u001b[39;00m \u001b[38;5;129;01mnot\u001b[39;00m (geom \u001b[38;5;129;01mis\u001b[39;00m \u001b[38;5;28;01mNone\u001b[39;00m \u001b[38;5;129;01mor\u001b[39;00m geom\u001b[38;5;241m.\u001b[39mis_empty)\n\u001b[1;32m    940\u001b[0m         \u001b[38;5;28;01melse\u001b[39;00m (np\u001b[38;5;241m.\u001b[39mnan, np\u001b[38;5;241m.\u001b[39mnan, np\u001b[38;5;241m.\u001b[39mnan, np\u001b[38;5;241m.\u001b[39mnan)\n\u001b[1;32m    941\u001b[0m         \u001b[38;5;28;01mfor\u001b[39;00m geom \u001b[38;5;129;01min\u001b[39;00m data\n\u001b[1;32m    942\u001b[0m     ]\n\u001b[1;32m    943\u001b[0m )\n\u001b[1;32m    944\u001b[0m \u001b[38;5;28;01mreturn\u001b[39;00m bounds\n",
      "File \u001b[0;32m~/software/miniconda3/envs/preprocess/lib/python3.10/site-packages/geopandas/_vectorized.py:938\u001b[0m, in \u001b[0;36m<listcomp>\u001b[0;34m(.0)\u001b[0m\n\u001b[1;32m    933\u001b[0m     \u001b[38;5;28;01mreturn\u001b[39;00m np\u001b[38;5;241m.\u001b[39mempty((\u001b[38;5;241m0\u001b[39m, \u001b[38;5;241m4\u001b[39m), dtype\u001b[38;5;241m=\u001b[39m\u001b[38;5;124m\"\u001b[39m\u001b[38;5;124mfloat64\u001b[39m\u001b[38;5;124m\"\u001b[39m)\n\u001b[1;32m    934\u001b[0m \u001b[38;5;66;03m# need to explicitly check for empty (in addition to missing) geometries,\u001b[39;00m\n\u001b[1;32m    935\u001b[0m \u001b[38;5;66;03m# as those return an empty tuple, not resulting in a 2D array\u001b[39;00m\n\u001b[1;32m    936\u001b[0m bounds \u001b[38;5;241m=\u001b[39m np\u001b[38;5;241m.\u001b[39marray(\n\u001b[1;32m    937\u001b[0m     [\n\u001b[0;32m--> 938\u001b[0m         \u001b[43mgeom\u001b[49m\u001b[38;5;241;43m.\u001b[39;49m\u001b[43mbounds\u001b[49m\n\u001b[1;32m    939\u001b[0m         \u001b[38;5;28;01mif\u001b[39;00m \u001b[38;5;129;01mnot\u001b[39;00m (geom \u001b[38;5;129;01mis\u001b[39;00m \u001b[38;5;28;01mNone\u001b[39;00m \u001b[38;5;129;01mor\u001b[39;00m geom\u001b[38;5;241m.\u001b[39mis_empty)\n\u001b[1;32m    940\u001b[0m         \u001b[38;5;28;01melse\u001b[39;00m (np\u001b[38;5;241m.\u001b[39mnan, np\u001b[38;5;241m.\u001b[39mnan, np\u001b[38;5;241m.\u001b[39mnan, np\u001b[38;5;241m.\u001b[39mnan)\n\u001b[1;32m    941\u001b[0m         \u001b[38;5;28;01mfor\u001b[39;00m geom \u001b[38;5;129;01min\u001b[39;00m data\n\u001b[1;32m    942\u001b[0m     ]\n\u001b[1;32m    943\u001b[0m )\n\u001b[1;32m    944\u001b[0m \u001b[38;5;28;01mreturn\u001b[39;00m bounds\n",
      "File \u001b[0;32m~/software/miniconda3/envs/preprocess/lib/python3.10/site-packages/shapely/geometry/base.py:475\u001b[0m, in \u001b[0;36mBaseGeometry.bounds\u001b[0;34m(self)\u001b[0m\n\u001b[1;32m    473\u001b[0m     \u001b[38;5;28;01mreturn\u001b[39;00m ()\n\u001b[1;32m    474\u001b[0m \u001b[38;5;28;01melse\u001b[39;00m:\n\u001b[0;32m--> 475\u001b[0m     \u001b[38;5;28;01mreturn\u001b[39;00m \u001b[38;5;28;43mself\u001b[39;49m\u001b[38;5;241;43m.\u001b[39;49m\u001b[43mimpl\u001b[49m\u001b[43m[\u001b[49m\u001b[38;5;124;43m'\u001b[39;49m\u001b[38;5;124;43mbounds\u001b[39;49m\u001b[38;5;124;43m'\u001b[39;49m\u001b[43m]\u001b[49m\u001b[43m(\u001b[49m\u001b[38;5;28;43mself\u001b[39;49m\u001b[43m)\u001b[49m\n",
      "File \u001b[0;32m~/software/miniconda3/envs/preprocess/lib/python3.10/site-packages/shapely/coords.py:187\u001b[0m, in \u001b[0;36mBoundsOp.__call__\u001b[0;34m(self, this)\u001b[0m\n\u001b[1;32m    185\u001b[0m \u001b[38;5;28;01mdef\u001b[39;00m \u001b[38;5;21m__call__\u001b[39m(\u001b[38;5;28mself\u001b[39m, this):\n\u001b[1;32m    186\u001b[0m     \u001b[38;5;28mself\u001b[39m\u001b[38;5;241m.\u001b[39m_validate(this)\n\u001b[0;32m--> 187\u001b[0m     env \u001b[38;5;241m=\u001b[39m \u001b[43mthis\u001b[49m\u001b[38;5;241;43m.\u001b[39;49m\u001b[43menvelope\u001b[49m\n\u001b[1;32m    188\u001b[0m     \u001b[38;5;28;01mif\u001b[39;00m env\u001b[38;5;241m.\u001b[39mgeom_type \u001b[38;5;241m==\u001b[39m \u001b[38;5;124m'\u001b[39m\u001b[38;5;124mPoint\u001b[39m\u001b[38;5;124m'\u001b[39m:\n\u001b[1;32m    189\u001b[0m         \u001b[38;5;28;01mreturn\u001b[39;00m env\u001b[38;5;241m.\u001b[39mbounds\n",
      "File \u001b[0;32m~/software/miniconda3/envs/preprocess/lib/python3.10/site-packages/shapely/geometry/base.py:500\u001b[0m, in \u001b[0;36mBaseGeometry.envelope\u001b[0;34m(self)\u001b[0m\n\u001b[1;32m    497\u001b[0m \u001b[38;5;129m@property\u001b[39m\n\u001b[1;32m    498\u001b[0m \u001b[38;5;28;01mdef\u001b[39;00m \u001b[38;5;21menvelope\u001b[39m(\u001b[38;5;28mself\u001b[39m):\n\u001b[1;32m    499\u001b[0m     \u001b[38;5;124;03m\"\"\"A figure that envelopes the geometry\"\"\"\u001b[39;00m\n\u001b[0;32m--> 500\u001b[0m     \u001b[38;5;28;01mreturn\u001b[39;00m geom_factory(\u001b[38;5;28;43mself\u001b[39;49m\u001b[38;5;241;43m.\u001b[39;49m\u001b[43mimpl\u001b[49m\u001b[43m[\u001b[49m\u001b[38;5;124;43m'\u001b[39;49m\u001b[38;5;124;43menvelope\u001b[39;49m\u001b[38;5;124;43m'\u001b[39;49m\u001b[43m]\u001b[49m\u001b[43m(\u001b[49m\u001b[38;5;28;43mself\u001b[39;49m\u001b[43m)\u001b[49m)\n",
      "File \u001b[0;32m~/software/miniconda3/envs/preprocess/lib/python3.10/site-packages/shapely/topology.py:79\u001b[0m, in \u001b[0;36mUnaryTopologicalOp.__call__\u001b[0;34m(self, this, *args)\u001b[0m\n\u001b[1;32m     78\u001b[0m \u001b[38;5;28;01mdef\u001b[39;00m \u001b[38;5;21m__call__\u001b[39m(\u001b[38;5;28mself\u001b[39m, this, \u001b[38;5;241m*\u001b[39margs):\n\u001b[0;32m---> 79\u001b[0m     \u001b[38;5;28;43mself\u001b[39;49m\u001b[38;5;241;43m.\u001b[39;49m\u001b[43m_validate\u001b[49m\u001b[43m(\u001b[49m\u001b[43mthis\u001b[49m\u001b[43m)\u001b[49m\n\u001b[1;32m     80\u001b[0m     \u001b[38;5;28;01mreturn\u001b[39;00m \u001b[38;5;28mself\u001b[39m\u001b[38;5;241m.\u001b[39mfn(this\u001b[38;5;241m.\u001b[39m_geom, \u001b[38;5;241m*\u001b[39margs)\n",
      "File \u001b[0;32m~/software/miniconda3/envs/preprocess/lib/python3.10/site-packages/shapely/topology.py:17\u001b[0m, in \u001b[0;36mValidating._validate\u001b[0;34m(self, ob, stop_prepared)\u001b[0m\n\u001b[1;32m     15\u001b[0m \u001b[38;5;28;01mclass\u001b[39;00m \u001b[38;5;21;01mValidating\u001b[39;00m:\n\u001b[0;32m---> 17\u001b[0m     \u001b[38;5;28;01mdef\u001b[39;00m \u001b[38;5;21m_validate\u001b[39m(\u001b[38;5;28mself\u001b[39m, ob, stop_prepared\u001b[38;5;241m=\u001b[39m\u001b[38;5;28;01mFalse\u001b[39;00m):\n\u001b[1;32m     18\u001b[0m         \u001b[38;5;28;01mif\u001b[39;00m ob \u001b[38;5;129;01mis\u001b[39;00m \u001b[38;5;28;01mNone\u001b[39;00m \u001b[38;5;129;01mor\u001b[39;00m ob\u001b[38;5;241m.\u001b[39m_geom \u001b[38;5;129;01mis\u001b[39;00m \u001b[38;5;28;01mNone\u001b[39;00m:\n\u001b[1;32m     19\u001b[0m             \u001b[38;5;28;01mraise\u001b[39;00m InvalidGeometryError(\u001b[38;5;124m\"\u001b[39m\u001b[38;5;124mNull geometry supports no operations\u001b[39m\u001b[38;5;124m\"\u001b[39m)\n",
      "\u001b[0;31mKeyboardInterrupt\u001b[0m: "
     ]
    }
   ],
   "source": [
    "##experimental remove later \n",
    "\n",
    "\n",
    "#print(result)\n",
    "\n",
    "import ipyparallel as ipp\n",
    "cluster = ipp.Cluster(n=6)\n",
    "cluster.start_cluster_sync()\n",
    "\n",
    "rc = cluster.connect_client_sync()\n",
    "rc.wait_for_engines(6)\n",
    "rc.ids\n",
    "dview = rc[:]\n",
    "\n",
    "with dview.sync_imports():\n",
    "    from preprocess.uaUtils import open_fua\n",
    "    import os\n",
    "    import glob\n",
    "    import h5netcdf\n",
    "    import rioxarray\n",
    "    import geopandas\n",
    "    import numpy\n",
    "    from tqdm.notebook import tqdm\n",
    "    from preprocess.uaUtils import open_fua\n",
    "    from preprocess.s2Utils import search_product,open_tile, get_tile_info, get_prod_info\n",
    "    from preprocess.utils import str_to_oao, class_dict,org_files\n",
    "    \n",
    "    import geopandas as gp\n",
    "    import os\n",
    "\n",
    "    from geocube.api.core import make_geocube\n",
    "    from functools import partial\n",
    "    from geocube.rasterize import rasterize_image\n",
    "    from preprocess.classDict import class_dict\n",
    "    import shutil\n",
    "    import numpy\n",
    "    import glob\n",
    "    import geopandas\n",
    "\n",
    "\n",
    "    from geocube.api.core import make_geocube\n",
    "    from functools import partial\n",
    "    from geocube.rasterize import rasterize_image\n",
    "    from preprocess.classDict import class_dict\n",
    "    import shutil\n",
    "    import numpy\n",
    "    import glob\n",
    "    \n",
    "\n",
    "    \n",
    "@dview.parallel(block=True)    \n",
    "def rem_rasterize(patch_labls):\n",
    "    patch_labls['train_id'] = patch_labls['code_2018'].apply(lambda x: numpy.uint16(class_dict[str(x)]['train_id']))\n",
    "    patch_labls['class_code'] = patch_labls['code_2018'].apply(lambda  x:  numpy.uint16(int(x)))\n",
    "    roads = patch_labls[patch_labls.code_2018.isin(['12210','12220','12230'])]\n",
    "    \n",
    "    cube  = make_geocube(\n",
    "        vector_data=patch_labls,\n",
    "        measurements=['class_code','train_id'],\n",
    "        resolution=(10,-10),\n",
    "        rasterize_function=partial(rasterize_image,dtype=numpy.dtype('uint16')),\n",
    "        fill = 0\n",
    "    )\n",
    "    \n",
    "    roads = make_geocube(\n",
    "        vector_data=roads,\n",
    "        measurements=['class_code','train_id'],\n",
    "        resolution=(10,-10),\n",
    "        rasterize_function=partial(rasterize_image,all_touched=True,dtype=numpy.dtype('uint16')),\n",
    "            fill=0\n",
    "    )\n",
    "    \n",
    "    cube = roads.where(roads.train_id!=0).combine_first(cube)  #merge roads  \n",
    "    cube = cube.assign(train_id = lambda ds: ds.train_id.astype('uint16'))\n",
    "    cube = cube.assign(class_code = lambda ds: ds.class_code.astype('uint16'))\n",
    "    return(cube)\n",
    "\n",
    "@dview.parallel(block=True)\n",
    "def rem_save_cube(cube,savedir):\n",
    "                # patch filename and \n",
    "    filename = \"PATCH_{i_d}_{tile}_{start}_{fua}_{size}.nc\".format(i_d=cube.attrs['patch_id'],\n",
    "                                                                   tile=cube.attrs['Tile'],\n",
    "                                                                   start=cube.attrs['sensing_start'],\n",
    "                                                                   fua=cube.attrs['FUA'],\n",
    "                                                                   size=cube.dims['x'])\n",
    "              \n",
    "    if not os.path.exists(savedir):\n",
    "        os.makedirs(savedir)\n",
    "    cube.to_netcdf(path=os.path.join(savedir,filename),format='NETCDF4')\n",
    "\n",
    "\n",
    "    \n",
    "#@dview.remote(block=True)\n",
    "#def proc_fua(path,s2tiles,scb_grid,sdir,s2_path):\n",
    "def proc_fua(path):\n",
    "        \n",
    "    def clip_tile(tile,clip_shape):\n",
    "        bounds  = clip_shape.to_crs(tile.rio.crs).total_bounds\n",
    "        patch = tile.rio.clip_box(minx=bounds[0],\n",
    "                                  miny=bounds[1],\n",
    "                                  maxx=bounds[2],\n",
    "                                  maxy=bounds[3])\n",
    "        return(patch)\n",
    "\n",
    "    def get_obj_within(obj,roi):\n",
    "        return obj[(obj.id.isin(obj.sjoin(roi,predicate='within').id))]\n",
    "\n",
    "    res= None\n",
    "    #sdir = sdir[0]\n",
    "    #s2_path=s2_path[0]\n",
    "    #scb_grid = scb_grid[0]\n",
    "    #path = path[0]\n",
    "    #s2tiles = s2tiles[0]\n",
    "    bad_patch=[]\n",
    "    fua_labls,fua_bound = open_fua(path)             # open fua layers\n",
    "    tiles_inters = s2tiles.sjoin(fua_bound, predicate='intersects')  #get intersecting tiles for fua\n",
    "    fua_name = str_to_oao(fua_bound.fua_name[0])\n",
    "    \n",
    "    for tile in tqdm(tiles_inters.itertuples(),desc='Intersecting tiles',total=len(tiles_inters)): # for every intersecting tile\n",
    "        \n",
    "        # select patches within curr tile\n",
    "        curr_tile = s2tiles[s2tiles.Name.isin([tile.Name])]                                               \n",
    "        patches_within = get_obj_within(get_obj_within(scb_grid,curr_tile),fua_bound) #select patches(grid) within curr_tile and within fua\n",
    "        #savedir\n",
    "        savedir = os.path.join(sdir,'{}/{}/'.format(fua_name,tile.Name))\n",
    "        #print(savedir)\n",
    "        #open curr tile \n",
    "        s2_tile = open_tile(tile.Name,s2_path)\n",
    "        \n",
    "        for patch in tqdm(patches_within.itertuples(),total=len(patches_within), desc='FUA: {}, Tile: {}'.format(fua_name,tile.Name)):\n",
    "            \n",
    "            # get current patch and clip labels to patch extent\n",
    "            curr_patch = scb_grid[(scb_grid.id.isin([patch.id]))]\n",
    "            # clip tile and labels to patch extent\n",
    "            s2_patch = clip_tile(s2_tile,curr_patch)\n",
    "            patch_labls = fua_labls.clip(curr_patch)\n",
    "            #rasterize patch labels \n",
    "            try:\n",
    "                cube = rem_rasterize(patch_labls)\n",
    "            except:\n",
    "                bad_patch.append(patch.id)\n",
    "            else:    \n",
    "                #merge s2_patch and patch labels\n",
    "                \n",
    "                cube = cube.merge(s2_patch.rio.reproject_match(cube)) #append to cube\n",
    "                # reduce coordinate dimensions by one\n",
    "                if cube.dims['x'] > patch_size:\n",
    "                    cube=cube.isel(x=slice(None, -1), y=slice(None, -1))           \n",
    "            \n",
    "                #set attributes to cube before saving\n",
    "                cube.attrs[\"patch_id\"] = patch.id\n",
    "                cube.attrs['FUA'] = fua_name\n",
    "                for key,value in get_tile_info(tile.Name,s2_path).items():\n",
    "                    cube.attrs[key] = value\n",
    "\n",
    "\n",
    "                cube.train_id.attrs['_fillValue']=255\n",
    "                cube.class_code.attrs['_fillValue']=255\n",
    "                rem_save_cube(cube,savedir)\n",
    "           \n",
    "    \n",
    "    return('test')\n",
    "#scb_grid[scb_grid.id.isin(scb_grid.sjoin(curr_tile,predicate='within').id]\n",
    "\n",
    "\n",
    "#print(proc_fua([ua_paths[3]],[s2tiles],[scb_grid],[sdir],[s2_path]))\n",
    "print(proc_fua(ua_paths[0]))"
   ]
  },
  {
   "cell_type": "markdown",
   "id": "075a7be5",
   "metadata": {},
   "source": [
    "#### Compact Naming Convention\n",
    "\n",
    "The compact naming convention is arranged as follows:\n",
    "\n",
    "MMM_MSIXXX_YYYYMMDDHHMMSS_Nxxyy_ROOO_Txxxxx_<Product Discriminator>.SAFE\n",
    "\n",
    "The products contain two dates.\n",
    "\n",
    "The first date (YYYYMMDDHHMMSS) is the datatake sensing time.\n",
    "The second date is the \"Product Discriminator\" field, which is 15 characters in length, and is used to distinguish between different end user products from the same datatake. Depending on the instance, the time in this field can be earlier or slightly later than the datatake sensing time.\n",
    "\n",
    "The other components of the filename are:\n",
    "\n",
    "* MMM: is the mission ID(S2A/S2B)\n",
    "* MSIXXX: MSIL1C denotes the Level-1C product level/ MSIL2A denotes the Level-2A product level\n",
    "* YYYYMMDDHHMMSS: the datatake sensing start time\n",
    "* Nxxyy: the PDGS Processing Baseline number (e.g. N0204)\n",
    "* ROOO: Relative Orbit number (R001 - R143)\n",
    "* Txxxxx: Tile Number field\n",
    "\n",
    "SAFE: Product Format (Standard Archive Format for Europe)\n",
    "\n",
    "Source https://sentinel.esa.int/web/sentinel/user-guides/sentinel-2-msi/naming-convention"
   ]
  }
 ],
 "metadata": {
  "kernelspec": {
   "display_name": "Python [conda env:preprocess]",
   "language": "python",
   "name": "conda-env-preprocess-py"
  },
  "language_info": {
   "codemirror_mode": {
    "name": "ipython",
    "version": 3
   },
   "file_extension": ".py",
   "mimetype": "text/x-python",
   "name": "python",
   "nbconvert_exporter": "python",
   "pygments_lexer": "ipython3",
   "version": "3.10.4"
  }
 },
 "nbformat": 4,
 "nbformat_minor": 5
}
