{
 "cells": [
  {
   "cell_type": "code",
   "execution_count": 1,
   "metadata": {},
   "outputs": [],
   "source": [
    "from dataset.utils import pNormalize, classCount\n",
    "from dataset.datasets import sentinel\n",
    "from model.models import UNET\n",
    "from torch.utils.data import DataLoader\n",
    "from train.metrics import computeConfMats, computeClassMetrics, wma, printClassMetrics, printModelMetrics, plotConfusionMatrices, plotConfusionMatrix\n",
    "import torch\n",
    "\n",
    "q_hi = torch.tensor([2102.0, 1716.0, 1398.0, 4732.0, 2434.42919921875, 3701.759765625, 4519.2177734375, 4857.7734375, 3799.80322265625, 3008.8935546875])\n",
    "q_lo = torch.tensor([102.0, 159.0, 107.0, 77.0, 106.98081970214844, 79.00384521484375, 86.18966674804688, 70.40167236328125, 50.571197509765625, 36.95356750488281])    \n",
    "norm = pNormalize(maxPer=q_hi,minPer=q_lo)\n",
    "\n",
    "# Hyperparams\n",
    "BATCH_SIZE = 4\n",
    "NUM_WORKERS = 0\n",
    "\n",
    "# Create experimental dataset, rgb=True for 3 channels (default = False)\n",
    "# POINT TO FOLDER WITH TIMEPERIOD(S) WITH SUBFOLDERS: 'test, 'train, 'val\n",
    "test_set = sentinel(root_dir='./', img_transform=norm,data=\"test\")\n",
    "\n",
    "# Pass in the dataset into DataLoader to create an iterable over the dataset\n",
    "test_loader = DataLoader(test_set, batch_size=BATCH_SIZE, num_workers=NUM_WORKERS)\n",
    "\n",
    "# Define model\n",
    "dataiter = iter(test_loader)\n",
    "images, labels = dataiter.next()\n",
    "model = UNET(in_channels=images.shape[1],classes=28)\n",
    "model.load_state_dict(torch.load('trained_model.pt',map_location=torch.device('cpu'))) # Pass in 'trained_model.pt' and load model\n",
    "\n",
    "# 1 EPOCH TESTING\n",
    "dataiter = iter(test_loader) # Create an object which can be iterated one element at a time\n",
    "model.eval() # TOGGLE ON EVALUATION MODE\n",
    "with torch.no_grad():\n",
    "     # n_class - unclassified class, i.e. 28-1 = 27\n",
    "     cMats = torch.zeros((27,2,2),dtype=torch.int32)\n",
    "     class_metrics = torch.zeros((27,6),dtype=torch.float32)\n",
    "     \n",
    "     model_metrics = torch.zeros(6,dtype=torch.float32)\n",
    "         \n",
    "     predarr = torch.tensor([],dtype=torch.int32)\n",
    "     labelarr = torch.tensor([],dtype=torch.int32)\n",
    "     \n",
    "     for images, labels in dataiter:\n",
    "          outputs = model(images)\n",
    "          preds = torch.nn.functional.softmax(outputs,dim=1)\n",
    "          preds = torch.argmax(preds,dim=1)\n",
    "          cMats += computeConfMats(labels,preds)\n",
    "          \n",
    "          # Flatten dimensions BxHxW --> B*H*W and concatenate\n",
    "          predarr = torch.cat((predarr, preds.reshape(-1)))\n",
    "          labelarr = torch.cat((labelarr, labels.reshape(-1)))\n",
    "#model.train() # TOGGLE ON TRAIN MODE WHEN EVALUATION IS DONE"
   ]
  },
  {
   "cell_type": "code",
   "execution_count": 2,
   "metadata": {},
   "outputs": [],
   "source": [
    "# Get class counts for dataset\n",
    "classCounts,_ = classCount(test_loader)"
   ]
  },
  {
   "cell_type": "code",
   "execution_count": null,
   "metadata": {},
   "outputs": [],
   "source": [
    "# Compute class and model metrics\n",
    "class_metrics = computeClassMetrics(cMats)\n",
    "model_metrics = wma(class_metrics,classCounts)"
   ]
  },
  {
   "cell_type": "code",
   "execution_count": null,
   "metadata": {},
   "outputs": [],
   "source": [
    "# Print model metrics\n",
    "printModelMetrics(model_metrics)"
   ]
  },
  {
   "cell_type": "code",
   "execution_count": null,
   "metadata": {},
   "outputs": [],
   "source": [
    "# Print class Metrics\n",
    "printClassMetrics(class_metrics,classCounts)"
   ]
  },
  {
   "cell_type": "code",
   "execution_count": null,
   "metadata": {},
   "outputs": [],
   "source": [
    "# Plot N_CLASS X N_CLASS confusion matrix\n",
    "plotConfusionMatrix(yTrue=labelarr,yPred=predarr)"
   ]
  },
  {
   "cell_type": "code",
   "execution_count": null,
   "metadata": {},
   "outputs": [],
   "source": [
    "# Plot Confusion Matrices\n",
    "plotConfusionMatrices(cMats)"
   ]
  },
  {
   "cell_type": "code",
   "execution_count": 8,
   "metadata": {},
   "outputs": [],
   "source": [
    "# Print model metrics to TENSORBOARD. Default path = 'runs/Model_Metrics'\n",
    "printModelMetrics(model_metrics,TB=True)"
   ]
  },
  {
   "cell_type": "code",
   "execution_count": 9,
   "metadata": {},
   "outputs": [],
   "source": [
    "# Print class metrics to TENSORBOARD. Default path = 'runs/Class_metrics'\n",
    "printClassMetrics(class_metrics,classCounts,TB=True)"
   ]
  },
  {
   "cell_type": "code",
   "execution_count": 10,
   "metadata": {},
   "outputs": [],
   "source": [
    "# Plot N_CLASS X N_CLASS confusion matrix to TENSORBOARD. Default path = 'runs/Confusion_Matrix'\n",
    "plotConfusionMatrix(yTrue=labelarr,yPred=predarr,TB=True)"
   ]
  },
  {
   "cell_type": "code",
   "execution_count": 11,
   "metadata": {},
   "outputs": [],
   "source": [
    "# Plot confusion matrices to TENSORBOARD. Default path = 'runs/Confusion_Matrices'\n",
    "plotConfusionMatrices(cMats,TB=True)"
   ]
  }
 ],
 "metadata": {
  "interpreter": {
   "hash": "116fc1d5d5babc57d8e6479c4c50e890e87180efd70e08af79116b08832f9fa1"
  },
  "kernelspec": {
   "display_name": "Python 3.9.7 ('exjobb_deepsat')",
   "language": "python",
   "name": "python3"
  },
  "language_info": {
   "codemirror_mode": {
    "name": "ipython",
    "version": 3
   },
   "file_extension": ".py",
   "mimetype": "text/x-python",
   "name": "python",
   "nbconvert_exporter": "python",
   "pygments_lexer": "ipython3",
   "version": "3.9.7"
  },
  "orig_nbformat": 4
 },
 "nbformat": 4,
 "nbformat_minor": 2
}
